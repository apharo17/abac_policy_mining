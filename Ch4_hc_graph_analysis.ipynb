{
 "cells": [
  {
   "cell_type": "code",
   "execution_count": 6,
   "id": "451b76ed",
   "metadata": {},
   "outputs": [],
   "source": [
    "import numpy as np\n",
    "import pandas as pd\n",
    "import matplotlib.pyplot as plt\n",
    "import igraph as ig\n",
    "from collections import Counter\n",
    "from efficient_apriori import apriori\n",
    "import math\n",
    "\n",
    "from src import acgraph as acg\n",
    "from src import utils as ut\n",
    "from src import xsmining as xsm"
   ]
  },
  {
   "cell_type": "code",
   "execution_count": 7,
   "id": "84974ce3",
   "metadata": {},
   "outputs": [],
   "source": [
    "def get_degdistrib(g, isbottom = True):\n",
    "\n",
    "    vidx_to_deg = dict()\n",
    "    for v in g.vs:\n",
    "        if v['type'] == isbottom:\n",
    "            vidx_to_deg[v.index] = v.degree()\n",
    "    \n",
    "    degrees = list(vidx_to_deg.values())\n",
    "    degree_counter = Counter(degrees)\n",
    "    degree_keys = list(degree_counter.keys())\n",
    "    counts = list(degree_counter.values())\n",
    "\n",
    "    #sorting list based on another list\n",
    "    #https://stackoverflow.com/questions/6618515/sorting-list-based-on-values-from-another-list\n",
    "    temp = {degkey:count for degkey,count in sorted(zip(degree_keys, counts))}\n",
    "    deg_ks = list(temp.keys())\n",
    "    deg_distr = list(temp.values())\n",
    "    \n",
    "    return vidx_to_deg, dict(zip(deg_ks,deg_distr))"
   ]
  },
  {
   "cell_type": "code",
   "execution_count": 8,
   "id": "08a02389",
   "metadata": {},
   "outputs": [],
   "source": [
    "def get_avecc(g):\n",
    "\n",
    "    vidx_to_cc = dict()\n",
    "    \n",
    "    for v in g.vs:\n",
    "\n",
    "        #print(v.index)\n",
    "        neis = g.neighbors(v)\n",
    "        numneis = len(neis)\n",
    "\n",
    "        numcp4 = 0\n",
    "        nump4 = 0\n",
    "\n",
    "        for idx_a in range(numneis-1):\n",
    "            va = g.vs[neis[idx_a]]\n",
    "            neis_a = set(g.neighbors(va))\n",
    "            neis_a = neis_a - {v.index}\n",
    "\n",
    "            for idx_b in range(idx_a+1,numneis):\n",
    "                vb = g.vs[neis[idx_b]]\n",
    "                neis_b = set(g.neighbors(vb))\n",
    "                neis_b = neis_b - {v.index}\n",
    "\n",
    "                numcp4 += len(neis_a & neis_b)\n",
    "                nump4 += len(neis_a | neis_b)\n",
    "\n",
    "        if nump4 > 0:\n",
    "            vidx_to_cc[v.index]=numcp4/nump4\n",
    "        else:\n",
    "            vidx_to_cc[v.index]=0\n",
    "    \n",
    "    ccs = list(vidx_to_cc.values())\n",
    "    return sum(ccs)/len(ccs)"
   ]
  },
  {
   "cell_type": "code",
   "execution_count": 9,
   "id": "45d2ce0e",
   "metadata": {},
   "outputs": [],
   "source": [
    "def homophily(gur, usrlabel_to_attvals, reslabel_to_attvals):\n",
    "\n",
    "    hs = 0\n",
    "    hd = 0\n",
    "\n",
    "    for i,v in enumerate(gur.vs):\n",
    "        vidx = v.index\n",
    "\n",
    "        neigidxs = gur.neighbors(v)\n",
    "        \n",
    "        if not v['type']: #Users \n",
    "            attvalset = set(usrlabel_to_attvals[v['name']])\n",
    "        else:\n",
    "            attvalset = set(reslabel_to_attvals[v['name']])\n",
    "            \n",
    "        \n",
    "        for vidx2 in neigidxs:\n",
    "            neigidxs2 = gur.neighbors(vidx2)\n",
    "\n",
    "            for vidx3 in neigidxs2:\n",
    "                if vidx3 != vidx:\n",
    "                    v3 = gur.vs[vidx3]\n",
    "                    if not v3['type']: #Users \n",
    "                        attvalset3 = set(usrlabel_to_attvals[v3['name']])\n",
    "                    else:\n",
    "                        attvalset3 = set(reslabel_to_attvals[v3['name']])\n",
    "                    \n",
    "                    \n",
    "                    if len(attvalset & attvalset3) > 0:\n",
    "                        hs += 1\n",
    "                    else:\n",
    "                        hd += 1\n",
    "                        \n",
    "    return hs/(hs+hd)\n",
    "                        \n",
    "                        "
   ]
  },
  {
   "cell_type": "code",
   "execution_count": 10,
   "id": "c30d0596",
   "metadata": {},
   "outputs": [],
   "source": [
    "import random\n",
    "\n",
    "\n",
    "def gensyn(gur, usrlabels, reslabels, stop=1):\n",
    "\n",
    "    random.seed(13)\n",
    "\n",
    "    usrdegs = []\n",
    "    resdegs = []\n",
    "    for v in gur.vs:\n",
    "        deg = len(gur.neighbors(v['name']))\n",
    "        if v['type'] == False:\n",
    "            usrdegs.append(deg)\n",
    "        else:\n",
    "            resdegs.append(deg)\n",
    "\n",
    "    usr_tmpidxs = []\n",
    "    res_tmpidxs = []\n",
    "    for i,deg in enumerate(usrdegs):\n",
    "        for _ in range(deg):\n",
    "            usr_tmpidxs.append(i)      \n",
    "    for i,deg in enumerate(resdegs):\n",
    "        for _ in range(deg):\n",
    "            res_tmpidxs.append(i+len(usrdegs))\n",
    "    usr_tmptmpidxs = set(range(len(usr_tmpidxs)))\n",
    "    res_tmptmpidxs = set(range(len(res_tmpidxs)))\n",
    "    \n",
    "    \n",
    "    edges = set()\n",
    "    while len(usr_tmptmpidxs)>stop and len(res_tmptmpidxs)>stop:\n",
    "        idx1 = random.sample(usr_tmptmpidxs, 1)[0]\n",
    "        idx2 = random.sample(res_tmptmpidxs, 1)[0]\n",
    "        vidx1 = usr_tmpidxs[idx1]\n",
    "        vidx2 = res_tmpidxs[idx2]\n",
    "        #print(len(usr_tmptmpidxs))\n",
    "    \n",
    "        if not (vidx1,vidx2) in edges:\n",
    "            edges.add((vidx1,vidx2))\n",
    "            usr_tmptmpidxs.remove(idx1)\n",
    "            res_tmptmpidxs.remove(idx2)\n",
    "\n",
    "    print(len(edges))\n",
    "            \n",
    "    types = []\n",
    "    for i in range(len(usrlabels)):\n",
    "        types.append(False)\n",
    "    for i in range(len(reslabels)):\n",
    "        types.append(True)\n",
    "    \n",
    "    gur_syn = ig.Graph.Bipartite(types=types, edges=list(edges))\n",
    "    \n",
    "    ccidx_to_vertexidxs = [cc for cc in gur_syn.clusters()]\n",
    "    ccidx_to_size = [len(cc) for cc in ccidx_to_vertexidxs]\n",
    "    max_index = ccidx_to_size.index(max(ccidx_to_size))\n",
    "    gur_syn2 = gur_syn.induced_subgraph(ccidx_to_vertexidxs[max_index])\n",
    "    \n",
    "        \n",
    "    return gur_syn2"
   ]
  },
  {
   "cell_type": "markdown",
   "id": "96a2a873",
   "metadata": {},
   "source": [
    "### Load access control graph"
   ]
  },
  {
   "cell_type": "code",
   "execution_count": 11,
   "id": "bb7d82d7",
   "metadata": {},
   "outputs": [
    {
     "name": "stdout",
     "output_type": "stream",
     "text": [
      "Num entries: 1576\n"
     ]
    }
   ],
   "source": [
    "usrlabels, usrlabel_to_attvals, usrname_to_usrlabel, \\\n",
    "reslabels, reslabel_to_attvals, resname_to_reslabel, usrlabel_to_reslabel = xsm.load_dataset(name='HC')\n",
    "print('Num entries:', len(usrlabel_to_reslabel))"
   ]
  },
  {
   "cell_type": "code",
   "execution_count": 12,
   "id": "44e43d25",
   "metadata": {},
   "outputs": [
    {
     "name": "stdout",
     "output_type": "stream",
     "text": [
      "Num usr atts: 6\n",
      "Num att-vals for position: 2\n",
      "Num att-vals for specialties: 9\n",
      "Num att-vals for agentFor: 18\n",
      "Num att-vals for teams: 20\n",
      "Num att-vals for type: 4\n",
      "{'patient': 100, 'agent': 40, 'doctor': 20, 'nurse': 40}\n",
      "Num att-vals for ward: 10\n",
      "\n",
      "Num res atts: 6\n",
      "Num att-vals for author: 176\n",
      "Num att-vals for topics: 12\n",
      "Num att-vals for treatingTeam: 20\n",
      "Num att-vals for patient: 100\n",
      "Num att-vals for type: 2\n",
      "Num att-vals for ward: 10\n"
     ]
    }
   ],
   "source": [
    "usratts = set()\n",
    "usrtups = list()\n",
    "for tups in usrlabel_to_attvals.values():\n",
    "    for tup in tups:\n",
    "        usratts.add(tup[0])\n",
    "        usrtups.append(tup)\n",
    "    \n",
    "print('Num usr atts:', len(usratts))\n",
    "\n",
    "for att in usratts:\n",
    "    usrtups_ = [tup[1] for tup in usrtups if tup[0]==att]\n",
    "    print('Num att-vals for ' + att + ':', len(set(usrtups_)))\n",
    "    if att == 'type':\n",
    "        print(dict(Counter(usrtups_)))\n",
    " \n",
    "resatts = set()\n",
    "restups = list()\n",
    "for tups in reslabel_to_attvals.values():\n",
    "    for tup in tups:\n",
    "        resatts.add(tup[0])\n",
    "        restups.append(tup)\n",
    "\n",
    "print()\n",
    "print('Num res atts:', len(resatts))\n",
    "\n",
    "for att in resatts:\n",
    "    restups_ = [tup[1] for tup in restups if tup[0]==att]\n",
    "    print('Num att-vals for ' + att + ':', len(set(restups_)))\n",
    "    "
   ]
  },
  {
   "cell_type": "code",
   "execution_count": 13,
   "id": "60bab0ff",
   "metadata": {},
   "outputs": [
    {
     "name": "stdout",
     "output_type": "stream",
     "text": [
      "Num of users: 200\n",
      "Num of resources: 420\n",
      "Num of edges: 1576\n"
     ]
    }
   ],
   "source": [
    "#---Create access control graph---\n",
    "gur = xsm.load_gur(usrlabels, reslabels, usrlabel_to_reslabel, save=False)\n",
    "print('Num of users:', len(usrlabels))\n",
    "print('Num of resources:', len(reslabels))\n",
    "print('Num of edges:', len(gur.es))"
   ]
  },
  {
   "cell_type": "code",
   "execution_count": 14,
   "id": "7d043b15",
   "metadata": {},
   "outputs": [
    {
     "name": "stdout",
     "output_type": "stream",
     "text": [
      "Density: 0.01876190476190476\n"
     ]
    }
   ],
   "source": [
    "density = len(gur.es)/(len(usrlabels)*len(reslabels))\n",
    "print('Density:', density)"
   ]
  },
  {
   "cell_type": "code",
   "execution_count": 15,
   "id": "0f735079",
   "metadata": {},
   "outputs": [
    {
     "name": "stdout",
     "output_type": "stream",
     "text": [
      "CC num vertices: 620\n"
     ]
    }
   ],
   "source": [
    "ccidx_to_vertexidxs = [cc for cc in gur.connected_components()]\n",
    "ccidx_to_size = [len(cc) for cc in ccidx_to_vertexidxs]\n",
    "max_index = ccidx_to_size.index(max(ccidx_to_size))\n",
    "maxcc_gur = gur.induced_subgraph(ccidx_to_vertexidxs[max_index])\n",
    "print('CC num vertices:', len(maxcc_gur.vs))"
   ]
  },
  {
   "cell_type": "code",
   "execution_count": 16,
   "id": "f8895fc1",
   "metadata": {},
   "outputs": [],
   "source": [
    "#Get attribute-values of users\n",
    "userlog_objs = list(usrlabel_to_attvals.values())\n",
    "\n",
    "resvidx_to_neighattvals = dict()\n",
    "for vidx,v in enumerate(gur.vs):\n",
    "    if v['type'] == True:\n",
    "        neighattvals = set()\n",
    "        for usrvidx in gur.neighbors(v):\n",
    "            neighattvals |= set(userlog_objs[usrvidx])\n",
    "            \n",
    "        resvidx_to_neighattvals[vidx] = list(neighattvals)"
   ]
  },
  {
   "cell_type": "code",
   "execution_count": 17,
   "id": "107afb44",
   "metadata": {},
   "outputs": [],
   "source": [
    "import copy\n",
    "gur2 = copy.deepcopy(gur)\n",
    "\n",
    "for v in gur.vs:\n",
    "    if v['type']:\n",
    "        gur2.vs[v.index]['type'] = 1;\n",
    "    else:\n",
    "        gur2.vs[v.index]['type'] = 0;"
   ]
  },
  {
   "cell_type": "code",
   "execution_count": 8,
   "id": "d1e3bba1",
   "metadata": {},
   "outputs": [],
   "source": [
    "#gur2.write_gml('hc_acg.gml')"
   ]
  },
  {
   "cell_type": "markdown",
   "id": "5adbd42d",
   "metadata": {},
   "source": [
    "### Small-worldness and homophily"
   ]
  },
  {
   "cell_type": "code",
   "execution_count": 18,
   "id": "440e033e",
   "metadata": {},
   "outputs": [
    {
     "name": "stdout",
     "output_type": "stream",
     "text": [
      "average pl: 5.479240374609781\n",
      "average cc: 0.3429730710352203\n"
     ]
    },
    {
     "name": "stderr",
     "output_type": "stream",
     "text": [
      "/var/folders/4z/6ntcmwbx3_s3ybystwpytzsw0000gn/T/ipykernel_1395/263104762.py:1: DeprecationWarning: Graph.shortest_paths() is deprecated; use Graph.distances() instead\n",
      "  D = gur.shortest_paths()\n"
     ]
    }
   ],
   "source": [
    "D = gur.shortest_paths()\n",
    "apl = np.mean(D)\n",
    "print('average pl:', apl)\n",
    "print('average cc:', get_avecc(gur))"
   ]
  },
  {
   "cell_type": "code",
   "execution_count": 19,
   "id": "7d13da63",
   "metadata": {},
   "outputs": [
    {
     "name": "stdout",
     "output_type": "stream",
     "text": [
      "1575\n",
      "Num of vertices: 620\n",
      "Num of edges: 1575\n",
      "average cc: 0.018056266945915302\n"
     ]
    },
    {
     "name": "stderr",
     "output_type": "stream",
     "text": [
      "/var/folders/4z/6ntcmwbx3_s3ybystwpytzsw0000gn/T/ipykernel_1395/1236624748.py:31: DeprecationWarning: Sampling from a set deprecated\n",
      "since Python 3.9 and will be removed in a subsequent version.\n",
      "  idx1 = random.sample(usr_tmptmpidxs, 1)[0]\n",
      "/var/folders/4z/6ntcmwbx3_s3ybystwpytzsw0000gn/T/ipykernel_1395/1236624748.py:32: DeprecationWarning: Sampling from a set deprecated\n",
      "since Python 3.9 and will be removed in a subsequent version.\n",
      "  idx2 = random.sample(res_tmptmpidxs, 1)[0]\n",
      "/var/folders/4z/6ntcmwbx3_s3ybystwpytzsw0000gn/T/ipykernel_1395/1236624748.py:52: DeprecationWarning: Graph.clusters() is deprecated; use Graph.connected_components() instead\n",
      "  ccidx_to_vertexidxs = [cc for cc in gur_syn.clusters()]\n"
     ]
    }
   ],
   "source": [
    "gur_syn = gensyn(gur, usrlabels, reslabels)\n",
    "print('Num of vertices:', len(gur_syn.vs))\n",
    "print('Num of edges:', len(gur_syn.es))\n",
    "print('average cc:', get_avecc(gur_syn))"
   ]
  },
  {
   "cell_type": "code",
   "execution_count": 20,
   "id": "64728b14",
   "metadata": {},
   "outputs": [
    {
     "name": "stdout",
     "output_type": "stream",
     "text": [
      "Homophily degree: 0.8116564788476669\n"
     ]
    }
   ],
   "source": [
    "h = homophily(gur, usrlabel_to_attvals, reslabel_to_attvals)\n",
    "print('Homophily degree:', h)"
   ]
  },
  {
   "cell_type": "markdown",
   "id": "8a4e73ea",
   "metadata": {},
   "source": [
    "### Resoure degree distribution"
   ]
  },
  {
   "cell_type": "code",
   "execution_count": 9,
   "id": "84a11414",
   "metadata": {},
   "outputs": [
    {
     "data": {
      "image/png": "[encoded data removed]",
      "text/plain": [
       "<Figure size 432x288 with 1 Axes>"
      ]
     },
     "metadata": {
      "needs_background": "light"
     },
     "output_type": "display_data"
    }
   ],
   "source": [
    "#Degree distribution\n",
    "vidx_to_deg_res, degs_to_freq = get_degdistrib(gur, isbottom = True)\n",
    "degs_res = list(degs_to_freq.keys())\n",
    "count_res = list(degs_to_freq.values())\n",
    "\n",
    "plt.semilogy(degs_res,count_res,'r-')\n",
    "plt.title('Degree distribution')\n",
    "plt.ylabel('freq')\n",
    "plt.xlabel('k')\n",
    "plt.show()"
   ]
  },
  {
   "cell_type": "code",
   "execution_count": 14,
   "id": "99af77ed",
   "metadata": {},
   "outputs": [
    {
     "name": "stdout",
     "output_type": "stream",
     "text": [
      "Avg degree resources: 3.7523809523809524\n"
     ]
    }
   ],
   "source": [
    "x = sum(vidx_to_deg_res.values())/len(vidx_to_deg_res)\n",
    "print('Avg degree resources:', x)"
   ]
  },
  {
   "cell_type": "markdown",
   "id": "52211146",
   "metadata": {},
   "source": [
    "### User degree distribution"
   ]
  },
  {
   "cell_type": "code",
   "execution_count": 15,
   "id": "614b5de8",
   "metadata": {},
   "outputs": [
    {
     "data": {
      "image/png": "[encoded data removed]",
      "text/plain": [
       "<Figure size 432x288 with 1 Axes>"
      ]
     },
     "metadata": {
      "needs_background": "light"
     },
     "output_type": "display_data"
    }
   ],
   "source": [
    "vidx_to_deg_usr, degs_to_count = get_degdistrib(gur, isbottom = False)\n",
    "degs_usr = list(degs_to_count.keys())\n",
    "count_usr = list(degs_to_count.values())\n",
    "\n",
    "plt.plot(degs_usr,count_usr,'r-')\n",
    "plt.title('Degree distribution')\n",
    "plt.ylabel('freq')\n",
    "plt.xlabel('k')\n",
    "plt.show()"
   ]
  },
  {
   "cell_type": "code",
   "execution_count": 16,
   "id": "06b88aab",
   "metadata": {},
   "outputs": [
    {
     "name": "stdout",
     "output_type": "stream",
     "text": [
      "Avg degree users: 7.88\n"
     ]
    }
   ],
   "source": [
    "x = sum(vidx_to_deg_usr.values())/len(vidx_to_deg_usr)\n",
    "print('Avg degree users:', x)"
   ]
  },
  {
   "cell_type": "code",
   "execution_count": null,
   "id": "3b7cea98",
   "metadata": {},
   "outputs": [],
   "source": []
  }
 ],
 "metadata": {
  "kernelspec": {
   "display_name": "Python 3 (ipykernel)",
   "language": "python",
   "name": "python3"
  },
  "language_info": {
   "codemirror_mode": {
    "name": "ipython",
    "version": 3
   },
   "file_extension": ".py",
   "mimetype": "text/x-python",
   "name": "python",
   "nbconvert_exporter": "python",
   "pygments_lexer": "ipython3",
   "version": "3.9.16"
  }
 },
 "nbformat": 4,
 "nbformat_minor": 5
}

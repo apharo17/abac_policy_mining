{
 "cells": [
  {
   "cell_type": "code",
   "execution_count": 1,
   "id": "9d835d95",
   "metadata": {},
   "outputs": [],
   "source": [
    "import numpy as np\n",
    "import pandas as pd\n",
    "import matplotlib.pyplot as plt\n",
    "import igraph as ig\n",
    "from collections import Counter\n",
    "import pickle\n",
    "import math\n",
    "import random\n",
    "\n",
    "from src import acgraph as acg\n",
    "from src import bcloader as bcl\n",
    "from src import utils as ut\n",
    "from src import bcgraph as bcg\n",
    "from efficient_apriori import apriori\n",
    "from src import xsmining as xsm"
   ]
  },
  {
   "cell_type": "markdown",
   "id": "5b709c16",
   "metadata": {},
   "source": [
    "### Load access control graph"
   ]
  },
  {
   "cell_type": "code",
   "execution_count": 2,
   "id": "d1452705",
   "metadata": {},
   "outputs": [
    {
     "name": "stdout",
     "output_type": "stream",
     "text": [
      "Num entries: 1576\n"
     ]
    }
   ],
   "source": [
    "usrlabels, usrlabel_to_attvals, usrname_to_usrlabel, \\\n",
    "reslabels, reslabel_to_attvals, resname_to_reslabel, usrlabel_to_reslabel = xsm.load_dataset(name='HC')\n",
    "print('Num entries:', len(usrlabel_to_reslabel))"
   ]
  },
  {
   "cell_type": "code",
   "execution_count": 3,
   "id": "2b547855",
   "metadata": {},
   "outputs": [
    {
     "name": "stdout",
     "output_type": "stream",
     "text": [
      "Num of users: 200\n",
      "Num of resources: 420\n",
      "Num of edges: 1576\n"
     ]
    }
   ],
   "source": [
    "#---Create access control graph---\n",
    "gur = xsm.load_gur(usrlabels, reslabels, usrlabel_to_reslabel, save=False)\n",
    "print('Num of users:', len(usrlabels))\n",
    "print('Num of resources:', len(reslabels))\n",
    "print('Num of edges:', len(gur.es))"
   ]
  },
  {
   "cell_type": "code",
   "execution_count": 4,
   "id": "2446091a",
   "metadata": {},
   "outputs": [],
   "source": [
    "#Get attribute-values of users\n",
    "userlog_objs = list(usrlabel_to_attvals.values())\n",
    "\n",
    "resvidx_to_neighattvals = dict()\n",
    "for vidx,v in enumerate(gur.vs):\n",
    "    if v['type'] == True:\n",
    "        neighattvals = set()\n",
    "        for usrvidx in gur.neighbors(v):\n",
    "            neighattvals |= set(userlog_objs[usrvidx])\n",
    "            \n",
    "        resvidx_to_neighattvals[vidx] = list(neighattvals)"
   ]
  },
  {
   "cell_type": "markdown",
   "id": "d8d8a988",
   "metadata": {},
   "source": [
    "### Useful functions"
   ]
  },
  {
   "cell_type": "code",
   "execution_count": 5,
   "id": "cd3e236c",
   "metadata": {},
   "outputs": [],
   "source": [
    "def plot_bins(usrvidx_resvidx_tups):\n",
    "    \n",
    "    idxs_entry_events = []\n",
    "    for v in gur.vs:\n",
    "        if v['type']:\n",
    "            idx = v.index - len(usrlabels)\n",
    "            for _ in range(gur.degree(v)):\n",
    "                idxs_entry_events.append(idx)\n",
    "    \n",
    "    \n",
    "    idxs_example_events = []\n",
    "    for tup in usrvidx_resvidx_tups:\n",
    "        resvidx = tup[1]\n",
    "        idx = resvidx - len(usrlabels)\n",
    "        idxs_example_events.append(idx)\n",
    "        \n",
    "    \n",
    "    bins = np.linspace(0, len(reslabels), 10)\n",
    "    plt.hist(idxs_entry_events,bins=bins,color='tab:blue', density=True)\n",
    "    plt.hist(idxs_example_events,bins=bins,color='tab:red', alpha=0.4, density=True)\n",
    "    plt.plot()\n",
    "    \n",
    "def cov_resources(usrvidx_resvidx_tups):\n",
    "    residxsset = set()\n",
    "    for tup in usrvidx_resvidx_tups:\n",
    "        resvidx = tup[1]\n",
    "        residxsset.add(resvidx)\n",
    "        \n",
    "    return len(residxsset)/len(reslabels)"
   ]
  },
  {
   "cell_type": "code",
   "execution_count": 6,
   "id": "e7235c8a",
   "metadata": {},
   "outputs": [],
   "source": [
    "def next_vertex(gur, v):\n",
    "    neighvidxs = gur.neighbors(v)\n",
    "    i = random.randint(0,len(neighvidxs)-1)\n",
    "    return gur.vs[neighvidxs[i]]\n",
    "    \n",
    "\n",
    "def get_entry_tupes(gur, max_hops, alpha, sd):\n",
    "    random.seed(sd)\n",
    "    usrvidx_resvidx_tups = list()\n",
    "    \n",
    "    for v in gur.vs:\n",
    "        if v['type']: #Only resources\n",
    "            neighvidxsset = set(gur.neighbors(v))\n",
    "            deg = len(neighvidxsset)\n",
    "            usrvidxsset = set()\n",
    "\n",
    "            count = 0\n",
    "            while len(usrvidxsset) < alpha*deg:\n",
    "                v_ = v\n",
    "                for i in range(max_hops):\n",
    "                    v2 = next_vertex(gur, v_)\n",
    "                    if i == max_hops-1 and not v2.index in neighvidxsset:\n",
    "                        usrvidxsset.add(v2.index)\n",
    "                    else:\n",
    "                        v_ = v2\n",
    "                count += 1\n",
    "                \n",
    "                if count > 100000:\n",
    "                    break\n",
    "                    \n",
    "            for usrvidx in list(usrvidxsset):\n",
    "                usrvidx_resvidx_tups.append((usrvidx,v.index))\n",
    "        \n",
    "    return usrvidx_resvidx_tups\n",
    "\n",
    "\n",
    "def filter_atts1(gur, usrvidx_resvidx_tups, minth, maxth):\n",
    "    usrvidx_resvidx_tups_ = []\n",
    "    \n",
    "    for tup in usrvidx_resvidx_tups:\n",
    "        usridx = tup[0]\n",
    "        usrattvalsset = set(usrlabel_to_attvals[usrlabels[usridx]])\n",
    "        \n",
    "        resvidx = tup[1]\n",
    "        neighattvalsset = set(resvidx_to_neighattvals[resvidx])\n",
    "        \n",
    "        x = len(usrattvalsset&neighattvalsset)\n",
    "        if x > minth and x <= maxth:\n",
    "            usrvidx_resvidx_tups_.append(tup)\n",
    "            \n",
    "    return usrvidx_resvidx_tups_\n",
    "\n",
    "\n",
    "def filter_atts2(gur, usrvidx_resvidx_tups, minth, maxth):\n",
    "    usrvidx_resvidx_tups_ = []\n",
    "    \n",
    "    for tup in usrvidx_resvidx_tups:\n",
    "        usridx = tup[0]\n",
    "        usrattvalsset = set(usrlabel_to_attvals[usrlabels[usridx]])\n",
    "        \n",
    "        residx = tup[1] - len(usrlabels) \n",
    "        resattvalsset = set(reslabel_to_attvals[reslabels[residx]])\n",
    "        \n",
    "        x = len(usrattvalsset&resattvalsset)\n",
    "        if x > minth and x <= maxth:\n",
    "            usrvidx_resvidx_tups_.append(tup)\n",
    "            \n",
    "    return usrvidx_resvidx_tups_\n",
    "    \n",
    "\n",
    "def get_non_entries(gur, numentries, sd):\n",
    "    edges_tuples = []\n",
    "    for e in gur.es:\n",
    "        edges_tuples.append((e.source,e.target))\n",
    "\n",
    "    usrvidxs = []\n",
    "    resvidxs = []\n",
    "    for v in gur.vs:\n",
    "        if v['type']:\n",
    "            resvidxs.append(v.index)\n",
    "        else:\n",
    "            usrvidxs.append(v.index)\n",
    "\n",
    "    random.seed(sd)\n",
    "    usrvidxs_random = random.choices(usrvidxs,k=10*numentries)\n",
    "    resvidxs_random = random.choices(resvidxs,k=10*numentries)\n",
    "\n",
    "    i = 0\n",
    "    j = 0\n",
    "    usrvidx_resvidx_tups_non = []\n",
    "    while i < numentries:\n",
    "        tup = (usrvidxs_random[j], resvidxs_random[j])\n",
    "        if not tup in edges_tuples: \n",
    "            usrvidx_resvidx_tups_non.append(tup)\n",
    "            i += 1\n",
    "        j += 1\n",
    "        \n",
    "    return usrvidx_resvidx_tups_non\n"
   ]
  },
  {
   "cell_type": "markdown",
   "id": "792adfb9",
   "metadata": {},
   "source": [
    "### Create positive synthetic examples"
   ]
  },
  {
   "cell_type": "code",
   "execution_count": 26,
   "id": "2050002b",
   "metadata": {},
   "outputs": [
    {
     "name": "stdout",
     "output_type": "stream",
     "text": [
      "Num of pos examples: 744\n",
      "Covered resources: 0.5904761904761905\n"
     ]
    }
   ],
   "source": [
    "#Through DIST method\n",
    "usrvidx_resvidx_tups = get_entry_tupes(gur, max_hops=3, alpha=2, sd=43)\n",
    "usrvidx_resvidx_tups_pos_DIST = filter_atts1(gur, usrvidx_resvidx_tups, minth=0, maxth=10)\n",
    "usrvidx_resvidx_tups_pos_DIST = filter_atts2(gur, usrvidx_resvidx_tups_pos_DIST, minth=0, maxth=1)\n",
    "print('Num of pos examples:', len(usrvidx_resvidx_tups_pos_DIST))\n",
    "print('Covered resources:', cov_resources(usrvidx_resvidx_tups_pos_DIST))"
   ]
  },
  {
   "cell_type": "code",
   "execution_count": 27,
   "id": "d67c8055",
   "metadata": {},
   "outputs": [],
   "source": [
    "num_pos_examples = 150 #Because HC's ACG has 1.5K edges (80-20)\n",
    "random.seed(13)\n",
    "usrvidx_resvidx_tups_pos_DIST_sam = random.sample(usrvidx_resvidx_tups_pos_DIST,num_pos_examples)"
   ]
  },
  {
   "cell_type": "markdown",
   "id": "6b18b965",
   "metadata": {},
   "source": [
    "### Create negative synthetic examples"
   ]
  },
  {
   "cell_type": "code",
   "execution_count": 53,
   "id": "80baf91b",
   "metadata": {},
   "outputs": [
    {
     "name": "stdout",
     "output_type": "stream",
     "text": [
      "Num of neg examples: 3152\n",
      "Covered resources: 1.0\n"
     ]
    }
   ],
   "source": [
    "#Through DIST method\n",
    "usrvidx_resvidx_tups = get_entry_tupes(gur, max_hops=5, alpha=2, sd=13)\n",
    "usrvidx_resvidx_tups_neg_DIST = usrvidx_resvidx_tups\n",
    "#usrvidx_resvidx_tups_neg_DIST = filter_atts1(gur, usrvidx_resvidx_tups, minth=0, maxth=1)\n",
    "print('Num of neg examples:', len(usrvidx_resvidx_tups_neg_DIST))\n",
    "print('Covered resources:', cov_resources(usrvidx_resvidx_tups_neg_DIST))"
   ]
  },
  {
   "cell_type": "code",
   "execution_count": 54,
   "id": "fb7b00af",
   "metadata": {},
   "outputs": [
    {
     "name": "stdout",
     "output_type": "stream",
     "text": [
      "Num of neg examples: 5000\n",
      "Covered resources: 1.0\n"
     ]
    }
   ],
   "source": [
    "#Through RANDOM method\n",
    "usrvidx_resvidx_tups = get_non_entries(gur, numentries=5000, sd=13)\n",
    "usrvidx_resvidx_tups_neg_RANDOM = usrvidx_resvidx_tups\n",
    "#usrvidx_resvidx_tups_neg_RANDOM = filter_atts1(gur, usrvidx_resvidx_tups, minth=0, maxth=1)\n",
    "print('Num of neg examples:', len(usrvidx_resvidx_tups_neg_RANDOM))\n",
    "print('Covered resources:', cov_resources(usrvidx_resvidx_tups_neg_RANDOM))"
   ]
  },
  {
   "cell_type": "code",
   "execution_count": 55,
   "id": "ca81f132",
   "metadata": {},
   "outputs": [],
   "source": [
    "num_neg_examples = 150 #Because HC's ACG has 1.5K edges (80-20)\n",
    "random.seed(13)\n",
    "usrvidx_resvidx_tups_neg_DIST_sam = random.sample(usrvidx_resvidx_tups_neg_DIST,num_neg_examples)\n",
    "random.seed(13)\n",
    "usrvidx_resvidx_tups_neg_RANDOM_sam = random.sample(usrvidx_resvidx_tups_neg_RANDOM,num_neg_examples)"
   ]
  },
  {
   "cell_type": "code",
   "execution_count": 56,
   "id": "2ebb2783",
   "metadata": {},
   "outputs": [],
   "source": [
    "def print_measures(num_pos, num_neg, num_truepos, num_falsepos):\n",
    "    print('TPR (Recall):', num_truepos/num_pos)\n",
    "    #print('FPR', num_falsepos/num_neg)\n",
    "    recall = num_truepos/num_pos\n",
    "    precision = num_truepos/(num_truepos+num_falsepos)\n",
    "    fscore = 2*recall*precision/(recall+precision)\n",
    "    print('Precision:', precision)\n",
    "    print('Fscore:', fscore)\n",
    "    \n",
    "    num_trueneg = num_neg - num_falsepos\n",
    "    acc = (num_truepos+num_trueneg)/(num_pos+num_neg)\n",
    "    print('Accuracy:', acc)"
   ]
  },
  {
   "cell_type": "code",
   "execution_count": 57,
   "id": "2b24259e",
   "metadata": {},
   "outputs": [],
   "source": [
    "def evaluate_rules(usrvidx_resvidx_tups, rules):\n",
    "    num_trues = 0\n",
    "    for tup in usrvidx_resvidx_tups:\n",
    "        usridx = tup[0]\n",
    "        residx = tup[1] - len(usrlabels)\n",
    "        \n",
    "        usrattvals = usrlabel_to_attvals[usrlabels[usridx]]\n",
    "        resattvals = reslabel_to_attvals[reslabels[residx]]\n",
    "\n",
    "        for rule in rules:\n",
    "            x1 = len(set(usrattvals)&set(rule[0]))\n",
    "            if x1 == len(rule[0]):\n",
    "                x2 = len(set(resattvals)&set(rule[1]))\n",
    "                if x2 == len(rule[1]):\n",
    "                    num_trues += 1\n",
    "                    break\n",
    "                    \n",
    "    return num_trues\n"
   ]
  },
  {
   "cell_type": "markdown",
   "id": "a9f4dd2f",
   "metadata": {},
   "source": [
    "### Evaluate biclique graph patterns"
   ]
  },
  {
   "cell_type": "code",
   "execution_count": 17,
   "id": "a6883f84",
   "metadata": {},
   "outputs": [
    {
     "name": "stdout",
     "output_type": "stream",
     "text": [
      "Num of bcs: 261\n",
      "Num of bcs with regular patterns: 105\n"
     ]
    }
   ],
   "source": [
    "#---Load bicliques---\n",
    "k = (1,1)\n",
    "bcs = xsm.load_bicliques('HC', gur, k, usrlabel_to_attvals, reslabel_to_attvals)\n",
    "print('Num of bcs:', len(bcs))\n",
    "subbcs = xsm.get_subbcs(bcs)\n",
    "print('Num of bcs with regular patterns:', len(subbcs))"
   ]
  },
  {
   "cell_type": "code",
   "execution_count": 18,
   "id": "c156356e",
   "metadata": {},
   "outputs": [
    {
     "name": "stdout",
     "output_type": "stream",
     "text": [
      "Num of edges: 382\n"
     ]
    }
   ],
   "source": [
    "#---Create graph of bicliques---\n",
    "bcgraph = xsm.load_bcgraph(gur, subbcs, save=False)\n",
    "print('Num of edges:', len(bcgraph.es))"
   ]
  },
  {
   "cell_type": "code",
   "execution_count": 19,
   "id": "83c76da7",
   "metadata": {},
   "outputs": [
    {
     "name": "stdout",
     "output_type": "stream",
     "text": [
      "Num rules: 104\n"
     ]
    }
   ],
   "source": [
    "#---Create and evaluate rules from graph-patterns---\n",
    "rules,bcs_list = xsm.compute_gprules(bcgraph, subbcs)\n",
    "\n",
    "rules_ = []\n",
    "for rule in rules:\n",
    "    if len(rule[0]) > 0 and len(rule[1]) > 0:\n",
    "        rules_.append(rule)\n",
    "        \n",
    "rules = rules_\n",
    "print('Num rules:', len(rules))"
   ]
  },
  {
   "cell_type": "code",
   "execution_count": 58,
   "id": "dfd3bafc",
   "metadata": {},
   "outputs": [
    {
     "name": "stdout",
     "output_type": "stream",
     "text": [
      "TPR (Recall): 1.0\n",
      "Precision: 0.6666666666666666\n",
      "Fscore: 0.8\n",
      "Accuracy: 0.75\n"
     ]
    }
   ],
   "source": [
    "#Pos: dist, Neg: dist\n",
    "num_truepos = evaluate_rules(usrvidx_resvidx_tups_pos_DIST_sam, rules)\n",
    "num_falsepos = evaluate_rules(usrvidx_resvidx_tups_neg_DIST_sam, rules)\n",
    "print_measures(num_pos_examples, num_neg_examples, num_truepos, num_falsepos)"
   ]
  },
  {
   "cell_type": "code",
   "execution_count": 59,
   "id": "774b3ac9",
   "metadata": {},
   "outputs": [
    {
     "name": "stdout",
     "output_type": "stream",
     "text": [
      "TPR (Recall): 1.0\n",
      "Precision: 0.9375\n",
      "Fscore: 0.967741935483871\n",
      "Accuracy: 0.9666666666666667\n"
     ]
    }
   ],
   "source": [
    "#Pos: dist, Neg: dist\n",
    "num_truepos = evaluate_rules(usrvidx_resvidx_tups_pos_DIST_sam, rules)\n",
    "num_falsepos = evaluate_rules(usrvidx_resvidx_tups_neg_RANDOM_sam, rules)\n",
    "print_measures(num_pos_examples, num_neg_examples, num_truepos, num_falsepos)"
   ]
  },
  {
   "cell_type": "markdown",
   "id": "b7b772a1",
   "metadata": {},
   "source": [
    "### Evaluate frequent patterns"
   ]
  },
  {
   "cell_type": "code",
   "execution_count": 60,
   "id": "e72e5e46",
   "metadata": {},
   "outputs": [],
   "source": [
    "#---Create and evaluate rules from avpatterns---\n",
    "minsup = 0.01\n",
    "rules_fp = xsm.compute_avprules(minsup, usrlabel_to_attvals, reslabel_to_attvals, usrlabel_to_reslabel)\n",
    "\n",
    "rules_ = []\n",
    "for rule in rules_fp:\n",
    "    if len(rule[0]) > 0 and len(rule[1]) > 0:\n",
    "        rules_.append(rule)\n",
    "        \n",
    "rules_fp = rules_"
   ]
  },
  {
   "cell_type": "code",
   "execution_count": 61,
   "id": "196fd7d5",
   "metadata": {},
   "outputs": [
    {
     "name": "stdout",
     "output_type": "stream",
     "text": [
      "TPR (Recall): 1.0\n",
      "Precision: 0.5190311418685121\n",
      "Fscore: 0.683371298405467\n",
      "Accuracy: 0.5366666666666666\n"
     ]
    }
   ],
   "source": [
    "#Pos: dist, Neg: dist\n",
    "num_truepos = evaluate_rules(usrvidx_resvidx_tups_pos_DIST_sam, rules_fp)\n",
    "num_falsepos = evaluate_rules(usrvidx_resvidx_tups_neg_DIST_sam, rules_fp)\n",
    "print_measures(num_pos_examples, num_neg_examples, num_truepos, num_falsepos)"
   ]
  },
  {
   "cell_type": "code",
   "execution_count": 62,
   "id": "6f1fea69",
   "metadata": {},
   "outputs": [
    {
     "name": "stdout",
     "output_type": "stream",
     "text": [
      "TPR (Recall): 1.0\n",
      "Precision: 0.6437768240343348\n",
      "Fscore: 0.7832898172323759\n",
      "Accuracy: 0.7233333333333334\n"
     ]
    }
   ],
   "source": [
    "#Pos: dist, Neg: dist\n",
    "num_truepos = evaluate_rules(usrvidx_resvidx_tups_pos_DIST_sam, rules_fp)\n",
    "num_falsepos = evaluate_rules(usrvidx_resvidx_tups_neg_RANDOM_sam, rules_fp)\n",
    "print_measures(num_pos_examples, num_neg_examples, num_truepos, num_falsepos)"
   ]
  },
  {
   "cell_type": "code",
   "execution_count": null,
   "id": "b3d03d9b",
   "metadata": {},
   "outputs": [],
   "source": []
  }
 ],
 "metadata": {
  "kernelspec": {
   "display_name": "Python 3 (ipykernel)",
   "language": "python",
   "name": "python3"
  },
  "language_info": {
   "codemirror_mode": {
    "name": "ipython",
    "version": 3
   },
   "file_extension": ".py",
   "mimetype": "text/x-python",
   "name": "python",
   "nbconvert_exporter": "python",
   "pygments_lexer": "ipython3",
   "version": "3.9.16"
  }
 },
 "nbformat": 4,
 "nbformat_minor": 5
}

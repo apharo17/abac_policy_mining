{
 "cells": [
  {
   "cell_type": "code",
   "execution_count": 4,
   "id": "dfa320fc",
   "metadata": {},
   "outputs": [],
   "source": [
    "import numpy as np\n",
    "import pandas as pd\n",
    "import matplotlib.pyplot as plt\n",
    "import igraph as ig\n",
    "from collections import Counter\n",
    "import pickle\n",
    "import math\n",
    "\n",
    "from src import acgraph as acg\n",
    "from src import bcloader as bcl\n",
    "from src import utils as ut\n",
    "from src import bcgraph as bcg\n",
    "from efficient_apriori import apriori\n",
    "\n",
    "from importlib import reload\n",
    "acg = reload(acg)\n",
    "bcl = reload(bcl)\n",
    "bcg = reload(bcg)"
   ]
  },
  {
   "cell_type": "markdown",
   "id": "f59fe72c",
   "metadata": {},
   "source": [
    "### Load access control graph"
   ]
  },
  {
   "cell_type": "code",
   "execution_count": 5,
   "id": "bd8ce007",
   "metadata": {},
   "outputs": [
    {
     "name": "stdout",
     "output_type": "stream",
     "text": [
      "---Control Access Graph---\n",
      "Total edges: 30872\n",
      "Total vertices: 16524\n",
      "Num users: 9298\n",
      "Num resources: 7226\n"
     ]
    }
   ],
   "source": [
    "rel_attnames = [\n",
    "#'MGR_ID',\n",
    "#'ROLE_ROLLUP_1',\n",
    "'ROLE_ROLLUP_2',\n",
    "'ROLE_DEPTNAME',\n",
    "'ROLE_TITLE',\n",
    "'ROLE_FAMILY_DESC',\n",
    "'ROLE_FAMILY']\n",
    "gur = acg.load_azkag_graph(rel_attnames=rel_attnames, isWeighted=True)\n",
    "print('---Control Access Graph---')\n",
    "print('Total edges:', len(gur.es))\n",
    "print('Total vertices:', len(gur.vs))\n",
    "\n",
    "gur_usrlabels,gur_reslabels = acg.get_labels(gur, byweights=False)\n",
    "print('Num users:',len(gur_usrlabels))\n",
    "print('Num resources:', len(gur_reslabels))"
   ]
  },
  {
   "cell_type": "code",
   "execution_count": 6,
   "id": "e1b76bbc",
   "metadata": {},
   "outputs": [
    {
     "name": "stdout",
     "output_type": "stream",
     "text": [
      "---Largest Connected Component---\n",
      "Total edges: 30425\n",
      "Total vertices: 15773\n",
      "Num users: 8933\n",
      "Num resources: 6840\n"
     ]
    }
   ],
   "source": [
    "maxcc_gur = acg.get_largestcc(gur)\n",
    "print('---Largest Connected Component---')\n",
    "print('Total edges:', len(maxcc_gur.es))\n",
    "print('Total vertices:', len(maxcc_gur.vs))\n",
    "\n",
    "maxcc_usrlabels,maxcc_reslabels = acg.get_labels(maxcc_gur, byweights=False)\n",
    "print('Num users:',len(maxcc_usrlabels))\n",
    "print('Num resources:', len(maxcc_reslabels))"
   ]
  },
  {
   "cell_type": "markdown",
   "id": "e6527eaa",
   "metadata": {},
   "source": [
    "### Load graph of bicliques"
   ]
  },
  {
   "cell_type": "code",
   "execution_count": 7,
   "id": "3a8f3a3b",
   "metadata": {},
   "outputs": [
    {
     "name": "stdout",
     "output_type": "stream",
     "text": [
      "total bicliques: 17563\n"
     ]
    }
   ],
   "source": [
    "with open('data_structures/maxcc_azkag_bcs_v2.pkl', 'rb') as f:\n",
    "    bcs = pickle.load(f)\n",
    "\n",
    "print('total bicliques:', len(bcs))"
   ]
  },
  {
   "cell_type": "code",
   "execution_count": 8,
   "id": "0fe3c6cb",
   "metadata": {},
   "outputs": [
    {
     "name": "stdout",
     "output_type": "stream",
     "text": [
      "Selected bicliques: 12263\n"
     ]
    }
   ],
   "source": [
    "subbcs = []\n",
    "for bc in bcs:\n",
    "    if bc.get_pattern() != None and len(bc.get_pattern()) >= 1:\n",
    "        nusr = len(bc.get_usrids())\n",
    "        nres = len(bc.get_resids())\n",
    "        subbcs.append(bc)\n",
    "\n",
    "print('Selected bicliques:', len(subbcs))"
   ]
  },
  {
   "cell_type": "code",
   "execution_count": 9,
   "id": "9f4ec700",
   "metadata": {},
   "outputs": [],
   "source": [
    "#Mapping: biclique ids to their respective indexes in subbcs\n",
    "bcid_to_bcidx = dict()\n",
    "for bcidx,bc in enumerate(subbcs):\n",
    "    bcid = bc.get_id()\n",
    "    bcid_to_bcidx[bcid] = bcidx"
   ]
  },
  {
   "cell_type": "code",
   "execution_count": 10,
   "id": "cc3c3092",
   "metadata": {},
   "outputs": [],
   "source": [
    "with open('data_structures/azkag_bcgraph.pkl', 'rb') as f:\n",
    "    bcgraph = pickle.load(f)"
   ]
  },
  {
   "cell_type": "markdown",
   "id": "b52b992d",
   "metadata": {},
   "source": [
    "### Extract frequent patterns"
   ]
  },
  {
   "cell_type": "code",
   "execution_count": 11,
   "id": "52dd6f45",
   "metadata": {},
   "outputs": [],
   "source": [
    "#Extract pattern from each biclique in the bcgraph\n",
    "group_patts = []\n",
    "for bcv in bcgraph.vs:\n",
    "    bcidx = bcid_to_bcidx[bcv['bcid']]\n",
    "    group_patts.append(subbcs[bcidx].get_pattern())"
   ]
  },
  {
   "cell_type": "code",
   "execution_count": 12,
   "id": "96a23123",
   "metadata": {},
   "outputs": [
    {
     "name": "stdout",
     "output_type": "stream",
     "text": [
      "Num bicliques per frequent pattern: 6.1315\n"
     ]
    }
   ],
   "source": [
    "#Approximation\n",
    "s = 0.0005\n",
    "print('Num bicliques per frequent pattern:', s*len(bcgraph.vs))\n",
    "#TODO: average numbcs per graph-pattern"
   ]
  },
  {
   "cell_type": "code",
   "execution_count": 13,
   "id": "d2f6ec1f",
   "metadata": {},
   "outputs": [],
   "source": [
    "#Compute frequent itemsets\n",
    "#freq_itemsets,_ = apriori(group_patts, min_support=s, min_confidence=1.0)\n",
    "#with open('data_structures/azkag_pec_fis.pkl', 'wb') as f:\n",
    "#    pickle.dump(freq_itemsets, f)"
   ]
  },
  {
   "cell_type": "code",
   "execution_count": 14,
   "id": "f588badd",
   "metadata": {},
   "outputs": [],
   "source": [
    "with open('data_structures/azkag_pec_fis.pkl', 'rb') as f:\n",
    "    freq_itemsets = pickle.load(f)"
   ]
  },
  {
   "cell_type": "code",
   "execution_count": 15,
   "id": "ed2fe897",
   "metadata": {},
   "outputs": [],
   "source": [
    "#Filter itemsets that are closed\n",
    "freq_itemsets_ = ut.filter_closed(freq_itemsets)"
   ]
  },
  {
   "cell_type": "code",
   "execution_count": 16,
   "id": "84c2b488",
   "metadata": {},
   "outputs": [
    {
     "name": "stdout",
     "output_type": "stream",
     "text": [
      "Num of frequent patterns: 1672\n"
     ]
    }
   ],
   "source": [
    "#Collect attribute-value patterns\n",
    "patts = []\n",
    "for k,fis_list in freq_itemsets_.items():\n",
    "    if k > 1:\n",
    "        for fis,freq in fis_list.items():\n",
    "            patts.append(list(fis))\n",
    "            \n",
    "print('Num of frequent patterns:', len(patts))"
   ]
  },
  {
   "cell_type": "code",
   "execution_count": 17,
   "id": "f66d6892",
   "metadata": {},
   "outputs": [],
   "source": [
    "#Mapping: frequent pattern to their respective bicliques in the bcgraph\n",
    "pattidx_to_bcvidxs = dict()\n",
    "for bcvidx,bcv in enumerate(bcgraph.vs):\n",
    "    bcidx = bcid_to_bcidx[bcv['bcid']]\n",
    "    p = subbcs[bcidx].get_pattern()\n",
    "    for pattidx,patt in enumerate(patts):\n",
    "        if len(set(patt)-set(p)) == 0:\n",
    "            if not pattidx in pattidx_to_bcvidxs:\n",
    "                pattidx_to_bcvidxs[pattidx] = []\n",
    "            pattidx_to_bcvidxs[pattidx].append(bcvidx)\n",
    "            "
   ]
  },
  {
   "cell_type": "code",
   "execution_count": 18,
   "id": "5765b3c4",
   "metadata": {},
   "outputs": [],
   "source": [
    "#Create corresponding set of graph-patterns\n",
    "gps_final = []\n",
    "for pattidx,bcvidxs in pattidx_to_bcvidxs.items():\n",
    "    pruned_bcgraph = bcgraph.subgraph(bcvidxs)\n",
    "    ccs = pruned_bcgraph.connected_components(mode='weak')\n",
    "    #Create a graph-pattern for each connected component\n",
    "    for cc in ccs:\n",
    "        bcids = [pruned_bcgraph.vs[bcvidx]['bcid'] for bcvidx in cc]\n",
    "        gps_final.append((patts[pattidx],bcids))"
   ]
  },
  {
   "cell_type": "code",
   "execution_count": 19,
   "id": "7e660b77",
   "metadata": {},
   "outputs": [
    {
     "name": "stdout",
     "output_type": "stream",
     "text": [
      "Number of equivalent gps: 15586\n"
     ]
    }
   ],
   "source": [
    "print('Number of equivalent gps:', len(gps_final))"
   ]
  },
  {
   "cell_type": "code",
   "execution_count": 20,
   "id": "32d70eab",
   "metadata": {},
   "outputs": [
    {
     "data": {
      "image/png": "[encoded data removed]",
      "text/plain": [
       "<Figure size 432x288 with 1 Axes>"
      ]
     },
     "metadata": {
      "needs_background": "light"
     },
     "output_type": "display_data"
    }
   ],
   "source": [
    "#Size distribution of the corresponding graph-patterns\n",
    "gps_sizes = [len(gp[1]) for gp in gps_final if len(gp[1]) < 20]\n",
    "\n",
    "plt.hist(gps_sizes, bins = 20)\n",
    "plt.xlabel('gp size')\n",
    "plt.ylabel('frequency')\n",
    "plt.show()"
   ]
  },
  {
   "cell_type": "code",
   "execution_count": 21,
   "id": "e0841e65",
   "metadata": {},
   "outputs": [],
   "source": [
    "#Collect covered bcs in the bcgraph\n",
    "bcvindexes_set = set()\n",
    "for patt in patts:\n",
    "    for bcvidx,gpatt in enumerate(group_patts):\n",
    "        if len(set(patt)&set(gpatt)) == len(patt):\n",
    "            bcvindexes_set.add(bcvidx)"
   ]
  },
  {
   "cell_type": "code",
   "execution_count": 22,
   "id": "2ca6c0e7",
   "metadata": {},
   "outputs": [
    {
     "name": "stdout",
     "output_type": "stream",
     "text": [
      "Res coverage: 0.9887837364178058\n"
     ]
    }
   ],
   "source": [
    "#Evaluate resource coverage\n",
    "covered_residsset = set()\n",
    "for bcvidx in list(bcvindexes_set):\n",
    "    bcid = bcgraph.vs[bcvidx]['bcid']\n",
    "    bc = subbcs[bcid_to_bcidx[bcid]]\n",
    "    for resid in bc.get_resids():\n",
    "        covered_residsset.add(resid)\n",
    "\n",
    "count_res = 0\n",
    "count_res2 = 0\n",
    "for v in maxcc_gur.vs:\n",
    "    if v['type'] == True:\n",
    "        if len(maxcc_gur.neighbors(v)) < 4.44:\n",
    "            resid = int(v['name'][6:])\n",
    "            if resid in covered_residsset:\n",
    "                count_res += 1\n",
    "            count_res2 += 1\n",
    "print('Res coverage:', count_res/count_res2)          "
   ]
  },
  {
   "cell_type": "markdown",
   "id": "1755c012",
   "metadata": {},
   "source": [
    "### Compute peculiarity and diversity"
   ]
  },
  {
   "cell_type": "code",
   "execution_count": 23,
   "id": "28fe7f2e",
   "metadata": {},
   "outputs": [],
   "source": [
    "bcid_to_attvalset = dict()\n",
    "for bc in subbcs:\n",
    "    bcid = bc.get_id()\n",
    "    bcid_to_attvalset[bcid] = set(bc.get_pattern())\n",
    "    \n",
    "bcid_to_bcvidx = dict()\n",
    "for bcv in bcgraph.vs:\n",
    "    bcid = bcv['bcid']\n",
    "    bcid_to_bcvidx[bcid] = bcv.index\n",
    "    \n",
    "#Los vertices cubiertos\n",
    "covered_bcids = set()\n",
    "for gp in gps_final:\n",
    "    covered_bcids |= set(gp[1])"
   ]
  },
  {
   "cell_type": "code",
   "execution_count": 24,
   "id": "c38c2015",
   "metadata": {},
   "outputs": [],
   "source": [
    "#Compute peculiarities with d=2\n",
    "ps = []\n",
    "\n",
    "for gp in gps_final:\n",
    "    \n",
    "    #Obtain neighboring set\n",
    "    bcvidxs_set = set()\n",
    "    neighidxs_set = set()\n",
    "    neighidxs_set2 = set()\n",
    "\n",
    "    for bcid in gp[1]:\n",
    "        if bcid in covered_bcids:\n",
    "            bcvidx = bcid_to_bcvidx[bcid]\n",
    "            bcv = bcgraph.vs[bcvidx]\n",
    "            neighidxs = bcgraph.neighbors(bcv)\n",
    "            neighidxs_set |= set(neighidxs)\n",
    "\n",
    "            for neighidx in neighidxs:\n",
    "                neigh = bcgraph.vs[neighidx]\n",
    "                neighidxs2 = bcgraph.neighbors(neigh)\n",
    "                neighidxs_set2 |= set(neighidxs2)\n",
    "\n",
    "        bcvidxs_set.add(bcvidx)\n",
    "    \n",
    "    neighidxs_set -= bcvidxs_set\n",
    "    neighidxs_set2 -= neighidxs_set\n",
    "    neighidxs_set = neighidxs_set2\n",
    "\n",
    "    #Compute dissimilarity for each attribute-value\n",
    "    attval_to_count = {attval:0 for attval in gp[0]}\n",
    "    for neighidx in list(neighidxs_set):\n",
    "        neigh = bcgraph.vs[neighidx]\n",
    "        bcid = neigh['bcid']\n",
    "        if bcid in covered_bcids:\n",
    "            attvalset = bcid_to_attvalset[bcid]\n",
    "            for attval in gp[0]:\n",
    "                if not attval in attvalset:\n",
    "                    attval_to_count[attval] += 1 \n",
    "\n",
    "    numneighs = len(neighidxs_set)\n",
    "    if numneighs == 0:\n",
    "        numneighs = 1\n",
    "\n",
    "    #Compute peculiarity\n",
    "    attval_to_count = {attval:count/numneighs for attval,count in attval_to_count.items()}\n",
    "    p = sum([count for attval,count in attval_to_count.items()])/len(gp[0])\n",
    "    ps.append(p)\n",
    "\n",
    "    #For debug\n",
    "    #print(p)\n",
    "    #print(len(gp[0]))\n",
    "             "
   ]
  },
  {
   "cell_type": "code",
   "execution_count": 25,
   "id": "9f249db6",
   "metadata": {},
   "outputs": [
    {
     "name": "stdout",
     "output_type": "stream",
     "text": [
      "Diversity: 0.5943054382052373\n"
     ]
    }
   ],
   "source": [
    "print('Diversity:', sum(ps)/len(ps))"
   ]
  },
  {
   "cell_type": "code",
   "execution_count": 26,
   "id": "485f6863",
   "metadata": {},
   "outputs": [
    {
     "name": "stdout",
     "output_type": "stream",
     "text": [
      "Weibull parameters: 3.020517327966392 0.03560478034957462 0.4127674001921662\n"
     ]
    },
    {
     "name": "stderr",
     "output_type": "stream",
     "text": [
      "/var/folders/4z/6ntcmwbx3_s3ybystwpytzsw0000gn/T/ipykernel_1958/3441358022.py:4: RuntimeWarning: invalid value encountered in power\n",
      "  y = (a / n) * ((1-gamma-x) / n)**(a - 1) * np.exp(-((1-gamma-x) / n)**a)\n"
     ]
    },
    {
     "data": {
      "image/png": "[encoded data removed]",
      "text/plain": [
       "<Figure size 432x288 with 1 Axes>"
      ]
     },
     "metadata": {
      "needs_background": "light"
     },
     "output_type": "display_data"
    }
   ],
   "source": [
    "from scipy import stats\n",
    "\n",
    "def weib_in_one(x,n,a,l):\n",
    "    y = (a / n) * ((1-gamma-x) / n)**(a - 1) * np.exp(-((1-gamma-x) / n)**a)\n",
    "    return y\n",
    "\n",
    "bins = range(0, 21, 1)\n",
    "bins = [b/(len(bins)-1) for b in bins]\n",
    "x_hist, bins, p_hist = plt.hist(ps, bins = bins, density=True)\n",
    "#plt.axis([0, 1, 0, 0.2])\n",
    "\n",
    "np_ps = np.array(ps)\n",
    "np_ps = 1 - np_ps\n",
    "(beta,gamma,eta) = stats.weibull_min.fit(np_ps, loc=0)\n",
    "print('Weibull parameters:', beta, gamma, eta)\n",
    "\n",
    "x = np.linspace(0, 1, 50)\n",
    "y = weib_in_one(x, eta, beta, gamma)\n",
    "plt.plot(x, y)\n",
    "\n",
    "plt.show()"
   ]
  },
  {
   "cell_type": "code",
   "execution_count": 27,
   "id": "8befa593",
   "metadata": {},
   "outputs": [],
   "source": [
    "#Save peculiariy values\n",
    "#f = open('azkag_pfis.dat','w')\n",
    "#for p in ps:\n",
    "#    f.write(str(p))\n",
    "#    f.write('\\n')\n",
    "#f.close()"
   ]
  },
  {
   "cell_type": "code",
   "execution_count": 28,
   "id": "5f6d9b55",
   "metadata": {},
   "outputs": [],
   "source": [
    "#Save weibull curve\n",
    "#f = open('azkag_pfiswei.dat','w')\n",
    "#for i,x_val in enumerate(x):\n",
    "#    f.write(str(x_val))\n",
    "#    f.write('\\t')\n",
    "#    f.write(str(y[i]))\n",
    "#    f.write('\\n')\n",
    "#f.close()"
   ]
  },
  {
   "cell_type": "code",
   "execution_count": null,
   "id": "ea88a48e",
   "metadata": {},
   "outputs": [],
   "source": []
  }
 ],
 "metadata": {
  "kernelspec": {
   "display_name": "Python 3 (ipykernel)",
   "language": "python",
   "name": "python3"
  },
  "language_info": {
   "codemirror_mode": {
    "name": "ipython",
    "version": 3
   },
   "file_extension": ".py",
   "mimetype": "text/x-python",
   "name": "python",
   "nbconvert_exporter": "python",
   "pygments_lexer": "ipython3",
   "version": "3.9.16"
  }
 },
 "nbformat": 4,
 "nbformat_minor": 5
}

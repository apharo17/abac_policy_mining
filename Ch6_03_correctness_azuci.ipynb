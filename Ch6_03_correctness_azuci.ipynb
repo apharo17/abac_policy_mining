{
 "cells": [
  {
   "cell_type": "markdown",
   "id": "8c3b86b3",
   "metadata": {},
   "source": [
    "This notebook evaluates the correctness of AZKAG for our method based on biclique-graph-patterns and the classical method based on frequent-patterns. We report Recall, Precision and F-score using two types of synthetic examples for the negatives: from random sampling, and from our generation procedure. We also report some statitics about the resulting examples."
   ]
  },
  {
   "cell_type": "code",
   "execution_count": 1,
   "id": "844df3c9",
   "metadata": {},
   "outputs": [],
   "source": [
    "import numpy as np\n",
    "import pandas as pd\n",
    "import matplotlib.pyplot as plt\n",
    "import igraph as ig\n",
    "from collections import Counter\n",
    "import pickle\n",
    "import math\n",
    "import random\n",
    "import copy\n",
    "\n",
    "from src import acgraph as acg\n",
    "from src import bcloader as bcl\n",
    "from src import utils as ut\n",
    "from src import bcgraph as bcg\n",
    "from src import avpattern as avp\n",
    "from efficient_apriori import apriori"
   ]
  },
  {
   "cell_type": "markdown",
   "id": "0dfa3f95",
   "metadata": {},
   "source": [
    "### Load access control graph"
   ]
  },
  {
   "cell_type": "code",
   "execution_count": 2,
   "id": "8429bd08",
   "metadata": {},
   "outputs": [
    {
     "name": "stdout",
     "output_type": "stream",
     "text": [
      "---Control Access Graph---\n",
      "Total edges: 144435\n",
      "Total vertices: 24062\n",
      "Num users: 17612\n",
      "Num resources: 6450\n",
      "\n",
      "---Largest Connected Component---\n",
      "Total edges: 144422\n",
      "Total vertices: 24043\n",
      "Num users: 17602\n",
      "Num resources: 6441\n"
     ]
    }
   ],
   "source": [
    "rel_attnames = ['PERSON_BUSINESS_TITLE',\n",
    "#'PERSON_BUSINESS_TITLE_DETAIL',\n",
    "'PERSON_COMPANY',\n",
    "'PERSON_DEPTNAME',\n",
    "'PERSON_JOB_CODE',\n",
    "'PERSON_JOB_FAMILY',\n",
    "#'PERSON_MGR_ID',\n",
    "'PERSON_ROLLUP_1',\n",
    "'PERSON_ROLLUP_2']\n",
    "gur = acg.load_azuci_graph(rel_attnames=rel_attnames)\n",
    "print('---Control Access Graph---')\n",
    "print('Total edges:', len(gur.es))\n",
    "print('Total vertices:', len(gur.vs))\n",
    "\n",
    "gur_usrlabels,gur_reslabels = acg.get_labels(gur, byweights=True)\n",
    "print('Num users:',len(gur_usrlabels))\n",
    "print('Num resources:', len(gur_reslabels))\n",
    "print()\n",
    "\n",
    "gur = acg.get_largestcc(gur)\n",
    "print('---Largest Connected Component---')\n",
    "print('Total edges:', len(gur.es))\n",
    "print('Total vertices:', len(gur.vs))\n",
    "usrlabels,reslabels = acg.get_labels(gur, byweights=False)\n",
    "print('Num users:',len(usrlabels))\n",
    "print('Num resources:', len(reslabels))"
   ]
  },
  {
   "cell_type": "code",
   "execution_count": 3,
   "id": "482b2f02",
   "metadata": {},
   "outputs": [],
   "source": [
    "#Get attribute-values of users\n",
    "userlog_objs = []\n",
    "for v in gur.vs:\n",
    "    if v['type'] == False:\n",
    "        userlog_obj = []\n",
    "        for attname in v.attribute_names():\n",
    "            if not attname in ['type','name']:\n",
    "                userlog_obj.append(v[attname])\n",
    "        userlog_objs.append(userlog_obj)\n",
    "userlog_objs = ut.to_tuple_format(userlog_objs)\n",
    "\n",
    "resvidx_to_neighattvals = dict()\n",
    "for vidx,v in enumerate(gur.vs):\n",
    "    if v['type'] == True:\n",
    "        neighattvals = set()\n",
    "        for usrvidx in gur.neighbors(v):\n",
    "            neighattvals |= set(userlog_objs[usrvidx])\n",
    "            \n",
    "        resvidx_to_neighattvals[vidx] = list(neighattvals)"
   ]
  },
  {
   "cell_type": "markdown",
   "id": "a1eb2e60",
   "metadata": {},
   "source": [
    "### Useful functions"
   ]
  },
  {
   "cell_type": "code",
   "execution_count": 8,
   "id": "f6ae0a80",
   "metadata": {},
   "outputs": [],
   "source": [
    "def plot_bins(usrvidx_resvidx_tups):\n",
    "    \n",
    "    idxs_entry_events = []\n",
    "    for v in gur.vs:\n",
    "        if v['type']:\n",
    "            idx = v.index - len(usrlabels)\n",
    "            for _ in range(gur.degree(v)):\n",
    "                idxs_entry_events.append(idx)\n",
    "    \n",
    "    \n",
    "    idxs_example_events = []\n",
    "    for tup in usrvidx_resvidx_tups:\n",
    "        resvidx = tup[1]\n",
    "        idx = resvidx - len(usrlabels)\n",
    "        idxs_example_events.append(idx)\n",
    "        \n",
    "    \n",
    "    bins = np.linspace(0, len(reslabels), 50)\n",
    "    plt.hist(idxs_entry_events,bins=bins,color='tab:blue', density=True)\n",
    "    plt.hist(idxs_example_events,bins=bins,color='tab:red', alpha=0.4, density=True)\n",
    "    plt.plot()\n",
    "    \n",
    "def cov_resources(usrvidx_resvidx_tups):\n",
    "    residxsset = set()\n",
    "    for tup in usrvidx_resvidx_tups:\n",
    "        resvidx = tup[1]\n",
    "        residxsset.add(resvidx)\n",
    "        \n",
    "    return len(residxsset)/len(reslabels)"
   ]
  },
  {
   "cell_type": "code",
   "execution_count": 9,
   "id": "36d85f47",
   "metadata": {},
   "outputs": [],
   "source": [
    "def next_vertex(gur, v):\n",
    "    neighvidxs = gur.neighbors(v)\n",
    "    i = random.randint(0,len(neighvidxs)-1)\n",
    "    return gur.vs[neighvidxs[i]]\n",
    "    \n",
    "\n",
    "def get_entry_tupes(gur, max_hops, alpha, sd):\n",
    "    random.seed(sd)\n",
    "    usrvidx_resvidx_tups = list()\n",
    "    \n",
    "    for v in gur.vs:\n",
    "        if v['type']: #Only resources\n",
    "            neighvidxsset = set(gur.neighbors(v))\n",
    "            deg = len(neighvidxsset)\n",
    "            usrvidxsset = set()\n",
    "\n",
    "            count = 0\n",
    "            while len(usrvidxsset) < alpha*deg:\n",
    "                v_ = v\n",
    "                for i in range(max_hops):\n",
    "                    v2 = next_vertex(gur, v_)\n",
    "                    if i == max_hops-1 and not v2.index in neighvidxsset:\n",
    "                        usrvidxsset.add(v2.index)\n",
    "                    else:\n",
    "                        v_ = v2\n",
    "                count += 1\n",
    "                \n",
    "                if count > 100000:\n",
    "                    break\n",
    "                    \n",
    "            for usrvidx in list(usrvidxsset):\n",
    "                usrvidx_resvidx_tups.append((usrvidx,v.index))\n",
    "        \n",
    "    return usrvidx_resvidx_tups\n",
    "\n",
    "\n",
    "def filter_atts(gur, usrvidx_resvidx_tups, minth, maxth):\n",
    "    usrvidx_resvidx_tups_ = []\n",
    "    \n",
    "    for tup in usrvidx_resvidx_tups:\n",
    "        usrvidx = tup[0]\n",
    "        resvidx = tup[1]\n",
    "        \n",
    "        usrattvalsset = set(userlog_objs[usrvidx])\n",
    "        neighattvalsset = set(resvidx_to_neighattvals[resvidx])\n",
    "        \n",
    "        x = len(usrattvalsset&neighattvalsset)\n",
    "        if x > minth and x <= maxth:\n",
    "            usrvidx_resvidx_tups_.append(tup)\n",
    "            \n",
    "    return usrvidx_resvidx_tups_\n",
    "    \n",
    "\n",
    "def get_non_entries(gur, numentries, sd):\n",
    "    edges_tuples = []\n",
    "    for e in gur.es:\n",
    "        edges_tuples.append((e.source,e.target))\n",
    "\n",
    "    usrvidxs = []\n",
    "    resvidxs = []\n",
    "    for v in gur.vs:\n",
    "        if v['type']:\n",
    "            resvidxs.append(v.index)\n",
    "        else:\n",
    "            usrvidxs.append(v.index)\n",
    "\n",
    "    random.seed(sd)\n",
    "    usrvidxs_random = random.choices(usrvidxs,k=10*numentries)\n",
    "    resvidxs_random = random.choices(resvidxs,k=10*numentries)\n",
    "\n",
    "    i = 0\n",
    "    j = 0\n",
    "    usrvidx_resvidx_tups_non = []\n",
    "    while i < numentries:\n",
    "        tup = (usrvidxs_random[j], resvidxs_random[j])\n",
    "        if not tup in edges_tuples: \n",
    "            usrvidx_resvidx_tups_non.append(tup)\n",
    "            i += 1\n",
    "        j += 1\n",
    "        \n",
    "    return usrvidx_resvidx_tups_non\n"
   ]
  },
  {
   "cell_type": "markdown",
   "id": "9642d7c7",
   "metadata": {},
   "source": [
    "### Create positive synthetic examples"
   ]
  },
  {
   "cell_type": "code",
   "execution_count": 10,
   "id": "18f5db28",
   "metadata": {},
   "outputs": [
    {
     "name": "stdout",
     "output_type": "stream",
     "text": [
      "Num of pos examples: 218355\n",
      "Covered resources: 0.8652383170315169\n"
     ]
    }
   ],
   "source": [
    "#Through DIST method\n",
    "usrvidx_resvidx_tups = get_entry_tupes(gur, max_hops=3, alpha=2, sd=43)\n",
    "usrvidx_resvidx_tups_pos_DIST = filter_atts(gur, usrvidx_resvidx_tups, minth=3, maxth=10)\n",
    "print('Num of pos examples:', len(usrvidx_resvidx_tups_pos_DIST))\n",
    "print('Covered resources:', cov_resources(usrvidx_resvidx_tups_pos_DIST))"
   ]
  },
  {
   "cell_type": "code",
   "execution_count": 16,
   "id": "921f0446",
   "metadata": {},
   "outputs": [],
   "source": [
    "num_pos_examples = 7250 #Because AZUCI has 145K edges (90-10)\n",
    "random.seed(13)\n",
    "usrvidx_resvidx_tups_pos_DIST_sam = random.sample(usrvidx_resvidx_tups_pos_DIST,num_pos_examples)"
   ]
  },
  {
   "cell_type": "code",
   "execution_count": 17,
   "id": "ec1e9cc9",
   "metadata": {},
   "outputs": [
    {
     "data": {
      "image/png": "[encoded data removed]",
      "text/plain": [
       "<Figure size 432x288 with 1 Axes>"
      ]
     },
     "metadata": {
      "needs_background": "light"
     },
     "output_type": "display_data"
    }
   ],
   "source": [
    "plot_bins(usrvidx_resvidx_tups_pos_DIST_sam)"
   ]
  },
  {
   "cell_type": "markdown",
   "id": "ff2847c7",
   "metadata": {},
   "source": [
    "### Create negative synthetic examples"
   ]
  },
  {
   "cell_type": "code",
   "execution_count": 14,
   "id": "b679eaa0",
   "metadata": {},
   "outputs": [
    {
     "name": "stdout",
     "output_type": "stream",
     "text": [
      "Num of neg examples: 81295\n",
      "Covered resources: 0.9697251979506288\n"
     ]
    }
   ],
   "source": [
    "#Through DIST method\n",
    "usrvidx_resvidx_tups = get_entry_tupes(gur, max_hops=5, alpha=2, sd=13)\n",
    "usrvidx_resvidx_tups_neg_DIST = filter_atts(gur, usrvidx_resvidx_tups, minth=0, maxth=3)\n",
    "print('Num of neg examples:', len(usrvidx_resvidx_tups_neg_DIST))\n",
    "print('Covered resources:', cov_resources(usrvidx_resvidx_tups_neg_DIST))"
   ]
  },
  {
   "cell_type": "code",
   "execution_count": 15,
   "id": "0254a1ce",
   "metadata": {},
   "outputs": [
    {
     "name": "stdout",
     "output_type": "stream",
     "text": [
      "Num of neg examples: 9848\n",
      "Covered resources: 0.7342027635460332\n"
     ]
    }
   ],
   "source": [
    "#Through RANDOM method\n",
    "usrvidx_resvidx_tups = get_non_entries(gur, numentries=20000, sd=13)\n",
    "usrvidx_resvidx_tups_neg_RANDOM = filter_atts(gur, usrvidx_resvidx_tups, minth=0, maxth=3)\n",
    "print('Num of neg examples:', len(usrvidx_resvidx_tups_neg_RANDOM))\n",
    "print('Covered resources:', cov_resources(usrvidx_resvidx_tups_neg_RANDOM))"
   ]
  },
  {
   "cell_type": "code",
   "execution_count": 18,
   "id": "fb394eba",
   "metadata": {},
   "outputs": [],
   "source": [
    "num_neg_examples = 7250 #Because AZUCI has 145K edges (90-10)\n",
    "random.seed(13)\n",
    "usrvidx_resvidx_tups_neg_DIST_sam = random.sample(usrvidx_resvidx_tups_neg_DIST,num_neg_examples)\n",
    "random.seed(13)\n",
    "usrvidx_resvidx_tups_neg_RANDOM_sam = random.sample(usrvidx_resvidx_tups_neg_RANDOM,num_neg_examples)"
   ]
  },
  {
   "cell_type": "code",
   "execution_count": 19,
   "id": "71b5799c",
   "metadata": {},
   "outputs": [
    {
     "data": {
      "image/png": "[encoded data removed]",
      "text/plain": [
       "<Figure size 432x288 with 1 Axes>"
      ]
     },
     "metadata": {
      "needs_background": "light"
     },
     "output_type": "display_data"
    }
   ],
   "source": [
    "plot_bins(usrvidx_resvidx_tups_neg_DIST_sam)"
   ]
  },
  {
   "cell_type": "code",
   "execution_count": 20,
   "id": "200c0187",
   "metadata": {},
   "outputs": [
    {
     "data": {
      "image/png": "[encoded data removed]",
      "text/plain": [
       "<Figure size 432x288 with 1 Axes>"
      ]
     },
     "metadata": {
      "needs_background": "light"
     },
     "output_type": "display_data"
    }
   ],
   "source": [
    "plot_bins(usrvidx_resvidx_tups_neg_RANDOM_sam)"
   ]
  },
  {
   "cell_type": "code",
   "execution_count": null,
   "id": "b358932e",
   "metadata": {},
   "outputs": [],
   "source": []
  },
  {
   "cell_type": "code",
   "execution_count": 21,
   "id": "aa2a07ef",
   "metadata": {},
   "outputs": [],
   "source": [
    "def print_measures(num_pos, num_neg, num_truepos, num_falsepos):\n",
    "    print('TPR (Recall):', num_truepos/num_pos)\n",
    "    #print('FPR', num_falsepos/num_neg)\n",
    "    recall = num_truepos/num_pos\n",
    "    precision = num_truepos/(num_truepos+num_falsepos)\n",
    "    fscore = 2*recall*precision/(recall+precision)\n",
    "    print('Precision:', precision)\n",
    "    print('Fscore:', fscore)\n",
    "    \n",
    "    num_trueneg = num_neg - num_falsepos\n",
    "    acc = (num_truepos+num_trueneg)/(num_pos+num_neg)\n",
    "    print('Accuracy:', acc)"
   ]
  },
  {
   "cell_type": "markdown",
   "id": "5461c8f2",
   "metadata": {},
   "source": [
    "### Evaluate biclique graph patterns"
   ]
  },
  {
   "cell_type": "code",
   "execution_count": 22,
   "id": "04b20791",
   "metadata": {},
   "outputs": [
    {
     "name": "stdout",
     "output_type": "stream",
     "text": [
      "Total bicliques: 1082696\n"
     ]
    }
   ],
   "source": [
    "with open('data_structures/maxcc_azuci_bcs_v2.pkl', 'rb') as f:\n",
    "    bcs = pickle.load(f)\n",
    "\n",
    "print('Total bicliques:', len(bcs))"
   ]
  },
  {
   "cell_type": "code",
   "execution_count": 23,
   "id": "9de232ea",
   "metadata": {},
   "outputs": [
    {
     "name": "stdout",
     "output_type": "stream",
     "text": [
      "Selected bicliques: 367728\n"
     ]
    }
   ],
   "source": [
    "subbcs = []\n",
    "for bc in bcs:\n",
    "    if bc.get_pattern() != None and len(bc.get_pattern()) >= 2:\n",
    "        subbcs.append(bc)\n",
    "\n",
    "print('Selected bicliques:', len(subbcs))"
   ]
  },
  {
   "cell_type": "code",
   "execution_count": 24,
   "id": "ab155e20",
   "metadata": {},
   "outputs": [],
   "source": [
    "with open('data_structures/azuci_bcgraph.pkl', 'rb') as f:\n",
    "    bcgraph = pickle.load(f)"
   ]
  },
  {
   "cell_type": "code",
   "execution_count": 25,
   "id": "2ec43199",
   "metadata": {},
   "outputs": [
    {
     "name": "stdout",
     "output_type": "stream",
     "text": [
      "Num graph patterns: 9088\n"
     ]
    }
   ],
   "source": [
    "bcid_to_bc = {bc.get_id():bc for bc in subbcs}\n",
    "gps = bcg.dfs(bcgraph, bcid_to_bc, sa=2)\n",
    "print('Num graph patterns:', len(gps))"
   ]
  },
  {
   "cell_type": "code",
   "execution_count": 26,
   "id": "638e527a",
   "metadata": {},
   "outputs": [],
   "source": [
    "gps_final = []\n",
    "for gpidx,gp in enumerate(gps):\n",
    "    if len(gp[1]) < 50:\n",
    "        gps_final.append(gp)\n",
    "\n",
    "gps_final = [gp for gp in gps_final if len(gp[0])>1]"
   ]
  },
  {
   "cell_type": "code",
   "execution_count": 27,
   "id": "a34528b9",
   "metadata": {},
   "outputs": [
    {
     "data": {
      "text/plain": [
       "8831"
      ]
     },
     "execution_count": 27,
     "metadata": {},
     "output_type": "execute_result"
    }
   ],
   "source": [
    "len(gps_final)"
   ]
  },
  {
   "cell_type": "code",
   "execution_count": 28,
   "id": "8a9946b3",
   "metadata": {},
   "outputs": [],
   "source": [
    "#Create mappings\n",
    "rules = [gp[0] for gp in gps_final]\n",
    "\n",
    "bcid_to_ruleidxs = dict()\n",
    "for ruleidx,gp in enumerate(gps_final):\n",
    "    for bcid in gp[1]:\n",
    "        if not bcid in bcid_to_ruleidxs:\n",
    "            bcid_to_ruleidxs[bcid] = []\n",
    "        bcid_to_ruleidxs[bcid].append(ruleidx)\n",
    "        \n",
    "#Agregado debido que ahora cargo el grafo de respaldo\n",
    "bcid_to_bcidx = dict()\n",
    "for bcidx,bc in enumerate(subbcs):\n",
    "    bcid = bc.get_id()\n",
    "    bcid_to_bcidx[bcid] = bcidx\n",
    "    \n",
    "resid_to_bcids = dict()\n",
    "for bcv in bcgraph.vs:\n",
    "    bcid = bcv['bcid']\n",
    "    bc = subbcs[bcid_to_bcidx[bcid]]\n",
    "    resids_ = bc.get_resids()\n",
    "    for resid in resids_:\n",
    "        if not resid in resid_to_bcids:\n",
    "            resid_to_bcids[resid] = []\n",
    "        resid_to_bcids[resid].append(bcid) "
   ]
  },
  {
   "cell_type": "code",
   "execution_count": 29,
   "id": "6608fed1",
   "metadata": {},
   "outputs": [],
   "source": [
    "def evaluate_bgp(gur, usrvidx_resvidx_tups):\n",
    "\n",
    "    num_valid = 0\n",
    "    num_trues = 0\n",
    "\n",
    "    for tup in usrvidx_resvidx_tups:\n",
    "        usrvidx = tup[0]\n",
    "        resvidx = tup[1]\n",
    "        usrattvals = userlog_objs[usrvidx]\n",
    "        resid = int(gur.vs[resvidx]['name'][6:])\n",
    "\n",
    "        if resid in resid_to_bcids:\n",
    "            ruleidxs = set()\n",
    "            for bcid in resid_to_bcids[resid]:\n",
    "                if bcid in bcid_to_ruleidxs:\n",
    "                    ruleidxs |= set(bcid_to_ruleidxs[bcid])\n",
    "\n",
    "            ruleidxs = list(ruleidxs)\n",
    "\n",
    "            if len(ruleidxs) > 0:\n",
    "                num_valid += 1\n",
    "\n",
    "            for ruleidx in ruleidxs:\n",
    "                rule = rules[ruleidx]\n",
    "                if len(set(usrattvals)&set(rule)) == len(rule):\n",
    "                        num_trues += 1\n",
    "                        break\n",
    "                        \n",
    "    return num_valid, num_trues\n",
    "            \n"
   ]
  },
  {
   "cell_type": "code",
   "execution_count": 30,
   "id": "f9a69094",
   "metadata": {},
   "outputs": [
    {
     "name": "stdout",
     "output_type": "stream",
     "text": [
      "TPR (Recall): 0.7566896551724138\n",
      "Precision: 0.8561173533083646\n",
      "Fscore: 0.8033387025918876\n",
      "Accuracy: 0.8147586206896552\n"
     ]
    }
   ],
   "source": [
    "#Pos: dist, Neg: dist\n",
    "num_pos_valid, num_truepos = evaluate_bgp(gur, usrvidx_resvidx_tups_pos_DIST_sam)\n",
    "num_neg_valid, num_falsepos = evaluate_bgp(gur, usrvidx_resvidx_tups_neg_DIST_sam)\n",
    "print_measures(num_pos_examples, num_neg_examples, num_truepos, num_falsepos)"
   ]
  },
  {
   "cell_type": "code",
   "execution_count": 31,
   "id": "7e5c9ce7",
   "metadata": {},
   "outputs": [
    {
     "name": "stdout",
     "output_type": "stream",
     "text": [
      "TPR (Recall): 0.7566896551724138\n",
      "Precision: 0.9604341736694678\n",
      "Fscore: 0.8464743095201358\n",
      "Accuracy: 0.8627586206896551\n"
     ]
    }
   ],
   "source": [
    "#Pos: dist, Neg: random\n",
    "num_pos_valid, num_truepos = evaluate_bgp(gur, usrvidx_resvidx_tups_pos_DIST_sam)\n",
    "num_neg_valid, num_falsepos = evaluate_bgp(gur, usrvidx_resvidx_tups_neg_RANDOM_sam)\n",
    "print_measures(num_pos_examples, num_neg_examples, num_truepos, num_falsepos)"
   ]
  },
  {
   "cell_type": "markdown",
   "id": "ebc31e83",
   "metadata": {},
   "source": [
    "### Evaluation frequent patterns"
   ]
  },
  {
   "cell_type": "code",
   "execution_count": 34,
   "id": "317782fb",
   "metadata": {},
   "outputs": [],
   "source": [
    "def evaluate_fp(gur, usrvidx_resvidx_tups, resid_to_patterns):\n",
    "    num_valid = 0\n",
    "    num_trues = 0\n",
    "    for tup in usrvidx_resvidx_tups:\n",
    "        usrvidx = tup[0]\n",
    "        resvidx = tup[1]\n",
    "        usrattvals = userlog_objs[usrvidx]\n",
    "        resid = int(gur.vs[resvidx]['name'][6:])\n",
    "\n",
    "        if len(resid_to_patterns[resid]) > 0:\n",
    "            num_valid += 1\n",
    "\n",
    "        for rule in resid_to_patterns[resid]:\n",
    "            if len(set(usrattvals)&set(rule)) == len(rule):\n",
    "                    num_trues += 1\n",
    "                    break\n",
    "                    \n",
    "    return num_valid, num_trues\n",
    "    "
   ]
  },
  {
   "cell_type": "code",
   "execution_count": 35,
   "id": "ef5c2154",
   "metadata": {},
   "outputs": [],
   "source": [
    "global_f = 20\n",
    "resid_to_valsentries_20,resid_to_patterns_20 =\\\n",
    "avp.compute_avpatterns(gur, lmin=2, global_f=global_f, verbose=False)"
   ]
  },
  {
   "cell_type": "code",
   "execution_count": 36,
   "id": "5ecd86a9",
   "metadata": {},
   "outputs": [
    {
     "name": "stdout",
     "output_type": "stream",
     "text": [
      "TPR (Recall): 0.852551724137931\n",
      "Precision: 0.7912186379928315\n",
      "Fscore: 0.8207409374585048\n",
      "Accuracy: 0.8137931034482758\n"
     ]
    }
   ],
   "source": [
    "#Pos: dist, Neg: dist\n",
    "num_pos_valid, num_truepos = evaluate_fp(gur, usrvidx_resvidx_tups_pos_DIST_sam, resid_to_patterns_20)\n",
    "num_neg_valid, num_falsepos = evaluate_fp(gur, usrvidx_resvidx_tups_neg_DIST_sam, resid_to_patterns_20)\n",
    "print_measures(num_pos_examples, num_neg_examples, num_truepos, num_falsepos)"
   ]
  },
  {
   "cell_type": "code",
   "execution_count": 38,
   "id": "b6229fb4",
   "metadata": {},
   "outputs": [
    {
     "name": "stdout",
     "output_type": "stream",
     "text": [
      "TPR (Recall): 0.852551724137931\n",
      "Precision: 0.9402190447216306\n",
      "Fscore: 0.894241898148148\n",
      "Accuracy: 0.8991724137931034\n"
     ]
    }
   ],
   "source": [
    "#Pos: dist, Neg: random\n",
    "num_pos_valid, num_truepos = evaluate_fp(gur, usrvidx_resvidx_tups_pos_DIST_sam, resid_to_patterns_20)\n",
    "num_neg_valid, num_falsepos = evaluate_fp(gur, usrvidx_resvidx_tups_neg_RANDOM_sam, resid_to_patterns_20)\n",
    "print_measures(num_pos_examples, num_neg_examples, num_truepos, num_falsepos)"
   ]
  },
  {
   "cell_type": "code",
   "execution_count": 39,
   "id": "b976a901",
   "metadata": {},
   "outputs": [],
   "source": [
    "global_f = 10\n",
    "resid_to_valsentries_10,resid_to_patterns_10 =\\\n",
    "avp.compute_avpatterns(gur, lmin=2, global_f=global_f, verbose=False)"
   ]
  },
  {
   "cell_type": "code",
   "execution_count": 40,
   "id": "e4a78e96",
   "metadata": {},
   "outputs": [
    {
     "name": "stdout",
     "output_type": "stream",
     "text": [
      "TPR (Recall): 0.8855172413793103\n",
      "Precision: 0.7713564820377268\n",
      "Fscore: 0.8245039491427472\n",
      "Accuracy: 0.8115172413793104\n"
     ]
    }
   ],
   "source": [
    "#Pos: dist, Neg: dist\n",
    "num_pos_valid, num_truepos = evaluate_fp(gur, usrvidx_resvidx_tups_pos_DIST_sam, resid_to_patterns_10)\n",
    "num_neg_valid, num_falsepos = evaluate_fp(gur, usrvidx_resvidx_tups_neg_DIST_sam, resid_to_patterns_10)\n",
    "print_measures(num_pos_examples, num_neg_examples, num_truepos, num_falsepos)"
   ]
  },
  {
   "cell_type": "code",
   "execution_count": 41,
   "id": "8e175225",
   "metadata": {},
   "outputs": [
    {
     "name": "stdout",
     "output_type": "stream",
     "text": [
      "TPR (Recall): 0.8855172413793103\n",
      "Precision: 0.9298957126303592\n",
      "Fscore: 0.907164052564646\n",
      "Accuracy: 0.9093793103448276\n"
     ]
    }
   ],
   "source": [
    "#Pos: dist, Neg: random\n",
    "num_pos_valid, num_truepos = evaluate_fp(gur, usrvidx_resvidx_tups_pos_DIST_sam, resid_to_patterns_10)\n",
    "num_neg_valid, num_falsepos = evaluate_fp(gur, usrvidx_resvidx_tups_neg_RANDOM_sam, resid_to_patterns_10)\n",
    "print_measures(num_pos_examples, num_neg_examples, num_truepos, num_falsepos)"
   ]
  },
  {
   "cell_type": "code",
   "execution_count": null,
   "id": "fa641ee4",
   "metadata": {},
   "outputs": [],
   "source": []
  }
 ],
 "metadata": {
  "kernelspec": {
   "display_name": "Python 3 (ipykernel)",
   "language": "python",
   "name": "python3"
  },
  "language_info": {
   "codemirror_mode": {
    "name": "ipython",
    "version": 3
   },
   "file_extension": ".py",
   "mimetype": "text/x-python",
   "name": "python",
   "nbconvert_exporter": "python",
   "pygments_lexer": "ipython3",
   "version": "3.9.16"
  }
 },
 "nbformat": 4,
 "nbformat_minor": 5
}

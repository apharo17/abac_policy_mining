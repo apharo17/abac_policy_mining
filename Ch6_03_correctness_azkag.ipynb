{
 "cells": [
  {
   "cell_type": "markdown",
   "id": "7047438f",
   "metadata": {},
   "source": [
    "This notebook evaluates the correctness of AZKAG for our method based on biclique-graph-patterns and the classical method based on frequent-patterns. We report Recall, Precision and F-score using two types of synthetic examples for the negatives: from random sampling, and from our generation procedure. We also report some statitics about the resulting examples."
   ]
  },
  {
   "cell_type": "code",
   "execution_count": 1,
   "id": "aafd7f12",
   "metadata": {},
   "outputs": [],
   "source": [
    "import numpy as np\n",
    "import pandas as pd\n",
    "import matplotlib.pyplot as plt\n",
    "import igraph as ig\n",
    "from collections import Counter\n",
    "import pickle\n",
    "import math\n",
    "import random\n",
    "import copy\n",
    "\n",
    "from src import acgraph as acg\n",
    "from src import bcloader as bcl\n",
    "from src import utils as ut\n",
    "from src import bcgraph as bcg\n",
    "from src import avpattern as avp\n",
    "from efficient_apriori import apriori\n"
   ]
  },
  {
   "cell_type": "markdown",
   "id": "39fafc1d",
   "metadata": {},
   "source": [
    "### Load access control graph"
   ]
  },
  {
   "cell_type": "code",
   "execution_count": 2,
   "id": "2ac36ca3",
   "metadata": {},
   "outputs": [
    {
     "name": "stdout",
     "output_type": "stream",
     "text": [
      "---Control Access Graph---\n",
      "Total edges: 30872\n",
      "Total vertices: 16524\n",
      "Num users: 9298\n",
      "Num resources: 7226\n",
      "\n",
      "---Largest Connected Component---\n",
      "Total edges: 30425\n",
      "Total vertices: 15773\n",
      "Num users: 8933\n",
      "Num resources: 6840\n"
     ]
    }
   ],
   "source": [
    "rel_attnames = [\n",
    "#'MGR_ID',\n",
    "#'ROLE_ROLLUP_1',\n",
    "'ROLE_ROLLUP_2',\n",
    "'ROLE_DEPTNAME',\n",
    "'ROLE_TITLE',\n",
    "'ROLE_FAMILY_DESC',\n",
    "'ROLE_FAMILY']\n",
    "gur = acg.load_azkag_graph(rel_attnames=rel_attnames, isWeighted=True)\n",
    "print('---Control Access Graph---')\n",
    "print('Total edges:', len(gur.es))\n",
    "print('Total vertices:', len(gur.vs))\n",
    "\n",
    "gur_usrlabels,gur_reslabels = acg.get_labels(gur, byweights=False)\n",
    "print('Num users:',len(gur_usrlabels))\n",
    "print('Num resources:', len(gur_reslabels))\n",
    "print()\n",
    "\n",
    "gur = acg.get_largestcc(gur)\n",
    "print('---Largest Connected Component---')\n",
    "print('Total edges:', len(gur.es))\n",
    "print('Total vertices:', len(gur.vs))\n",
    "usrlabels,reslabels = acg.get_labels(gur, byweights=False)\n",
    "print('Num users:',len(usrlabels))\n",
    "print('Num resources:', len(reslabels))"
   ]
  },
  {
   "cell_type": "code",
   "execution_count": 3,
   "id": "28beff04",
   "metadata": {},
   "outputs": [],
   "source": [
    "#Get attribute-values of users\n",
    "userlog_objs = []\n",
    "for v in gur.vs:\n",
    "    if v['type'] == False:\n",
    "        userlog_obj = []\n",
    "        for attname in v.attribute_names():\n",
    "            if not attname in ['type','name']:\n",
    "                userlog_obj.append(v[attname])\n",
    "        userlog_objs.append(userlog_obj)\n",
    "userlog_objs = ut.to_tuple_format(userlog_objs)\n",
    "\n",
    "resvidx_to_neighattvals = dict()\n",
    "for vidx,v in enumerate(gur.vs):\n",
    "    if v['type'] == True:\n",
    "        neighattvals = set()\n",
    "        for usrvidx in gur.neighbors(v):\n",
    "            neighattvals |= set(userlog_objs[usrvidx])\n",
    "            \n",
    "        resvidx_to_neighattvals[vidx] = list(neighattvals)"
   ]
  },
  {
   "cell_type": "markdown",
   "id": "0ae6b9f5",
   "metadata": {},
   "source": [
    "### Useful functions"
   ]
  },
  {
   "cell_type": "code",
   "execution_count": 50,
   "id": "f7f1e193",
   "metadata": {},
   "outputs": [],
   "source": [
    "def plot_bins(usrvidx_resvidx_tups):\n",
    "    \n",
    "    idxs_entry_events = []\n",
    "    for v in gur.vs:\n",
    "        if v['type']:\n",
    "            idx = v.index - len(usrlabels)\n",
    "            for _ in range(gur.degree(v)):\n",
    "                idxs_entry_events.append(idx)\n",
    "    \n",
    "    \n",
    "    idxs_example_events = []\n",
    "    for tup in usrvidx_resvidx_tups:\n",
    "        resvidx = tup[1]\n",
    "        idx = resvidx - len(usrlabels)\n",
    "        idxs_example_events.append(idx)\n",
    "        \n",
    "    \n",
    "    bins = np.linspace(0, len(reslabels), 50)\n",
    "    plt.hist(idxs_entry_events,bins=bins,color='tab:blue', density=True)\n",
    "    plt.hist(idxs_example_events,bins=bins,color='tab:red', alpha=0.4, density=True)\n",
    "    plt.plot()\n",
    "    \n",
    "def cov_resources(usrvidx_resvidx_tups):\n",
    "    residxsset = set()\n",
    "    for tup in usrvidx_resvidx_tups:\n",
    "        resvidx = tup[1]\n",
    "        residxsset.add(resvidx)\n",
    "        \n",
    "    return len(residxsset)/len(reslabels)"
   ]
  },
  {
   "cell_type": "code",
   "execution_count": 7,
   "id": "2b59eaf2",
   "metadata": {},
   "outputs": [],
   "source": [
    "def cosine_sim(gur, usrvidx, resvidx):\n",
    "    uv = gur.vs[usrvidx]\n",
    "    rv = gur.vs[resvidx]\n",
    "    uneighs = gur.neighbors(uv)\n",
    "    uneighs2 = set()\n",
    "    for resvidx in uneighs:\n",
    "        uneighs2 |= set(gur.neighbors(gur.vs[resvidx]))   \n",
    "    rneighs = gur.neighbors(rv)\n",
    "    cs = len(set(uneighs2)&set(rneighs))/math.sqrt(len(uneighs)*len(rneighs))\n",
    "    return cs"
   ]
  },
  {
   "cell_type": "code",
   "execution_count": 8,
   "id": "4a67b88b",
   "metadata": {},
   "outputs": [],
   "source": [
    "def next_vertex(gur, v):\n",
    "    neighvidxs = gur.neighbors(v)\n",
    "    i = random.randint(0,len(neighvidxs)-1)\n",
    "    return gur.vs[neighvidxs[i]]\n",
    "    \n",
    "\n",
    "def get_entry_tupes(gur, max_hops, alpha, sd):\n",
    "    random.seed(sd)\n",
    "    usrvidx_resvidx_tups = list()\n",
    "    \n",
    "    for v in gur.vs:\n",
    "        if v['type']: #Only resources\n",
    "            neighvidxsset = set(gur.neighbors(v))\n",
    "            deg = len(neighvidxsset)\n",
    "            usrvidxsset = set()\n",
    "\n",
    "            count = 0\n",
    "            while len(usrvidxsset) < alpha*deg:\n",
    "                v_ = v\n",
    "                for i in range(max_hops):\n",
    "                    v2 = next_vertex(gur, v_)\n",
    "                    if i == max_hops-1 and not v2.index in neighvidxsset:\n",
    "                        usrvidxsset.add(v2.index)\n",
    "                    else:\n",
    "                        v_ = v2\n",
    "                count += 1\n",
    "                \n",
    "                if count > 100000:\n",
    "                    break\n",
    "                    \n",
    "            for usrvidx in list(usrvidxsset):\n",
    "                usrvidx_resvidx_tups.append((usrvidx,v.index))\n",
    "        \n",
    "    return usrvidx_resvidx_tups\n",
    "\n",
    "\n",
    "def filter_sim(gur, usrvidx_resvidx_tups, thmin, thmax):\n",
    "    usrvidx_resvidx_tups_ = []\n",
    "    for tup in usrvidx_resvidx_tups:\n",
    "        usrvidx = tup[0]\n",
    "        resvidx = tup[1]\n",
    "        cs = cosine_sim(gur, usrvidx, resvidx)\n",
    "        if cs > thmin and cs <= thmax:\n",
    "            usrvidx_resvidx_tups_.append(tup)\n",
    "    \n",
    "    return usrvidx_resvidx_tups_\n",
    "\n",
    "\n",
    "def filter_atts(gur, usrvidx_resvidx_tups, minth, maxth):\n",
    "    usrvidx_resvidx_tups_ = []\n",
    "    \n",
    "    for tup in usrvidx_resvidx_tups:\n",
    "        usrvidx = tup[0]\n",
    "        resvidx = tup[1]\n",
    "        \n",
    "        usrattvalsset = set(userlog_objs[usrvidx])\n",
    "        neighattvalsset = set(resvidx_to_neighattvals[resvidx])\n",
    "        \n",
    "        x = len(usrattvalsset&neighattvalsset)\n",
    "        if x > minth and x <= maxth:\n",
    "            usrvidx_resvidx_tups_.append(tup)\n",
    "            \n",
    "    return usrvidx_resvidx_tups_\n",
    "    \n",
    "\n",
    "def get_non_entries(gur, numentries, sd):\n",
    "    edges_tuples = []\n",
    "    for e in gur.es:\n",
    "        edges_tuples.append((e.source,e.target))\n",
    "\n",
    "    usrvidxs = []\n",
    "    resvidxs = []\n",
    "    for v in gur.vs:\n",
    "        if v['type']:\n",
    "            resvidxs.append(v.index)\n",
    "        else:\n",
    "            usrvidxs.append(v.index)\n",
    "\n",
    "    random.seed(sd)\n",
    "    usrvidxs_random = random.choices(usrvidxs,k=10*numentries)\n",
    "    resvidxs_random = random.choices(resvidxs,k=10*numentries)\n",
    "\n",
    "    i = 0\n",
    "    j = 0\n",
    "    usrvidx_resvidx_tups_non = []\n",
    "    while i < numentries:\n",
    "        tup = (usrvidxs_random[j], resvidxs_random[j])\n",
    "        if not tup in edges_tuples: \n",
    "            usrvidx_resvidx_tups_non.append(tup)\n",
    "            i += 1\n",
    "        j += 1\n",
    "        \n",
    "    return usrvidx_resvidx_tups_non\n"
   ]
  },
  {
   "cell_type": "markdown",
   "id": "a3758d21",
   "metadata": {},
   "source": [
    "### Create positive synthetic examples"
   ]
  },
  {
   "cell_type": "code",
   "execution_count": 52,
   "id": "c5723f57",
   "metadata": {},
   "outputs": [
    {
     "name": "stdout",
     "output_type": "stream",
     "text": [
      "Num of pos examples: 20605\n",
      "Covered resources: 0.4135964912280702\n"
     ]
    }
   ],
   "source": [
    "#Through DIST method\n",
    "usrvidx_resvidx_tups = get_entry_tupes(gur, max_hops=3, alpha=2, sd=43)\n",
    "usrvidx_resvidx_tups_pos_DIST = filter_atts(gur, usrvidx_resvidx_tups, minth=3, maxth=10)\n",
    "print('Num of pos examples:', len(usrvidx_resvidx_tups_pos_DIST))\n",
    "print('Covered resources:', cov_resources(usrvidx_resvidx_tups_pos_DIST))"
   ]
  },
  {
   "cell_type": "code",
   "execution_count": 53,
   "id": "eced2cc3",
   "metadata": {
    "scrolled": true
   },
   "outputs": [
    {
     "name": "stdout",
     "output_type": "stream",
     "text": [
      "Num of pos examples: 16744\n",
      "Covered resources: 0.40307017543859647\n"
     ]
    }
   ],
   "source": [
    "#Through SFCS method\n",
    "usrvidx_resvidx_tups = get_entry_tupes(gur, max_hops=3, alpha=2, sd=43)\n",
    "usrvidx_resvidx_tups_ = filter_sim(gur, usrvidx_resvidx_tups, thmin=0.2, thmax=100)\n",
    "usrvidx_resvidx_tups_pos_SFCS = filter_atts(gur, usrvidx_resvidx_tups_, minth=3, maxth=10)\n",
    "print('Num of pos examples:', len(usrvidx_resvidx_tups_pos_SFCS))\n",
    "print('Covered resources:', cov_resources(usrvidx_resvidx_tups_pos_SFCS))"
   ]
  },
  {
   "cell_type": "markdown",
   "id": "98853961",
   "metadata": {},
   "source": [
    "Get a subset of positive examples"
   ]
  },
  {
   "cell_type": "code",
   "execution_count": 58,
   "id": "d32eafc9",
   "metadata": {},
   "outputs": [],
   "source": [
    "num_pos_examples = 1600 #Because AZKAG has 32K entries\n",
    "random.seed(13)\n",
    "usrvidx_resvidx_tups_pos_DIST_sam = random.sample(usrvidx_resvidx_tups_pos_DIST,num_pos_examples)\n",
    "random.seed(13)\n",
    "usrvidx_resvidx_tups_pos_SFCS_sam = random.sample(usrvidx_resvidx_tups_pos_SFCS,num_pos_examples)"
   ]
  },
  {
   "cell_type": "markdown",
   "id": "5765cdf4",
   "metadata": {},
   "source": [
    "Plot some distributions"
   ]
  },
  {
   "cell_type": "code",
   "execution_count": 60,
   "id": "c757a967",
   "metadata": {},
   "outputs": [
    {
     "data": {
      "image/png": "[encoded data removed]",
      "text/plain": [
       "<Figure size 432x288 with 1 Axes>"
      ]
     },
     "metadata": {
      "needs_background": "light"
     },
     "output_type": "display_data"
    }
   ],
   "source": [
    "plot_bins(usrvidx_resvidx_tups_pos_SFCS_sam)"
   ]
  },
  {
   "cell_type": "markdown",
   "id": "f9e17e7a",
   "metadata": {},
   "source": [
    "### Create negative synthetic examples"
   ]
  },
  {
   "cell_type": "code",
   "execution_count": 54,
   "id": "2fa11cbe",
   "metadata": {},
   "outputs": [
    {
     "name": "stdout",
     "output_type": "stream",
     "text": [
      "Num of neg examples: 22325\n",
      "Covered resources: 0.8394736842105263\n"
     ]
    }
   ],
   "source": [
    "#Through DIST method\n",
    "usrvidx_resvidx_tups = get_entry_tupes(gur, max_hops=5, alpha=2, sd=13)\n",
    "usrvidx_resvidx_tups_neg_DIST = filter_atts(gur, usrvidx_resvidx_tups_, minth=0, maxth=3)\n",
    "print('Num of neg examples:', len(usrvidx_resvidx_tups_neg_DIST))\n",
    "print('Covered resources:', cov_resources(usrvidx_resvidx_tups_neg_DIST))"
   ]
  },
  {
   "cell_type": "code",
   "execution_count": 55,
   "id": "f69e1207",
   "metadata": {},
   "outputs": [
    {
     "name": "stdout",
     "output_type": "stream",
     "text": [
      "Num of neg examples: 5106\n",
      "Covered resources: 0.20833333333333334\n"
     ]
    }
   ],
   "source": [
    "#Through SFCS method\n",
    "usrvidx_resvidx_tups = get_entry_tupes(gur, max_hops=5, alpha=2, sd=13)\n",
    "usrvidx_resvidx_tups_ = filter_sim(gur, usrvidx_resvidx_tups, thmin=0.05, thmax=0.2)\n",
    "usrvidx_resvidx_tups_neg_SFCS = filter_atts(gur, usrvidx_resvidx_tups_, minth=0, maxth=3)\n",
    "print('Num of neg examples:', len(usrvidx_resvidx_tups_neg_SFCS))\n",
    "print('Covered resources:', cov_resources(usrvidx_resvidx_tups_neg_SFCS))"
   ]
  },
  {
   "cell_type": "code",
   "execution_count": 56,
   "id": "55fd5ab0",
   "metadata": {},
   "outputs": [
    {
     "name": "stdout",
     "output_type": "stream",
     "text": [
      "Num of neg examples: 4575\n",
      "Covered resources: 0.4570175438596491\n"
     ]
    }
   ],
   "source": [
    "#Through RANDOM method\n",
    "usrvidx_resvidx_tups = get_non_entries(gur, numentries=20000, sd=13)\n",
    "usrvidx_resvidx_tups_neg_RANDOM = filter_atts(gur, usrvidx_resvidx_tups, minth=0, maxth=3)\n",
    "print('Num of neg examples:', len(usrvidx_resvidx_tups_neg_RANDOM))\n",
    "print('Covered resources:', cov_resources(usrvidx_resvidx_tups_neg_RANDOM))"
   ]
  },
  {
   "cell_type": "markdown",
   "id": "d64d9f61",
   "metadata": {},
   "source": [
    "Get subset of negative examples"
   ]
  },
  {
   "cell_type": "code",
   "execution_count": 61,
   "id": "02f15d31",
   "metadata": {},
   "outputs": [],
   "source": [
    "num_neg_examples = 1600 #Because AZKAG has 32K entries\n",
    "random.seed(13)\n",
    "usrvidx_resvidx_tups_neg_DIST_sam = random.sample(usrvidx_resvidx_tups_neg_DIST,num_neg_examples)\n",
    "random.seed(13)\n",
    "usrvidx_resvidx_tups_neg_SFCS_sam = random.sample(usrvidx_resvidx_tups_neg_SFCS,num_neg_examples)\n",
    "random.seed(13)\n",
    "usrvidx_resvidx_tups_neg_RANDOM_sam = random.sample(usrvidx_resvidx_tups_neg_RANDOM,num_neg_examples)"
   ]
  },
  {
   "cell_type": "markdown",
   "id": "fb169506",
   "metadata": {},
   "source": [
    "Plot some distributions"
   ]
  },
  {
   "cell_type": "code",
   "execution_count": 62,
   "id": "5631aafd",
   "metadata": {},
   "outputs": [
    {
     "data": {
      "image/png": "[encoded data removed]",
      "text/plain": [
       "<Figure size 432x288 with 1 Axes>"
      ]
     },
     "metadata": {
      "needs_background": "light"
     },
     "output_type": "display_data"
    }
   ],
   "source": [
    "plot_bins(usrvidx_resvidx_tups_neg_SFCS_sam)"
   ]
  },
  {
   "cell_type": "code",
   "execution_count": 63,
   "id": "f47f856e",
   "metadata": {},
   "outputs": [
    {
     "data": {
      "image/png": "[encoded data removed]",
      "text/plain": [
       "<Figure size 432x288 with 1 Axes>"
      ]
     },
     "metadata": {
      "needs_background": "light"
     },
     "output_type": "display_data"
    }
   ],
   "source": [
    "plot_bins(usrvidx_resvidx_tups_neg_RANDOM_sam)"
   ]
  },
  {
   "cell_type": "code",
   "execution_count": null,
   "id": "2b15a7d7",
   "metadata": {},
   "outputs": [],
   "source": []
  },
  {
   "cell_type": "code",
   "execution_count": 83,
   "id": "50277b55",
   "metadata": {},
   "outputs": [],
   "source": [
    "def print_measures(num_pos, num_neg, num_truepos, num_falsepos):\n",
    "    print('TPR', num_truepos/num_pos)\n",
    "    print('FPR', num_falsepos/num_neg)\n",
    "    recall = num_truepos/num_pos\n",
    "    precision = num_truepos/(num_truepos+num_falsepos)\n",
    "    fscore = 2*recall*precision/(recall+precision)\n",
    "    print('Precision:', precision)\n",
    "    print('Fscore:', fscore)\n",
    "    \n",
    "    num_trueneg = num_neg - num_falsepos\n",
    "    acc = (num_truepos+num_trueneg)/(num_pos+num_neg)\n",
    "    print('Accuracy:', acc)"
   ]
  },
  {
   "cell_type": "code",
   "execution_count": null,
   "id": "b930247c",
   "metadata": {},
   "outputs": [],
   "source": []
  },
  {
   "cell_type": "markdown",
   "id": "3664601f",
   "metadata": {},
   "source": [
    "### Evaluate biclique graph patterns"
   ]
  },
  {
   "cell_type": "code",
   "execution_count": 64,
   "id": "80e31d50",
   "metadata": {},
   "outputs": [
    {
     "name": "stdout",
     "output_type": "stream",
     "text": [
      "Total bicliques: 17563\n"
     ]
    }
   ],
   "source": [
    "with open('data_structures/maxcc_azkag_bcs_v2.pkl', 'rb') as f:\n",
    "    bcs = pickle.load(f)\n",
    "\n",
    "print('Total bicliques:', len(bcs))"
   ]
  },
  {
   "cell_type": "code",
   "execution_count": 65,
   "id": "6e81b8a7",
   "metadata": {},
   "outputs": [
    {
     "name": "stdout",
     "output_type": "stream",
     "text": [
      "Selected bicliques: 12263\n"
     ]
    }
   ],
   "source": [
    "subbcs = []\n",
    "for bc in bcs:\n",
    "    if bc.get_pattern() != None and len(bc.get_pattern()) >= 1:\n",
    "        nusr = len(bc.get_usrids())\n",
    "        nres = len(bc.get_resids())\n",
    "        subbcs.append(bc)\n",
    "\n",
    "print('Selected bicliques:', len(subbcs))"
   ]
  },
  {
   "cell_type": "code",
   "execution_count": 66,
   "id": "2539a82f",
   "metadata": {},
   "outputs": [],
   "source": [
    "with open('data_structures/azkag_bcgraph.pkl', 'rb') as f:\n",
    "    bcgraph = pickle.load(f)"
   ]
  },
  {
   "cell_type": "code",
   "execution_count": 67,
   "id": "9d4603ab",
   "metadata": {},
   "outputs": [
    {
     "name": "stdout",
     "output_type": "stream",
     "text": [
      "Num graph patterns: 6886\n"
     ]
    }
   ],
   "source": [
    "bcid_to_bc = {bc.get_id():bc for bc in subbcs}\n",
    "gps = bcg.dfs(bcgraph, bcid_to_bc, sa=1)\n",
    "print('Num graph patterns:', len(gps))"
   ]
  },
  {
   "cell_type": "code",
   "execution_count": 68,
   "id": "8842a0c5",
   "metadata": {},
   "outputs": [],
   "source": [
    "gps_final = []\n",
    "for gpidx,gp in enumerate(gps):\n",
    "    if len(gp[1]) < 50:\n",
    "        gps_final.append(gp)\n",
    "\n",
    "gps_final = [gp for gp in gps_final if len(gp[0])>1]"
   ]
  },
  {
   "cell_type": "code",
   "execution_count": 69,
   "id": "7bdebcd8",
   "metadata": {},
   "outputs": [
    {
     "data": {
      "text/plain": [
       "6375"
      ]
     },
     "execution_count": 69,
     "metadata": {},
     "output_type": "execute_result"
    }
   ],
   "source": [
    "len(gps_final)"
   ]
  },
  {
   "cell_type": "code",
   "execution_count": null,
   "id": "155cae34",
   "metadata": {},
   "outputs": [],
   "source": []
  },
  {
   "cell_type": "code",
   "execution_count": 70,
   "id": "4b7588a4",
   "metadata": {},
   "outputs": [],
   "source": [
    "#Create mappings\n",
    "rules = [gp[0] for gp in gps_final]\n",
    "\n",
    "bcid_to_ruleidxs = dict()\n",
    "for ruleidx,gp in enumerate(gps_final):\n",
    "    for bcid in gp[1]:\n",
    "        if not bcid in bcid_to_ruleidxs:\n",
    "            bcid_to_ruleidxs[bcid] = []\n",
    "        bcid_to_ruleidxs[bcid].append(ruleidx)\n",
    "        \n",
    "#Agregado debido que ahora cargo el grafo de respaldo\n",
    "bcid_to_bcidx = dict()\n",
    "for bcidx,bc in enumerate(subbcs):\n",
    "    bcid = bc.get_id()\n",
    "    bcid_to_bcidx[bcid] = bcidx\n",
    "    \n",
    "resid_to_bcids = dict()\n",
    "for bcv in bcgraph.vs:\n",
    "    bcid = bcv['bcid']\n",
    "    bc = subbcs[bcid_to_bcidx[bcid]]\n",
    "    resids_ = bc.get_resids()\n",
    "    for resid in resids_:\n",
    "        if not resid in resid_to_bcids:\n",
    "            resid_to_bcids[resid] = []\n",
    "        resid_to_bcids[resid].append(bcid) "
   ]
  },
  {
   "cell_type": "code",
   "execution_count": 77,
   "id": "1ccbc153",
   "metadata": {},
   "outputs": [],
   "source": [
    "def evaluate_bgp(gur, usrvidx_resvidx_tups):\n",
    "\n",
    "    num_valid = 0\n",
    "    num_trues = 0\n",
    "\n",
    "    for tup in usrvidx_resvidx_tups:\n",
    "        usrvidx = tup[0]\n",
    "        resvidx = tup[1]\n",
    "        usrattvals = userlog_objs[usrvidx]\n",
    "        resid = int(gur.vs[resvidx]['name'][6:])\n",
    "\n",
    "        if resid in resid_to_bcids:\n",
    "            ruleidxs = set()\n",
    "            for bcid in resid_to_bcids[resid]:\n",
    "                if bcid in bcid_to_ruleidxs:\n",
    "                    ruleidxs |= set(bcid_to_ruleidxs[bcid])\n",
    "\n",
    "            ruleidxs = list(ruleidxs)\n",
    "\n",
    "            if len(ruleidxs) > 0:\n",
    "                num_valid += 1\n",
    "\n",
    "            for ruleidx in ruleidxs:\n",
    "                rule = rules[ruleidx]\n",
    "                if len(set(usrattvals)&set(rule)) == len(rule):\n",
    "                        num_trues += 1\n",
    "                        break\n",
    "                        \n",
    "    return num_valid, num_trues\n",
    "            \n"
   ]
  },
  {
   "cell_type": "code",
   "execution_count": 79,
   "id": "bd79c694",
   "metadata": {},
   "outputs": [
    {
     "name": "stdout",
     "output_type": "stream",
     "text": [
      "TPR 0.8825\n",
      "FPR 0.264375\n",
      "Precision: 0.7694822888283379\n",
      "Fscore: 0.8221251819505093\n",
      "Accuracy: 0.8090625\n"
     ]
    }
   ],
   "source": [
    "#Pos: dist, Neg: dist\n",
    "n = len(usrvidx_resvidx_tups_pos)\n",
    "num_pos_valid, num_truepos = evaluate_bgp(gur, usrvidx_resvidx_tups_pos_DIST_sam)\n",
    "num_neg_valid, num_falsepos = evaluate_bgp(gur, usrvidx_resvidx_tups_neg_DIST_sam)\n",
    "print_measures(len(usrvidx_resvidx_tups_pos), len(usrvidx_resvidx_tups_neg), num_truepos, num_falsepos)"
   ]
  },
  {
   "cell_type": "code",
   "execution_count": 80,
   "id": "cd6c93b4",
   "metadata": {},
   "outputs": [
    {
     "name": "stdout",
     "output_type": "stream",
     "text": [
      "TPR 0.8825\n",
      "FPR 0.0875\n",
      "Precision: 0.9097938144329897\n",
      "Fscore: 0.8959390862944162\n",
      "Accuracy: 0.8975\n"
     ]
    }
   ],
   "source": [
    "#Pos: dist, Neg: random\n",
    "n = len(usrvidx_resvidx_tups_pos)\n",
    "num_pos_valid, num_truepos = evaluate_bgp(gur, usrvidx_resvidx_tups_pos_DIST_sam)\n",
    "num_neg_valid, num_falsepos = evaluate_bgp(gur, usrvidx_resvidx_tups_neg_RANDOM_sam)\n",
    "print_measures(len(usrvidx_resvidx_tups_pos), len(usrvidx_resvidx_tups_neg), num_truepos, num_falsepos)"
   ]
  },
  {
   "cell_type": "code",
   "execution_count": 78,
   "id": "54995acc",
   "metadata": {},
   "outputs": [
    {
     "name": "stdout",
     "output_type": "stream",
     "text": [
      "TPR 0.8675\n",
      "FPR 0.216875\n",
      "Precision: 0.8\n",
      "Fscore: 0.8323838080959521\n",
      "Accuracy: 0.8253125\n"
     ]
    }
   ],
   "source": [
    "#Pos: sfcs, Neg: sfcs\n",
    "n = len(usrvidx_resvidx_tups_pos)\n",
    "num_pos_valid, num_truepos = evaluate_bgp(gur, usrvidx_resvidx_tups_pos_SFCS_sam)\n",
    "num_neg_valid, num_falsepos = evaluate_bgp(gur, usrvidx_resvidx_tups_neg_SFCS_sam)\n",
    "print_measures(len(usrvidx_resvidx_tups_pos), len(usrvidx_resvidx_tups_neg), num_truepos, num_falsepos)"
   ]
  },
  {
   "cell_type": "code",
   "execution_count": 81,
   "id": "8bf1276a",
   "metadata": {},
   "outputs": [
    {
     "name": "stdout",
     "output_type": "stream",
     "text": [
      "TPR 0.8675\n",
      "FPR 0.0875\n",
      "Precision: 0.9083769633507853\n",
      "Fscore: 0.887468030690537\n",
      "Accuracy: 0.89\n"
     ]
    }
   ],
   "source": [
    "#Pos: sfcs, Neg: random\n",
    "n = len(usrvidx_resvidx_tups_pos)\n",
    "num_pos_valid, num_truepos = evaluate_bgp(gur, usrvidx_resvidx_tups_pos_SFCS_sam)\n",
    "num_neg_valid, num_falsepos = evaluate_bgp(gur, usrvidx_resvidx_tups_neg_RANDOM_sam)\n",
    "print_measures(len(usrvidx_resvidx_tups_pos), len(usrvidx_resvidx_tups_neg), num_truepos, num_falsepos)"
   ]
  },
  {
   "cell_type": "markdown",
   "id": "1e31115a",
   "metadata": {},
   "source": [
    "### Evaluation frequent patterns"
   ]
  },
  {
   "cell_type": "code",
   "execution_count": 82,
   "id": "e116a835",
   "metadata": {},
   "outputs": [],
   "source": [
    "global_f = 5\n",
    "resid_to_valsentries,resid_to_patterns=\\\n",
    "avp.compute_avpatterns(gur, lmin=2, global_f=global_f, verbose=False)"
   ]
  },
  {
   "cell_type": "code",
   "execution_count": 84,
   "id": "d1407528",
   "metadata": {},
   "outputs": [],
   "source": [
    "def evaluate_fp(gur, usrvidx_resvidx_tups):\n",
    "    num_valid = 0\n",
    "    num_trues = 0\n",
    "    for tup in usrvidx_resvidx_tups:\n",
    "        usrvidx = tup[0]\n",
    "        resvidx = tup[1]\n",
    "        usrattvals = userlog_objs[usrvidx]\n",
    "        resid = int(gur.vs[resvidx]['name'][6:])\n",
    "\n",
    "        if len(resid_to_patterns[resid]) > 0:\n",
    "            num_valid += 1\n",
    "\n",
    "        for rule in resid_to_patterns[resid]:\n",
    "            if len(set(usrattvals)&set(rule)) == len(rule):\n",
    "                    num_trues += 1\n",
    "                    break\n",
    "                    \n",
    "    return num_valid, num_trues\n",
    "    "
   ]
  },
  {
   "cell_type": "code",
   "execution_count": 85,
   "id": "5377b8bb",
   "metadata": {},
   "outputs": [
    {
     "name": "stdout",
     "output_type": "stream",
     "text": [
      "TPR 0.596875\n",
      "FPR 0.07875\n",
      "Precision: 0.883441258094357\n",
      "Fscore: 0.712420738530399\n",
      "Accuracy: 0.7590625\n"
     ]
    }
   ],
   "source": [
    "#Pos: dist, Neg: dist\n",
    "n = len(usrvidx_resvidx_tups_pos)\n",
    "num_pos_valid, num_truepos = evaluate_fp(gur, usrvidx_resvidx_tups_pos_DIST_sam)\n",
    "num_neg_valid, num_falsepos = evaluate_fp(gur, usrvidx_resvidx_tups_neg_DIST_sam)\n",
    "print_measures(len(usrvidx_resvidx_tups_pos), len(usrvidx_resvidx_tups_neg), num_truepos, num_falsepos)"
   ]
  },
  {
   "cell_type": "code",
   "execution_count": 86,
   "id": "ca777b7c",
   "metadata": {},
   "outputs": [
    {
     "name": "stdout",
     "output_type": "stream",
     "text": [
      "TPR 0.596875\n",
      "FPR 0.0175\n",
      "Precision: 0.9715157680569685\n",
      "Fscore: 0.7394502516453736\n",
      "Accuracy: 0.7896875\n"
     ]
    }
   ],
   "source": [
    "#Pos: dist, Neg: random\n",
    "n = len(usrvidx_resvidx_tups_pos)\n",
    "num_pos_valid, num_truepos = evaluate_fp(gur, usrvidx_resvidx_tups_pos_DIST_sam)\n",
    "num_neg_valid, num_falsepos = evaluate_fp(gur, usrvidx_resvidx_tups_neg_RANDOM_sam)\n",
    "print_measures(len(usrvidx_resvidx_tups_pos), len(usrvidx_resvidx_tups_neg), num_truepos, num_falsepos)"
   ]
  },
  {
   "cell_type": "code",
   "execution_count": 87,
   "id": "7ea20c47",
   "metadata": {},
   "outputs": [
    {
     "name": "stdout",
     "output_type": "stream",
     "text": [
      "TPR 0.585\n",
      "FPR 0.095\n",
      "Precision: 0.8602941176470589\n",
      "Fscore: 0.6964285714285714\n",
      "Accuracy: 0.745\n"
     ]
    }
   ],
   "source": [
    "#Pos: sfcs, Neg: sfcs\n",
    "n = len(usrvidx_resvidx_tups_pos)\n",
    "num_pos_valid, num_truepos = evaluate_fp(gur, usrvidx_resvidx_tups_pos_SFCS_sam)\n",
    "num_neg_valid, num_falsepos = evaluate_fp(gur, usrvidx_resvidx_tups_neg_SFCS_sam)\n",
    "print_measures(len(usrvidx_resvidx_tups_pos), len(usrvidx_resvidx_tups_neg), num_truepos, num_falsepos)"
   ]
  },
  {
   "cell_type": "code",
   "execution_count": 88,
   "id": "ffb57845",
   "metadata": {},
   "outputs": [
    {
     "name": "stdout",
     "output_type": "stream",
     "text": [
      "TPR 0.585\n",
      "FPR 0.0175\n",
      "Precision: 0.970954356846473\n",
      "Fscore: 0.7301092043681746\n",
      "Accuracy: 0.78375\n"
     ]
    }
   ],
   "source": [
    "#Pos: sfcs, Neg: random\n",
    "n = len(usrvidx_resvidx_tups_pos)\n",
    "num_pos_valid, num_truepos = evaluate_fp(gur, usrvidx_resvidx_tups_pos_SFCS_sam)\n",
    "num_neg_valid, num_falsepos = evaluate_fp(gur, usrvidx_resvidx_tups_neg_RANDOM_sam)\n",
    "print_measures(len(usrvidx_resvidx_tups_pos), len(usrvidx_resvidx_tups_neg), num_truepos, num_falsepos)"
   ]
  },
  {
   "cell_type": "code",
   "execution_count": null,
   "id": "4c549b30",
   "metadata": {},
   "outputs": [],
   "source": []
  },
  {
   "cell_type": "code",
   "execution_count": null,
   "id": "2d93f672",
   "metadata": {},
   "outputs": [],
   "source": []
  }
 ],
 "metadata": {
  "kernelspec": {
   "display_name": "Python 3 (ipykernel)",
   "language": "python",
   "name": "python3"
  },
  "language_info": {
   "codemirror_mode": {
    "name": "ipython",
    "version": 3
   },
   "file_extension": ".py",
   "mimetype": "text/x-python",
   "name": "python",
   "nbconvert_exporter": "python",
   "pygments_lexer": "ipython3",
   "version": "3.9.16"
  }
 },
 "nbformat": 4,
 "nbformat_minor": 5
}

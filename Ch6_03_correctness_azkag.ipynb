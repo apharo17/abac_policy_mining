{
 "cells": [
  {
   "cell_type": "markdown",
   "id": "7047438f",
   "metadata": {},
   "source": [
    "This notebook evaluates the correctness of AZKAG for our method based on biclique-graph-patterns and the classical method based on frequent-patterns. We report Recall, Precision and F-score using two types of synthetic examples for the negatives: from random sampling, and from our generation procedure. We also report some statitics about the resulting examples."
   ]
  },
  {
   "cell_type": "code",
   "execution_count": 1,
   "id": "aafd7f12",
   "metadata": {},
   "outputs": [],
   "source": [
    "import numpy as np\n",
    "import pandas as pd\n",
    "import matplotlib.pyplot as plt\n",
    "import igraph as ig\n",
    "from collections import Counter\n",
    "import pickle\n",
    "import math\n",
    "import random\n",
    "import copy\n",
    "\n",
    "from src import acgraph as acg\n",
    "from src import bcloader as bcl\n",
    "from src import utils as ut\n",
    "from src import bcgraph as bcg\n",
    "from src import avpattern as avp\n",
    "from efficient_apriori import apriori\n"
   ]
  },
  {
   "cell_type": "markdown",
   "id": "39fafc1d",
   "metadata": {},
   "source": [
    "### Load access control graph"
   ]
  },
  {
   "cell_type": "code",
   "execution_count": 2,
   "id": "2ac36ca3",
   "metadata": {},
   "outputs": [
    {
     "name": "stdout",
     "output_type": "stream",
     "text": [
      "---Control Access Graph---\n",
      "Total edges: 30872\n",
      "Total vertices: 16524\n",
      "Num users: 9298\n",
      "Num resources: 7226\n",
      "\n",
      "---Largest Connected Component---\n",
      "Total edges: 30425\n",
      "Total vertices: 15773\n",
      "Num users: 8933\n",
      "Num resources: 6840\n"
     ]
    }
   ],
   "source": [
    "rel_attnames = [\n",
    "#'MGR_ID',\n",
    "#'ROLE_ROLLUP_1',\n",
    "'ROLE_ROLLUP_2',\n",
    "'ROLE_DEPTNAME',\n",
    "'ROLE_TITLE',\n",
    "'ROLE_FAMILY_DESC',\n",
    "'ROLE_FAMILY']\n",
    "gur = acg.load_azkag_graph(rel_attnames=rel_attnames, isWeighted=True)\n",
    "print('---Control Access Graph---')\n",
    "print('Total edges:', len(gur.es))\n",
    "print('Total vertices:', len(gur.vs))\n",
    "\n",
    "gur_usrlabels,gur_reslabels = acg.get_labels(gur, byweights=False)\n",
    "print('Num users:',len(gur_usrlabels))\n",
    "print('Num resources:', len(gur_reslabels))\n",
    "print()\n",
    "\n",
    "gur = acg.get_largestcc(gur)\n",
    "print('---Largest Connected Component---')\n",
    "print('Total edges:', len(gur.es))\n",
    "print('Total vertices:', len(gur.vs))\n",
    "usrlabels,reslabels = acg.get_labels(gur, byweights=False)\n",
    "print('Num users:',len(usrlabels))\n",
    "print('Num resources:', len(reslabels))"
   ]
  },
  {
   "cell_type": "code",
   "execution_count": 3,
   "id": "28beff04",
   "metadata": {},
   "outputs": [],
   "source": [
    "#Get attribute-values of users\n",
    "userlog_objs = []\n",
    "for v in gur.vs:\n",
    "    if v['type'] == False:\n",
    "        userlog_obj = []\n",
    "        for attname in v.attribute_names():\n",
    "            if not attname in ['type','name']:\n",
    "                userlog_obj.append(v[attname])\n",
    "        userlog_objs.append(userlog_obj)\n",
    "userlog_objs = ut.to_tuple_format(userlog_objs)\n",
    "\n",
    "resvidx_to_neighattvals = dict()\n",
    "for vidx,v in enumerate(gur.vs):\n",
    "    if v['type'] == True:\n",
    "        neighattvals = set()\n",
    "        for usrvidx in gur.neighbors(v):\n",
    "            neighattvals |= set(userlog_objs[usrvidx])\n",
    "            \n",
    "        resvidx_to_neighattvals[vidx] = list(neighattvals)"
   ]
  },
  {
   "cell_type": "markdown",
   "id": "0ae6b9f5",
   "metadata": {},
   "source": [
    "### Useful functions"
   ]
  },
  {
   "cell_type": "code",
   "execution_count": 4,
   "id": "b6f536de",
   "metadata": {},
   "outputs": [],
   "source": [
    "def res_requesters_distrib(usrvidx_resvidx_tups):\n",
    "    resvidxset = set()\n",
    "    for tup in usrvidx_resvidx_tups:\n",
    "        resvidxset.add(tup[1])\n",
    "    num_requesters = []\n",
    "    for resvidx in list(resvidxset):\n",
    "        num_requesters.append(len(gur.neighbors(resvidx)))\n",
    "\n",
    "    num_requesters_to_freq = dict(Counter(num_requesters))\n",
    "    num_requesters_to_freq = dict(sorted(num_requesters_to_freq.items(), key=lambda item: item[1]))\n",
    "    totalf = sum(num_requesters_to_freq.values())\n",
    "\n",
    "    x = num_requesters_to_freq.keys()\n",
    "    y = [f/totalf for f in num_requesters_to_freq.values()]\n",
    "    plt.loglog(x, y, '.')\n",
    "    plt.xlabel('num requesters')\n",
    "    plt.ylabel('p')\n",
    "    plt.show()"
   ]
  },
  {
   "cell_type": "code",
   "execution_count": 5,
   "id": "2b59eaf2",
   "metadata": {},
   "outputs": [],
   "source": [
    "def cosine_sim(gur, usrvidx, resvidx):\n",
    "    uv = gur.vs[usrvidx]\n",
    "    rv = gur.vs[resvidx]\n",
    "    uneighs = gur.neighbors(uv)\n",
    "    uneighs2 = set()\n",
    "    for resvidx in uneighs:\n",
    "        uneighs2 |= set(gur.neighbors(gur.vs[resvidx]))   \n",
    "    rneighs = gur.neighbors(rv)\n",
    "    cs = len(set(uneighs2)&set(rneighs))/math.sqrt(len(uneighs)*len(rneighs))\n",
    "    return cs"
   ]
  },
  {
   "cell_type": "code",
   "execution_count": 6,
   "id": "4a67b88b",
   "metadata": {},
   "outputs": [],
   "source": [
    "def next_vertex(gur, v):\n",
    "    neighvidxs = gur.neighbors(v)\n",
    "    i = random.randint(0,len(neighvidxs)-1)\n",
    "    return gur.vs[neighvidxs[i]]\n",
    "    \n",
    "\n",
    "def get_entry_tupes(gur, max_hops, alpha, sd):\n",
    "    random.seed(sd)\n",
    "    usrvidx_resvidx_tups = list()\n",
    "    \n",
    "    for v in gur.vs:\n",
    "        if v['type']: #Only resources\n",
    "            neighvidxsset = set(gur.neighbors(v))\n",
    "            deg = len(neighvidxsset)\n",
    "            usrvidxsset = set()\n",
    "\n",
    "            count = 0\n",
    "            while len(usrvidxsset) < alpha*deg:\n",
    "                v_ = v\n",
    "                for i in range(max_hops):\n",
    "                    v2 = next_vertex(gur, v_)\n",
    "                    if i == max_hops-1 and not v2.index in neighvidxsset:\n",
    "                        usrvidxsset.add(v2.index)\n",
    "                    else:\n",
    "                        v_ = v2\n",
    "                count += 1\n",
    "                \n",
    "                if count > 100000:\n",
    "                    break\n",
    "                    \n",
    "            for usrvidx in list(usrvidxsset):\n",
    "                usrvidx_resvidx_tups.append((usrvidx,v.index))\n",
    "        \n",
    "    return usrvidx_resvidx_tups\n",
    "\n",
    "\n",
    "def filter_sim(gur, usrvidx_resvidx_tups, thmin, thmax):\n",
    "    usrvidx_resvidx_tups_ = []\n",
    "    for tup in usrvidx_resvidx_tups:\n",
    "        usrvidx = tup[0]\n",
    "        resvidx = tup[1]\n",
    "        cs = cosine_sim(gur, usrvidx, resvidx)\n",
    "        if cs > thmin and cs <= thmax:\n",
    "            usrvidx_resvidx_tups_.append(tup)\n",
    "    \n",
    "    return usrvidx_resvidx_tups_\n",
    "\n",
    "\n",
    "def filter_atts(gur, usrvidx_resvidx_tups, minth, maxth):\n",
    "    usrvidx_resvidx_tups_ = []\n",
    "    \n",
    "    for tup in usrvidx_resvidx_tups:\n",
    "        usrvidx = tup[0]\n",
    "        resvidx = tup[1]\n",
    "        \n",
    "        usrattvalsset = set(userlog_objs[usrvidx])\n",
    "        neighattvalsset = set(resvidx_to_neighattvals[resvidx])\n",
    "        \n",
    "        x = len(usrattvalsset&neighattvalsset)\n",
    "        if x > minth and x <= maxth:\n",
    "            usrvidx_resvidx_tups_.append(tup)\n",
    "            \n",
    "    return usrvidx_resvidx_tups_\n",
    "    \n",
    "\n",
    "def get_non_entries(gur, numentries, sd):\n",
    "    edges_tuples = []\n",
    "    for e in gur.es:\n",
    "        edges_tuples.append((e.source,e.target))\n",
    "\n",
    "    usrvidxs = []\n",
    "    resvidxs = []\n",
    "    for v in gur.vs:\n",
    "        if v['type']:\n",
    "            resvidxs.append(v.index)\n",
    "        else:\n",
    "            usrvidxs.append(v.index)\n",
    "\n",
    "    random.seed(sd)\n",
    "    usrvidxs_random = random.choices(usrvidxs,k=10*numentries)\n",
    "    resvidxs_random = random.choices(resvidxs,k=10*numentries)\n",
    "\n",
    "    i = 0\n",
    "    j = 0\n",
    "    usrvidx_resvidx_tups_non = []\n",
    "    while i < numentries:\n",
    "        tup = (usrvidxs_random[j], resvidxs_random[j])\n",
    "        if not tup in edges_tuples: \n",
    "            usrvidx_resvidx_tups_non.append(tup)\n",
    "            i += 1\n",
    "        j += 1\n",
    "        \n",
    "    return usrvidx_resvidx_tups_non\n"
   ]
  },
  {
   "cell_type": "markdown",
   "id": "a3758d21",
   "metadata": {},
   "source": [
    "### Create synthetic examples through our method"
   ]
  },
  {
   "cell_type": "code",
   "execution_count": 7,
   "id": "eced2cc3",
   "metadata": {
    "scrolled": true
   },
   "outputs": [
    {
     "name": "stdout",
     "output_type": "stream",
     "text": [
      "Num of pos examples: 16744\n"
     ]
    }
   ],
   "source": [
    "#Synthetic positives (our method)\n",
    "usrvidx_resvidx_tups = get_entry_tupes(gur, max_hops=3, alpha=2, sd=43)\n",
    "usrvidx_resvidx_tups_ = filter_sim(gur, usrvidx_resvidx_tups, thmin=0.2, thmax=100)\n",
    "usrvidx_resvidx_tups_pos = filter_atts(gur, usrvidx_resvidx_tups_, minth=3, maxth=10)\n",
    "print('Num of pos examples:', len(usrvidx_resvidx_tups_pos))"
   ]
  },
  {
   "cell_type": "code",
   "execution_count": 8,
   "id": "364cc81b",
   "metadata": {},
   "outputs": [],
   "source": [
    "random.seed(13)\n",
    "usrvidx_resvidx_tups_pos = random.sample(usrvidx_resvidx_tups_pos,1600) #Because AZKAG has 32K entries"
   ]
  },
  {
   "cell_type": "code",
   "execution_count": 9,
   "id": "1197a8e0",
   "metadata": {},
   "outputs": [
    {
     "data": {
      "image/png": "[encoded data removed]",
      "text/plain": [
       "<Figure size 432x288 with 1 Axes>"
      ]
     },
     "metadata": {
      "needs_background": "light"
     },
     "output_type": "display_data"
    }
   ],
   "source": [
    "#Distribution of synthetic positives (our method)\n",
    "res_requesters_distrib(usrvidx_resvidx_tups_pos)"
   ]
  },
  {
   "cell_type": "code",
   "execution_count": 10,
   "id": "23204f86",
   "metadata": {},
   "outputs": [
    {
     "name": "stdout",
     "output_type": "stream",
     "text": [
      "Num of neg examples: 5106\n"
     ]
    }
   ],
   "source": [
    "#Synthetic negatives (our method)\n",
    "usrvidx_resvidx_tups = get_entry_tupes(gur, max_hops=5, alpha=2, sd=13)\n",
    "usrvidx_resvidx_tups_ = filter_sim(gur, usrvidx_resvidx_tups, thmin=0.05, thmax=0.2)\n",
    "usrvidx_resvidx_tups_neg = filter_atts(gur, usrvidx_resvidx_tups_, minth=0, maxth=3)\n",
    "print('Num of neg examples:', len(usrvidx_resvidx_tups_neg))"
   ]
  },
  {
   "cell_type": "code",
   "execution_count": 11,
   "id": "cc5b8271",
   "metadata": {},
   "outputs": [],
   "source": [
    "random.seed(13)\n",
    "usrvidx_resvidx_tups_neg = random.sample(usrvidx_resvidx_tups_neg,1600) #Because AZKAG has 32K entries"
   ]
  },
  {
   "cell_type": "code",
   "execution_count": 12,
   "id": "818da172",
   "metadata": {},
   "outputs": [
    {
     "data": {
      "image/png": "[encoded data removed]",
      "text/plain": [
       "<Figure size 432x288 with 1 Axes>"
      ]
     },
     "metadata": {
      "needs_background": "light"
     },
     "output_type": "display_data"
    }
   ],
   "source": [
    "#Distribution of synthetic negatives (our method)\n",
    "res_requesters_distrib(usrvidx_resvidx_tups_neg)"
   ]
  },
  {
   "cell_type": "markdown",
   "id": "a212c037",
   "metadata": {},
   "source": [
    "### Create synthetic negative examples through random sampling"
   ]
  },
  {
   "cell_type": "code",
   "execution_count": 13,
   "id": "63e15775",
   "metadata": {},
   "outputs": [
    {
     "name": "stdout",
     "output_type": "stream",
     "text": [
      "Num of neg examples: 4575\n"
     ]
    }
   ],
   "source": [
    "usrvidx_resvidx_tups = get_non_entries(gur, numentries=20000, sd=13)\n",
    "usrvidx_resvidx_tups_neg_random = filter_atts(gur, usrvidx_resvidx_tups, minth=0, maxth=3)\n",
    "print('Num of neg examples:', len(usrvidx_resvidx_tups_neg_random))"
   ]
  },
  {
   "cell_type": "code",
   "execution_count": 14,
   "id": "5d12be07",
   "metadata": {},
   "outputs": [],
   "source": [
    "random.seed(13)\n",
    "usrvidx_resvidx_tups_neg_random = random.sample(usrvidx_resvidx_tups_neg_random,1600)\n",
    "#Because AZKAG has 32K entries"
   ]
  },
  {
   "cell_type": "code",
   "execution_count": 15,
   "id": "09e56c93",
   "metadata": {},
   "outputs": [
    {
     "data": {
      "image/png": "[encoded data removed]",
      "text/plain": [
       "<Figure size 432x288 with 1 Axes>"
      ]
     },
     "metadata": {
      "needs_background": "light"
     },
     "output_type": "display_data"
    }
   ],
   "source": [
    "#Distribution of synthetic negatives (our method)\n",
    "res_requesters_distrib(usrvidx_resvidx_tups_neg_random)"
   ]
  },
  {
   "cell_type": "markdown",
   "id": "3664601f",
   "metadata": {},
   "source": [
    "### Evaluate biclique graph patterns"
   ]
  },
  {
   "cell_type": "code",
   "execution_count": 16,
   "id": "80e31d50",
   "metadata": {},
   "outputs": [
    {
     "name": "stdout",
     "output_type": "stream",
     "text": [
      "Total bicliques: 17563\n"
     ]
    }
   ],
   "source": [
    "with open('data_structures/maxcc_azkag_bcs_v2.pkl', 'rb') as f:\n",
    "    bcs = pickle.load(f)\n",
    "\n",
    "print('Total bicliques:', len(bcs))"
   ]
  },
  {
   "cell_type": "code",
   "execution_count": 17,
   "id": "6e81b8a7",
   "metadata": {},
   "outputs": [
    {
     "name": "stdout",
     "output_type": "stream",
     "text": [
      "Selected bicliques: 12263\n"
     ]
    }
   ],
   "source": [
    "subbcs = []\n",
    "for bc in bcs:\n",
    "    if bc.get_pattern() != None and len(bc.get_pattern()) >= 1:\n",
    "        nusr = len(bc.get_usrids())\n",
    "        nres = len(bc.get_resids())\n",
    "        subbcs.append(bc)\n",
    "\n",
    "print('Selected bicliques:', len(subbcs))"
   ]
  },
  {
   "cell_type": "code",
   "execution_count": 18,
   "id": "2539a82f",
   "metadata": {},
   "outputs": [],
   "source": [
    "with open('data_structures/azkag_bcgraph.pkl', 'rb') as f:\n",
    "    bcgraph = pickle.load(f)"
   ]
  },
  {
   "cell_type": "code",
   "execution_count": 19,
   "id": "9d4603ab",
   "metadata": {},
   "outputs": [
    {
     "name": "stdout",
     "output_type": "stream",
     "text": [
      "Num graph patterns: 6886\n"
     ]
    }
   ],
   "source": [
    "bcid_to_bc = {bc.get_id():bc for bc in subbcs}\n",
    "gps = bcg.dfs(bcgraph, bcid_to_bc, sa=1)\n",
    "print('Num graph patterns:', len(gps))"
   ]
  },
  {
   "cell_type": "code",
   "execution_count": 20,
   "id": "8842a0c5",
   "metadata": {},
   "outputs": [],
   "source": [
    "gps_final = []\n",
    "for gpidx,gp in enumerate(gps):\n",
    "    if len(gp[1]) < 50:\n",
    "        gps_final.append(gp)\n",
    "\n",
    "gps_final = [gp for gp in gps_final if len(gp[0])>1]"
   ]
  },
  {
   "cell_type": "code",
   "execution_count": 21,
   "id": "7bdebcd8",
   "metadata": {},
   "outputs": [
    {
     "data": {
      "text/plain": [
       "6375"
      ]
     },
     "execution_count": 21,
     "metadata": {},
     "output_type": "execute_result"
    }
   ],
   "source": [
    "len(gps_final)"
   ]
  },
  {
   "cell_type": "code",
   "execution_count": null,
   "id": "155cae34",
   "metadata": {},
   "outputs": [],
   "source": []
  },
  {
   "cell_type": "code",
   "execution_count": 22,
   "id": "4b7588a4",
   "metadata": {},
   "outputs": [],
   "source": [
    "#Create mappings\n",
    "rules = [gp[0] for gp in gps_final]\n",
    "\n",
    "bcid_to_ruleidxs = dict()\n",
    "for ruleidx,gp in enumerate(gps_final):\n",
    "    for bcid in gp[1]:\n",
    "        if not bcid in bcid_to_ruleidxs:\n",
    "            bcid_to_ruleidxs[bcid] = []\n",
    "        bcid_to_ruleidxs[bcid].append(ruleidx)\n",
    "        \n",
    "#Agregado debido que ahora cargo el grafo de respaldo\n",
    "bcid_to_bcidx = dict()\n",
    "for bcidx,bc in enumerate(subbcs):\n",
    "    bcid = bc.get_id()\n",
    "    bcid_to_bcidx[bcid] = bcidx\n",
    "    \n",
    "resid_to_bcids = dict()\n",
    "for bcv in bcgraph.vs:\n",
    "    bcid = bcv['bcid']\n",
    "    bc = subbcs[bcid_to_bcidx[bcid]]\n",
    "    resids_ = bc.get_resids()\n",
    "    for resid in resids_:\n",
    "        if not resid in resid_to_bcids:\n",
    "            resid_to_bcids[resid] = []\n",
    "        resid_to_bcids[resid].append(bcid) "
   ]
  },
  {
   "cell_type": "code",
   "execution_count": 23,
   "id": "1ccbc153",
   "metadata": {},
   "outputs": [],
   "source": [
    "def evaluate_bgp(gur, usrvidx_resvidx_tups):\n",
    "\n",
    "    num_valid = 0\n",
    "    num_trues = 0\n",
    "\n",
    "    for tup in usrvidx_resvidx_tups:\n",
    "        usrvidx = tup[0]\n",
    "        resvidx = tup[1]\n",
    "        usrattvals = userlog_objs[usrvidx]\n",
    "        resid = int(gur.vs[resvidx]['name'][6:])\n",
    "\n",
    "        if resid in resid_to_bcids:\n",
    "            ruleidxs = set()\n",
    "            for bcid in resid_to_bcids[resid]:\n",
    "                if bcid in bcid_to_ruleidxs:\n",
    "                    ruleidxs |= set(bcid_to_ruleidxs[bcid])\n",
    "\n",
    "            ruleidxs = list(ruleidxs)\n",
    "\n",
    "            if len(ruleidxs) > 0:\n",
    "                num_valid += 1\n",
    "\n",
    "            for ruleidx in ruleidxs:\n",
    "                rule = rules[ruleidx]\n",
    "                if len(set(usrattvals)&set(rule)) == len(rule):\n",
    "                        num_trues += 1\n",
    "                        break\n",
    "                        \n",
    "    return num_valid, num_trues\n",
    "            \n",
    "            "
   ]
  },
  {
   "cell_type": "code",
   "execution_count": 30,
   "id": "e4bd5bd1",
   "metadata": {},
   "outputs": [
    {
     "name": "stdout",
     "output_type": "stream",
     "text": [
      "TPR 0.8675\n",
      "FPR 0.216875\n",
      "Precision: 0.8\n",
      "Fscore: 0.8323838080959521\n"
     ]
    }
   ],
   "source": [
    "n = len(usrvidx_resvidx_tups_pos)\n",
    "num_pos, num_truepos = evaluate_bgp(gur, usrvidx_resvidx_tups_pos)\n",
    "num_neg, num_falsepos = evaluate_bgp(gur, usrvidx_resvidx_tups_neg)\n",
    "print('TPR', num_truepos/n)\n",
    "print('FPR', num_falsepos/n)\n",
    "\n",
    "recall = num_truepos/n\n",
    "precision = num_truepos/(num_truepos+num_falsepos)\n",
    "fscore = 2*recall*precision/(recall+precision)\n",
    "print('Precision:', precision)\n",
    "print('Fscore:', fscore)"
   ]
  },
  {
   "cell_type": "code",
   "execution_count": 31,
   "id": "5711edfa",
   "metadata": {},
   "outputs": [
    {
     "name": "stdout",
     "output_type": "stream",
     "text": [
      "TPR 0.8675\n",
      "FPR 0.0875\n",
      "Precision: 0.9083769633507853\n",
      "Fscore: 0.887468030690537\n"
     ]
    }
   ],
   "source": [
    "n = len(usrvidx_resvidx_tups_pos)\n",
    "num_pos, num_truepos = evaluate_bgp(gur, usrvidx_resvidx_tups_pos)\n",
    "num_neg, num_falsepos = evaluate_bgp(gur, usrvidx_resvidx_tups_neg_random)\n",
    "print('TPR', num_truepos/n)\n",
    "print('FPR', num_falsepos/n)\n",
    "\n",
    "recall = num_truepos/n\n",
    "precision = num_truepos/(num_truepos+num_falsepos)\n",
    "fscore = 2*recall*precision/(recall+precision)\n",
    "print('Precision:', precision)\n",
    "print('Fscore:', fscore)"
   ]
  },
  {
   "cell_type": "markdown",
   "id": "1e31115a",
   "metadata": {},
   "source": [
    "### Evaluation frequent patterns"
   ]
  },
  {
   "cell_type": "code",
   "execution_count": 26,
   "id": "e116a835",
   "metadata": {},
   "outputs": [],
   "source": [
    "global_f = 5\n",
    "resid_to_valsentries,resid_to_patterns=\\\n",
    "avp.compute_avpatterns(gur, lmin=2, global_f=global_f, verbose=False)"
   ]
  },
  {
   "cell_type": "code",
   "execution_count": 27,
   "id": "d1407528",
   "metadata": {},
   "outputs": [],
   "source": [
    "def evaluate_fp(gur, usrvidx_resvidx_tups):\n",
    "    num_valid = 0\n",
    "    num_trues = 0\n",
    "    for tup in usrvidx_resvidx_tups:\n",
    "        usrvidx = tup[0]\n",
    "        resvidx = tup[1]\n",
    "        usrattvals = userlog_objs[usrvidx]\n",
    "        resid = int(gur.vs[resvidx]['name'][6:])\n",
    "\n",
    "        if len(resid_to_patterns[resid]) > 0:\n",
    "            num_valid += 1\n",
    "\n",
    "        for rule in resid_to_patterns[resid]:\n",
    "            if len(set(usrattvals)&set(rule)) == len(rule):\n",
    "                    num_trues += 1\n",
    "                    break\n",
    "                    \n",
    "    return num_valid, num_trues\n",
    "    "
   ]
  },
  {
   "cell_type": "code",
   "execution_count": 32,
   "id": "3a2462cb",
   "metadata": {},
   "outputs": [
    {
     "name": "stdout",
     "output_type": "stream",
     "text": [
      "TPR 0.585\n",
      "FPR 0.095\n",
      "Precision: 0.8602941176470589\n",
      "Fscore: 0.6964285714285714\n"
     ]
    }
   ],
   "source": [
    "n = len(usrvidx_resvidx_tups_pos)\n",
    "num_pos, num_truepos = evaluate_fp(gur, usrvidx_resvidx_tups_pos)\n",
    "num_neg, num_falsepos = evaluate_fp(gur, usrvidx_resvidx_tups_neg)\n",
    "print('TPR', num_truepos/n)\n",
    "print('FPR', num_falsepos/n)\n",
    "\n",
    "recall = num_truepos/n\n",
    "precision = num_truepos/(num_truepos+num_falsepos)\n",
    "fscore = 2*recall*precision/(recall+precision)\n",
    "print('Precision:', precision)\n",
    "print('Fscore:', fscore)"
   ]
  },
  {
   "cell_type": "code",
   "execution_count": 33,
   "id": "11c39902",
   "metadata": {},
   "outputs": [
    {
     "name": "stdout",
     "output_type": "stream",
     "text": [
      "TPR 0.585\n",
      "FPR 0.0175\n",
      "Precision: 0.970954356846473\n",
      "Fscore: 0.7301092043681746\n"
     ]
    }
   ],
   "source": [
    "n = len(usrvidx_resvidx_tups_pos)\n",
    "num_pos, num_truepos = evaluate_fp(gur, usrvidx_resvidx_tups_pos)\n",
    "num_neg, num_falsepos = evaluate_fp(gur, usrvidx_resvidx_tups_neg_random)\n",
    "print('TPR', num_truepos/n)\n",
    "print('FPR', num_falsepos/n)\n",
    "\n",
    "recall = num_truepos/n\n",
    "precision = num_truepos/(num_truepos+num_falsepos)\n",
    "fscore = 2*recall*precision/(recall+precision)\n",
    "print('Precision:', precision)\n",
    "print('Fscore:', fscore)"
   ]
  },
  {
   "cell_type": "code",
   "execution_count": null,
   "id": "151cb893",
   "metadata": {},
   "outputs": [],
   "source": [
    "#Fscore lower for fp\n",
    "#This is because some of the example contemples resources low requested"
   ]
  }
 ],
 "metadata": {
  "kernelspec": {
   "display_name": "Python 3 (ipykernel)",
   "language": "python",
   "name": "python3"
  },
  "language_info": {
   "codemirror_mode": {
    "name": "ipython",
    "version": 3
   },
   "file_extension": ".py",
   "mimetype": "text/x-python",
   "name": "python",
   "nbconvert_exporter": "python",
   "pygments_lexer": "ipython3",
   "version": "3.9.16"
  }
 },
 "nbformat": 4,
 "nbformat_minor": 5
}

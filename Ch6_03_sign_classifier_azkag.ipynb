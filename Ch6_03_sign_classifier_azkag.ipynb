{
 "cells": [
  {
   "cell_type": "markdown",
   "id": "3ac50b6a",
   "metadata": {},
   "source": [
    "This notebook presents the procedure to get the best similarity function and its corresponding threshold-value to filter the synthetic candidates by structural properties, for the AZKAG dataset. The threshold is obtained by training the sign classifier. For 5 vertex-similarity functions, we report the **score distributions**, the **AUC** value, and **other statistics**: the number of resouces, the requester distributions for resources, and number of examples (for positives and negatives)."
   ]
  },
  {
   "cell_type": "code",
   "execution_count": 1,
   "id": "15c683e8",
   "metadata": {},
   "outputs": [],
   "source": [
    "import numpy as np\n",
    "import pandas as pd\n",
    "import matplotlib.pyplot as plt\n",
    "import igraph as ig\n",
    "from collections import Counter\n",
    "import pickle\n",
    "import math\n",
    "import random\n",
    "import copy\n",
    "from sklearn.metrics import accuracy_score, confusion_matrix, roc_auc_score, roc_curve\n",
    "\n",
    "from src import acgraph as acg\n",
    "from src import bcloader as bcl\n",
    "from src import utils as ut\n",
    "from src import bcgraph as bcg\n",
    "from efficient_apriori import apriori"
   ]
  },
  {
   "cell_type": "markdown",
   "id": "f12c2cbd",
   "metadata": {},
   "source": [
    "### Load access control graph"
   ]
  },
  {
   "cell_type": "code",
   "execution_count": 2,
   "id": "b263f94d",
   "metadata": {},
   "outputs": [
    {
     "name": "stdout",
     "output_type": "stream",
     "text": [
      "---Control Access Graph---\n",
      "Total edges: 30872\n",
      "Total vertices: 16524\n",
      "Num users: 9298\n",
      "Num resources: 7226\n",
      "\n",
      "---Largest Connected Component---\n",
      "Total edges: 30425\n",
      "Total vertices: 15773\n",
      "Num users: 8933\n",
      "Num resources: 6840\n"
     ]
    }
   ],
   "source": [
    "rel_attnames = [\n",
    "#'MGR_ID',\n",
    "#'ROLE_ROLLUP_1',\n",
    "'ROLE_ROLLUP_2',\n",
    "'ROLE_DEPTNAME',\n",
    "'ROLE_TITLE',\n",
    "'ROLE_FAMILY_DESC',\n",
    "'ROLE_FAMILY']\n",
    "gur = acg.load_azkag_graph(rel_attnames=rel_attnames, isWeighted=True)\n",
    "print('---Control Access Graph---')\n",
    "print('Total edges:', len(gur.es))\n",
    "print('Total vertices:', len(gur.vs))\n",
    "\n",
    "gur_usrlabels,gur_reslabels = acg.get_labels(gur, byweights=False)\n",
    "print('Num users:',len(gur_usrlabels))\n",
    "print('Num resources:', len(gur_reslabels))\n",
    "print()\n",
    "\n",
    "gur = acg.get_largestcc(gur)\n",
    "print('---Largest Connected Component---')\n",
    "print('Total edges:', len(gur.es))\n",
    "print('Total vertices:', len(gur.vs))\n",
    "usrlabels,reslabels = acg.get_labels(gur, byweights=False)\n",
    "print('Num users:',len(usrlabels))\n",
    "print('Num resources:', len(reslabels))"
   ]
  },
  {
   "cell_type": "markdown",
   "id": "fd6c167d",
   "metadata": {},
   "source": [
    "### Useful functions for creating training set"
   ]
  },
  {
   "cell_type": "code",
   "execution_count": 3,
   "id": "bbb29342",
   "metadata": {},
   "outputs": [],
   "source": [
    "def get_negative_entries(gur):\n",
    "    df_emp_access = pd.read_csv('data/train.csv')\n",
    "    \n",
    "    attnames_list = list(df_emp_access.columns)[2:]\n",
    "\n",
    "    #---Group by the column header: attvalues, residx, resolution---\n",
    "    dfgb_temp = df_emp_access.groupby(attnames_list + ['RESOURCE','ACTION'])\n",
    "    df_temp = dfgb_temp.size().to_frame(name = 'count').reset_index()\n",
    "    df_temp = df_temp.drop('count', axis=1)\n",
    "\n",
    "    #---Add user indexes---\n",
    "    dfgb_temp = df_temp.groupby(attnames_list)\n",
    "\n",
    "    dfs_list = []\n",
    "    usridx = 0\n",
    "    for _,df in dfgb_temp:\n",
    "        k = df.shape[0]\n",
    "        df.insert(loc=0, column='USR_ID', value=[usridx for _ in range(k)])\n",
    "        dfs_list.append(df)\n",
    "        usridx += 1\n",
    "    df_temp = pd.concat(dfs_list)\n",
    "\n",
    "    df_entries = df_temp[['USR_ID', 'RESOURCE', 'ACTION']]\n",
    "\n",
    "    df_neg_entries = df_entries[df_entries['ACTION']==0]\n",
    "\n",
    "    dfgb_neg = df_neg_entries.groupby(['USR_ID','RESOURCE'])\n",
    "    df_temp_neg = dfgb_neg.size().to_frame(name = 'COUNT').reset_index()\n",
    "    usrid_to_resid_neg = df_temp_neg[['USR_ID','RESOURCE']].values.tolist()\n",
    "    \n",
    "    #Map ids to indexes in the graph\n",
    "    usrid_to_vidx = dict()\n",
    "    resid_to_vidx = dict()\n",
    "    for v in gur.vs:\n",
    "        if v['type'] == False:\n",
    "            usrid = int(v['name'][6:])\n",
    "            usrid_to_vidx[usrid] = v.index\n",
    "        else:\n",
    "            resid = int(v['name'][6:])\n",
    "            resid_to_vidx[resid] = v.index\n",
    "    \n",
    "    usrvidx_resvidx_tups_neg = list()\n",
    "    for tup in usrid_to_resid_neg:\n",
    "        usrid = tup[0]\n",
    "        resid = tup[1]\n",
    "        if usrid in usrid_to_vidx and resid in resid_to_vidx:\n",
    "            usrvidx_resvidx_tups_neg.append((usrid_to_vidx[usrid], resid_to_vidx[resid]))\n",
    "            \n",
    "    return usrvidx_resvidx_tups_neg\n",
    "\n",
    "\n",
    "def get_positive_entries(gur, numentries, sd):\n",
    "    random.seed(sd)\n",
    "    usrvidx_resvidx_tups_pos = []\n",
    "\n",
    "    es_sampled = random.sample(sorted(gur.es),numentries)\n",
    "    for e in es_sampled:\n",
    "        usrvidx = e.source\n",
    "        resvidx = e.target\n",
    "        usrvidx_resvidx_tups_pos.append((usrvidx, resvidx))\n",
    "        \n",
    "    gur2 = copy.deepcopy(gur)\n",
    "    gur2.delete_edges(es_sampled)\n",
    "    \n",
    "    return usrvidx_resvidx_tups_pos, gur2\n",
    "    \n",
    "    \n",
    "def get_non_entries(gur, numentries, sd):\n",
    "    edges_tuples = []\n",
    "    for e in gur.es:\n",
    "        edges_tuples.append((e.source,e.target))\n",
    "\n",
    "    usrvidxs = []\n",
    "    resvidxs = []\n",
    "    for v in gur.vs:\n",
    "        if v['type']:\n",
    "            resvidxs.append(v.index)\n",
    "        else:\n",
    "            usrvidxs.append(v.index)\n",
    "\n",
    "    random.seed = sd\n",
    "    usrvidxs_random = random.choices(usrvidxs,k=10*numentries)\n",
    "    resvidxs_random = random.choices(resvidxs,k=10*numentries)\n",
    "\n",
    "    i = 0\n",
    "    j = 0\n",
    "    usrvidx_resvidx_tups_non = []\n",
    "    while i < numentries:\n",
    "        tup = (usrvidxs_random[j], resvidxs_random[j])\n",
    "        if not tup in edges_tuples: \n",
    "            usrvidx_resvidx_tups_non.append(tup)\n",
    "            i += 1\n",
    "        j += 1\n",
    "        \n",
    "    return usrvidx_resvidx_tups_non\n",
    "  "
   ]
  },
  {
   "cell_type": "code",
   "execution_count": 4,
   "id": "d6d5a676",
   "metadata": {},
   "outputs": [],
   "source": [
    "def res_requesters_distrib(usrvidx_to_resvidx):\n",
    "    resvidxset = set()\n",
    "    for tup in usrvidx_to_resvidx:\n",
    "        resvidxset.add(tup[1])\n",
    "    num_requesters = []\n",
    "    for resvidx in list(resvidxset):\n",
    "        num_requesters.append(len(gur.neighbors(resvidx)))\n",
    "\n",
    "    num_requesters_to_freq = dict(Counter(num_requesters))\n",
    "    num_requesters_to_freq = dict(sorted(num_requesters_to_freq.items(), key=lambda item: item[1]))\n",
    "\n",
    "    plt.plot(num_requesters_to_freq.keys(), num_requesters_to_freq.values(), '.')\n",
    "    plt.xlabel('num requesters')\n",
    "    plt.ylabel('freq')\n",
    "    plt.show()"
   ]
  },
  {
   "cell_type": "markdown",
   "id": "5abae319",
   "metadata": {},
   "source": [
    "### Create training sets for the sign classifier"
   ]
  },
  {
   "cell_type": "code",
   "execution_count": 6,
   "id": "d35b5199",
   "metadata": {},
   "outputs": [
    {
     "name": "stdout",
     "output_type": "stream",
     "text": [
      "Num neg examples: 1152\n"
     ]
    }
   ],
   "source": [
    "usrvidx_resvidx_tups_neg = get_negative_entries(gur)\n",
    "print('Num neg examples:', len(usrvidx_resvidx_tups_neg))"
   ]
  },
  {
   "cell_type": "code",
   "execution_count": 7,
   "id": "180665e8",
   "metadata": {},
   "outputs": [
    {
     "data": {
      "image/png": "[encoded data removed]",
      "text/plain": [
       "<Figure size 432x288 with 1 Axes>"
      ]
     },
     "metadata": {
      "needs_background": "light"
     },
     "output_type": "display_data"
    }
   ],
   "source": [
    "#Requester distribution for resources of neg examples\n",
    "res_requesters_distrib(usrvidx_resvidx_tups_neg)"
   ]
  },
  {
   "cell_type": "code",
   "execution_count": 8,
   "id": "ee214ec4",
   "metadata": {},
   "outputs": [
    {
     "name": "stdout",
     "output_type": "stream",
     "text": [
      "Num pos examples: 1152\n"
     ]
    }
   ],
   "source": [
    "usrvidx_resvidx_tups_pos, gur2 = get_positive_entries(gur, len(usrvidx_resvidx_tups_neg), 13)\n",
    "print('Num pos examples:', len(usrvidx_resvidx_tups_pos))"
   ]
  },
  {
   "cell_type": "code",
   "execution_count": 9,
   "id": "6714ccd6",
   "metadata": {},
   "outputs": [
    {
     "data": {
      "image/png": "[encoded data removed]",
      "text/plain": [
       "<Figure size 432x288 with 1 Axes>"
      ]
     },
     "metadata": {
      "needs_background": "light"
     },
     "output_type": "display_data"
    }
   ],
   "source": [
    "#Requester distribution for resources of pos examples\n",
    "res_requesters_distrib(usrvidx_resvidx_tups_pos)"
   ]
  },
  {
   "cell_type": "code",
   "execution_count": 10,
   "id": "bfd3117e",
   "metadata": {},
   "outputs": [
    {
     "name": "stdout",
     "output_type": "stream",
     "text": [
      "Num non examples: 1152\n"
     ]
    }
   ],
   "source": [
    "#This corresponds to nor positive non negative user-resource pairs\n",
    "usrvidx_resvidx_tups_non = get_non_entries(gur, len(usrvidx_resvidx_tups_neg), 13)\n",
    "print('Num non examples:', len(usrvidx_resvidx_tups_non))"
   ]
  },
  {
   "cell_type": "code",
   "execution_count": 11,
   "id": "bb853600",
   "metadata": {},
   "outputs": [
    {
     "data": {
      "image/png": "[encoded data removed]",
      "text/plain": [
       "<Figure size 432x288 with 1 Axes>"
      ]
     },
     "metadata": {
      "needs_background": "light"
     },
     "output_type": "display_data"
    }
   ],
   "source": [
    "#Requester distribution for resources of non examples\n",
    "res_requesters_distrib(usrvidx_resvidx_tups_non)"
   ]
  },
  {
   "cell_type": "markdown",
   "id": "642c323c",
   "metadata": {},
   "source": [
    "### Similarity functions"
   ]
  },
  {
   "cell_type": "code",
   "execution_count": 12,
   "id": "25c20ef7",
   "metadata": {},
   "outputs": [],
   "source": [
    "def commonneigh_sim(gur, usrvidx, resvidx):\n",
    "    uv = gur.vs[usrvidx]\n",
    "    rv = gur.vs[resvidx]\n",
    "    uneighs = gur.neighbors(uv)\n",
    "    uneighs2 = set()\n",
    "    for resvidx in uneighs:\n",
    "        uneighs2 |= set(gur.neighbors(gur.vs[resvidx]))\n",
    "    rneighs = gur.neighbors(rv)\n",
    "    cn = len(set(uneighs2)&set(rneighs))\n",
    "    return cn"
   ]
  },
  {
   "cell_type": "code",
   "execution_count": 13,
   "id": "44190216",
   "metadata": {},
   "outputs": [],
   "source": [
    "def jaccard_sim(gur, usrvidx, resvidx):\n",
    "    uv = gur.vs[usrvidx]\n",
    "    rv = gur.vs[resvidx]\n",
    "    uneighs = gur.neighbors(uv)\n",
    "    uneighs2 = set()\n",
    "    for resvidx in uneighs:\n",
    "        uneighs2 |= set(gur.neighbors(gur.vs[resvidx]))   \n",
    "    rneighs = gur.neighbors(rv)\n",
    "    js = len(set(uneighs2)&set(rneighs))/len(set(uneighs2)|set(rneighs))\n",
    "    return js"
   ]
  },
  {
   "cell_type": "code",
   "execution_count": 14,
   "id": "c5cd5879",
   "metadata": {},
   "outputs": [],
   "source": [
    "def cosine_sim(gur, usrvidx, resvidx):\n",
    "    uv = gur.vs[usrvidx]\n",
    "    rv = gur.vs[resvidx]\n",
    "    uneighs = gur.neighbors(uv)\n",
    "    uneighs2 = set()\n",
    "    for resvidx in uneighs:\n",
    "        uneighs2 |= set(gur.neighbors(gur.vs[resvidx]))   \n",
    "    rneighs = gur.neighbors(rv)\n",
    "    cs = len(set(uneighs2)&set(rneighs))/math.sqrt(len(uneighs)*len(rneighs))\n",
    "    return cs"
   ]
  },
  {
   "cell_type": "code",
   "execution_count": 15,
   "id": "e56c5df8",
   "metadata": {},
   "outputs": [],
   "source": [
    "def aa_sim(gur, usrvidx, resvidx):\n",
    "    uv = gur.vs[usrvidx]\n",
    "    rv = gur.vs[resvidx]\n",
    "    uneighs = gur.neighbors(uv)\n",
    "    uneighs2 = set()\n",
    "    for resvidx in uneighs:\n",
    "        uneighs2 |= set(gur.neighbors(gur.vs[resvidx])) \n",
    "    rneighs = gur.neighbors(rv)\n",
    "    aasim = 0\n",
    "    for usrvidx3 in list(set(uneighs2)&set(rneighs)):\n",
    "        den = len(gur.neighbors(gur.vs[usrvidx3]))\n",
    "        if den == 1:\n",
    "            aasim += 1/100\n",
    "        else:\n",
    "            aasim += 1/math.log(den,10)\n",
    "        \n",
    "    return aasim"
   ]
  },
  {
   "cell_type": "code",
   "execution_count": 16,
   "id": "a423b1ea",
   "metadata": {},
   "outputs": [],
   "source": [
    "def pa_sim(gur, usrvidx, resvidx):\n",
    "    uv = gur.vs[usrvidx]\n",
    "    rv = gur.vs[resvidx]\n",
    "    uneighs = gur.neighbors(uv)\n",
    "    rneighs = gur.neighbors(rv)\n",
    "    pa = len(uneighs) * len(rneighs)\n",
    "    return pa"
   ]
  },
  {
   "cell_type": "code",
   "execution_count": 44,
   "id": "a422a871",
   "metadata": {},
   "outputs": [],
   "source": [
    "def compute_sims(simfunc):\n",
    "\n",
    "    sim_neg = []\n",
    "    for tup in usrvidx_resvidx_tups_neg:\n",
    "        usrvidx = tup[0]\n",
    "        resvidx = tup[1]\n",
    "        sim = simfunc(gur, usrvidx, resvidx)\n",
    "        sim_neg.append(sim)\n",
    "\n",
    "    sim_pos = []\n",
    "    for tup in usrvidx_resvidx_tups_pos:\n",
    "        usrvidx = tup[0]\n",
    "        resvidx = tup[1]\n",
    "        sim = simfunc(gur, usrvidx, resvidx)\n",
    "        sim_pos.append(sim)\n",
    "        \n",
    "    sim_non = []\n",
    "    for tup in usrvidx_resvidx_tups_non:\n",
    "        usrvidx = tup[0]\n",
    "        resvidx = tup[1]\n",
    "        sim = simfunc(gur, usrvidx, resvidx)\n",
    "        sim_non.append(sim)\n",
    "        \n",
    "    return sim_pos, sim_neg, sim_non\n",
    "\n",
    "    \n",
    "def plot_simdistribs(sim_pos, sim_neg, sim_non, bins, isLog=False, shownone=True):\n",
    "    plt.hist(sim_neg,bins=bins,color='tab:red')\n",
    "    plt.hist(sim_pos,bins=bins,alpha=0.8,color='tab:green')\n",
    "    plt.legend(['neg', 'pos'])\n",
    "    if shownone:\n",
    "        plt.hist(sim_non,bins=bins,alpha=0.5,color='tab:blue')\n",
    "        plt.legend(['neg', 'pos', 'non'])\n",
    "    if isLog:\n",
    "        plt.xscale('log')\n",
    "    plt.xlabel('sim')\n",
    "    plt.ylabel('count')\n",
    "    plt.show()\n",
    "\n",
    "    \n",
    "def _save_simvalues(sim_values, fname): \n",
    "    f = open(fname,'w')\n",
    "    for sim in sim_values:\n",
    "        strout = str(sim) + '\\n'\n",
    "        f.write(strout)\n",
    "    f.close()\n",
    "\n",
    "    \n",
    "def save_simvalues(sim_pos, sim_neg, sim_non, funcname):\n",
    "    _save_simvalues(sim_pos, 'dats/ch6_azkag_sim_{0}_pos.dat'.format(funcname))\n",
    "    _save_simvalues(sim_neg, 'dats/ch6_azkag_sim_{0}_neg.dat'.format(funcname))\n",
    "    _save_simvalues(sim_non, 'dats/ch6_azkag_sim_{0}_non.dat'.format(funcname))\n",
    "    \n",
    "\n",
    "def plot_roc_curve(sim_pos, sim_neg):\n",
    "    y_true = np.array([0 for tup in usrvidx_resvidx_tups_neg] + [1 for tup in usrvidx_resvidx_tups_pos])\n",
    "    y_scores = np.array([sim for sim in sim_neg] + [sim for sim in sim_pos])\n",
    "    fpr, tpr, thresholds = roc_curve(y_true, y_scores)\n",
    "    plt.plot(fpr, tpr)\n",
    "    plt.xlabel('False Positive Rate')\n",
    "    plt.ylabel('True Positive Rate')\n",
    "    \n",
    "    \n",
    "def auc_score(sim_pos, sim_neg):\n",
    "    y_true = np.array([0 for tup in usrvidx_resvidx_tups_neg] + [1 for tup in usrvidx_resvidx_tups_pos])\n",
    "    y_scores = np.array([sim for sim in sim_neg] + [sim for sim in sim_pos])\n",
    "    fpr, tpr, thresholds = roc_curve(y_true, y_scores)\n",
    "    return roc_auc_score(y_true, y_scores)\n",
    "    "
   ]
  },
  {
   "cell_type": "code",
   "execution_count": 45,
   "id": "f05e4875",
   "metadata": {},
   "outputs": [
    {
     "data": {
      "image/png": "[encoded data removed]",
      "text/plain": [
       "<Figure size 432x288 with 1 Axes>"
      ]
     },
     "metadata": {
      "needs_background": "light"
     },
     "output_type": "display_data"
    }
   ],
   "source": [
    "#Common neighbors similarity\n",
    "sim_pos,sim_neg,sim_non = compute_sims(commonneigh_sim)\n",
    "bins = np.linspace(0, 50, 11)\n",
    "plot_simdistribs(sim_pos, sim_neg, sim_non, bins, isLog=False)\n",
    "save_simvalues(sim_pos, sim_neg, sim_non, funcname='cn')\n",
    "\n",
    "auc_cn = auc_score(sim_pos, sim_neg)"
   ]
  },
  {
   "cell_type": "code",
   "execution_count": 47,
   "id": "7cc29056",
   "metadata": {},
   "outputs": [
    {
     "data": {
      "image/png": "[encoded data removed]",
      "text/plain": [
       "<Figure size 432x288 with 1 Axes>"
      ]
     },
     "metadata": {
      "needs_background": "light"
     },
     "output_type": "display_data"
    }
   ],
   "source": [
    "#Jaccard similarity\n",
    "sim_pos,sim_neg,sim_non = compute_sims(jaccard_sim)\n",
    "bins = np.linspace(0, 1, 21)\n",
    "plot_simdistribs(sim_pos, sim_neg, sim_non, bins, isLog=False)\n",
    "save_simvalues(sim_pos, sim_neg, sim_non, funcname='js')\n",
    "\n",
    "auc_js = auc_score(sim_pos, sim_neg)"
   ]
  },
  {
   "cell_type": "code",
   "execution_count": 48,
   "id": "bc56f642",
   "metadata": {},
   "outputs": [
    {
     "data": {
      "image/png": "[encoded data removed]",
      "text/plain": [
       "<Figure size 432x288 with 1 Axes>"
      ]
     },
     "metadata": {
      "needs_background": "light"
     },
     "output_type": "display_data"
    }
   ],
   "source": [
    "#Cosine similarity\n",
    "sim_pos,sim_neg,sim_non = compute_sims(cosine_sim)\n",
    "bins = np.linspace(0, 10, 201)\n",
    "plot_simdistribs(sim_pos, sim_neg, sim_non, bins, isLog=True)\n",
    "save_simvalues(sim_pos, sim_neg, sim_non, funcname='cs')\n",
    "\n",
    "auc_cs = auc_score(sim_pos, sim_neg)"
   ]
  },
  {
   "cell_type": "code",
   "execution_count": 49,
   "id": "387f99c4",
   "metadata": {},
   "outputs": [
    {
     "data": {
      "image/png": "[encoded data removed]",
      "text/plain": [
       "<Figure size 432x288 with 1 Axes>"
      ]
     },
     "metadata": {
      "needs_background": "light"
     },
     "output_type": "display_data"
    }
   ],
   "source": [
    "#Adamic-adar similarity\n",
    "sim_pos,sim_neg,sim_non = compute_sims(aa_sim)\n",
    "bins = np.linspace(0, 20, 41)\n",
    "plot_simdistribs(sim_pos, sim_neg, sim_non, bins, isLog=False)\n",
    "save_simvalues(sim_pos, sim_neg, sim_non, funcname='aa')\n",
    "\n",
    "auc_aa = auc_score(sim_pos, sim_neg)"
   ]
  },
  {
   "cell_type": "code",
   "execution_count": 50,
   "id": "383eb837",
   "metadata": {},
   "outputs": [
    {
     "data": {
      "image/png": "[encoded data removed]",
      "text/plain": [
       "<Figure size 432x288 with 1 Axes>"
      ]
     },
     "metadata": {
      "needs_background": "light"
     },
     "output_type": "display_data"
    }
   ],
   "source": [
    "#Preferential attachment similarity\n",
    "sim_pos,sim_neg,sim_non = compute_sims(pa_sim)\n",
    "bins = np.linspace(0, 20, 21)\n",
    "plot_simdistribs(sim_pos, sim_neg, sim_non, bins, isLog=False)\n",
    "save_simvalues(sim_pos, sim_neg, sim_non, funcname='pa')\n",
    "\n",
    "auc_pa = auc_score(sim_pos, sim_neg)"
   ]
  },
  {
   "cell_type": "markdown",
   "id": "b66e8c81",
   "metadata": {},
   "source": [
    "### ROC AUC values"
   ]
  },
  {
   "cell_type": "code",
   "execution_count": 56,
   "id": "b06153f3",
   "metadata": {},
   "outputs": [
    {
     "data": {
      "image/png": "[encoded data removed]",
      "text/plain": [
       "<Figure size 432x288 with 1 Axes>"
      ]
     },
     "metadata": {
      "needs_background": "light"
     },
     "output_type": "display_data"
    }
   ],
   "source": [
    "simlabels = ['cn','js','cs','aa','pa']\n",
    "simaucs = [auc_cn, auc_js, auc_cs, auc_aa, auc_pa]\n",
    "\n",
    "plt.bar(simlabels, simaucs, width = 0.7)\n",
    "plt.ylabel('roc auc')\n",
    "plt.show()"
   ]
  },
  {
   "cell_type": "code",
   "execution_count": 57,
   "id": "fe2f5476",
   "metadata": {},
   "outputs": [
    {
     "data": {
      "text/plain": [
       "[0.8392548737702547,\n",
       " 0.8664441520785109,\n",
       " 0.9080505371093751,\n",
       " 0.8422678252797068,\n",
       " 0.574029239607446]"
      ]
     },
     "execution_count": 57,
     "metadata": {},
     "output_type": "execute_result"
    }
   ],
   "source": [
    "simaucs"
   ]
  },
  {
   "cell_type": "code",
   "execution_count": null,
   "id": "7c019536",
   "metadata": {},
   "outputs": [],
   "source": []
  }
 ],
 "metadata": {
  "kernelspec": {
   "display_name": "Python 3 (ipykernel)",
   "language": "python",
   "name": "python3"
  },
  "language_info": {
   "codemirror_mode": {
    "name": "ipython",
    "version": 3
   },
   "file_extension": ".py",
   "mimetype": "text/x-python",
   "name": "python",
   "nbconvert_exporter": "python",
   "pygments_lexer": "ipython3",
   "version": "3.9.16"
  }
 },
 "nbformat": 4,
 "nbformat_minor": 5
}

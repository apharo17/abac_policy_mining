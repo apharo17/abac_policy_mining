{
 "cells": [
  {
   "cell_type": "code",
   "execution_count": 1,
   "metadata": {},
   "outputs": [],
   "source": [
    "import numpy as np\n",
    "import pandas as pd\n",
    "import matplotlib.pyplot as plt\n",
    "from collections import Counter\n",
    "import math"
   ]
  },
  {
   "cell_type": "markdown",
   "metadata": {},
   "source": [
    "### Load dataframe"
   ]
  },
  {
   "cell_type": "code",
   "execution_count": 3,
   "metadata": {},
   "outputs": [
    {
     "data": {
      "text/html": [
       "<div>\n",
       "<style scoped>\n",
       "    .dataframe tbody tr th:only-of-type {\n",
       "        vertical-align: middle;\n",
       "    }\n",
       "\n",
       "    .dataframe tbody tr th {\n",
       "        vertical-align: top;\n",
       "    }\n",
       "\n",
       "    .dataframe thead th {\n",
       "        text-align: right;\n",
       "    }\n",
       "</style>\n",
       "<table border=\"1\" class=\"dataframe\">\n",
       "  <thead>\n",
       "    <tr style=\"text-align: right;\">\n",
       "      <th></th>\n",
       "      <th>ACTION</th>\n",
       "      <th>TARGET_NAME</th>\n",
       "      <th>LOGIN</th>\n",
       "      <th>REQUEST_DATE</th>\n",
       "      <th>AUTHORIZATION_DATE</th>\n",
       "    </tr>\n",
       "  </thead>\n",
       "  <tbody>\n",
       "    <tr>\n",
       "      <th>0</th>\n",
       "      <td>remove_access</td>\n",
       "      <td>11044</td>\n",
       "      <td>45813</td>\n",
       "      <td>2005-03-25 10:53:40</td>\n",
       "      <td>2005-03-25 10:53:41</td>\n",
       "    </tr>\n",
       "    <tr>\n",
       "      <th>1</th>\n",
       "      <td>add_access</td>\n",
       "      <td>11044</td>\n",
       "      <td>65766</td>\n",
       "      <td>2005-03-25 10:55:46</td>\n",
       "      <td>2005-03-25 10:55:47</td>\n",
       "    </tr>\n",
       "    <tr>\n",
       "      <th>2</th>\n",
       "      <td>add_access</td>\n",
       "      <td>9521</td>\n",
       "      <td>72531</td>\n",
       "      <td>2005-04-04 13:51:33</td>\n",
       "      <td>2005-04-06 10:21:48</td>\n",
       "    </tr>\n",
       "    <tr>\n",
       "      <th>3</th>\n",
       "      <td>add_access</td>\n",
       "      <td>9521</td>\n",
       "      <td>72531</td>\n",
       "      <td>2005-04-04 13:52:01</td>\n",
       "      <td>2005-04-06 10:21:48</td>\n",
       "    </tr>\n",
       "    <tr>\n",
       "      <th>4</th>\n",
       "      <td>add_access</td>\n",
       "      <td>9521</td>\n",
       "      <td>72531</td>\n",
       "      <td>2005-04-04 13:52:11</td>\n",
       "      <td>2005-04-06 10:21:49</td>\n",
       "    </tr>\n",
       "    <tr>\n",
       "      <th>5</th>\n",
       "      <td>add_access</td>\n",
       "      <td>10339</td>\n",
       "      <td>65338</td>\n",
       "      <td>2005-04-05 10:37:48</td>\n",
       "      <td>2005-04-05 10:37:49</td>\n",
       "    </tr>\n",
       "    <tr>\n",
       "      <th>6</th>\n",
       "      <td>add_access</td>\n",
       "      <td>9521</td>\n",
       "      <td>72531</td>\n",
       "      <td>2005-04-05 16:20:29</td>\n",
       "      <td>2005-04-05 16:20:31</td>\n",
       "    </tr>\n",
       "    <tr>\n",
       "      <th>7</th>\n",
       "      <td>remove_access</td>\n",
       "      <td>154</td>\n",
       "      <td>74430</td>\n",
       "      <td>2005-04-05 19:59:15</td>\n",
       "      <td>2005-04-05 19:59:15</td>\n",
       "    </tr>\n",
       "    <tr>\n",
       "      <th>8</th>\n",
       "      <td>remove_access</td>\n",
       "      <td>9669</td>\n",
       "      <td>59618</td>\n",
       "      <td>2005-04-06 08:40:03</td>\n",
       "      <td>2005-04-06 08:40:06</td>\n",
       "    </tr>\n",
       "    <tr>\n",
       "      <th>9</th>\n",
       "      <td>add_access</td>\n",
       "      <td>7315</td>\n",
       "      <td>77213</td>\n",
       "      <td>2005-03-25 14:15:20</td>\n",
       "      <td>2005-03-28 08:13:21</td>\n",
       "    </tr>\n",
       "  </tbody>\n",
       "</table>\n",
       "</div>"
      ],
      "text/plain": [
       "          ACTION  TARGET_NAME  LOGIN         REQUEST_DATE   AUTHORIZATION_DATE\n",
       "0  remove_access        11044  45813  2005-03-25 10:53:40  2005-03-25 10:53:41\n",
       "1     add_access        11044  65766  2005-03-25 10:55:46  2005-03-25 10:55:47\n",
       "2     add_access         9521  72531  2005-04-04 13:51:33  2005-04-06 10:21:48\n",
       "3     add_access         9521  72531  2005-04-04 13:52:01  2005-04-06 10:21:48\n",
       "4     add_access         9521  72531  2005-04-04 13:52:11  2005-04-06 10:21:49\n",
       "5     add_access        10339  65338  2005-04-05 10:37:48  2005-04-05 10:37:49\n",
       "6     add_access         9521  72531  2005-04-05 16:20:29  2005-04-05 16:20:31\n",
       "7  remove_access          154  74430  2005-04-05 19:59:15  2005-04-05 19:59:15\n",
       "8  remove_access         9669  59618  2005-04-06 08:40:03  2005-04-06 08:40:06\n",
       "9     add_access         7315  77213  2005-03-25 14:15:20  2005-03-28 08:13:21"
      ]
     },
     "execution_count": 3,
     "metadata": {},
     "output_type": "execute_result"
    }
   ],
   "source": [
    "#---History table---\n",
    "df_history = pd.read_csv('data/access_log.csv')\n",
    "df_history.head(10)"
   ]
  },
  {
   "cell_type": "code",
   "execution_count": 4,
   "metadata": {},
   "outputs": [
    {
     "name": "stdout",
     "output_type": "stream",
     "text": [
      "---Description---\n",
      "Num requesters: 17612\n",
      "Num requested resources: 6451\n",
      "Num entries: 716063\n",
      "\n",
      "Num pos entries: 705152\n",
      "Num neg entries: 10911\n"
     ]
    }
   ],
   "source": [
    "num_requesters = len(df_history['LOGIN'].unique())\n",
    "num_requested_res = len(df_history['TARGET_NAME'].unique())\n",
    "\n",
    "print('---Description---')\n",
    "print('Num requesters:', num_requesters)\n",
    "print('Num requested resources:', num_requested_res)\n",
    "print('Num entries:', df_history.shape[0])\n",
    "print()\n",
    "\n",
    "df_pos_history = df_history[df_history['ACTION']=='add_access']\n",
    "df_neg_history = df_history[df_history['ACTION']=='remove_access']\n",
    "print('Num pos entries:', df_pos_history.shape[0])\n",
    "print('Num neg entries:', df_neg_history.shape[0])"
   ]
  },
  {
   "cell_type": "code",
   "execution_count": 7,
   "metadata": {},
   "outputs": [
    {
     "data": {
      "text/html": [
       "<div>\n",
       "<style scoped>\n",
       "    .dataframe tbody tr th:only-of-type {\n",
       "        vertical-align: middle;\n",
       "    }\n",
       "\n",
       "    .dataframe tbody tr th {\n",
       "        vertical-align: top;\n",
       "    }\n",
       "\n",
       "    .dataframe thead th {\n",
       "        text-align: right;\n",
       "    }\n",
       "</style>\n",
       "<table border=\"1\" class=\"dataframe\">\n",
       "  <thead>\n",
       "    <tr style=\"text-align: right;\">\n",
       "      <th></th>\n",
       "      <th>PERSON_ID</th>\n",
       "      <th>PERSON_BUSINESS_TITLE</th>\n",
       "      <th>PERSON_BUSINESS_TITLE_DETAIL</th>\n",
       "      <th>PERSON_COMPANY</th>\n",
       "      <th>PERSON_DEPTNAME</th>\n",
       "      <th>PERSON_JOB_CODE</th>\n",
       "      <th>PERSON_JOB_FAMILY</th>\n",
       "      <th>PERSON_LOCATION</th>\n",
       "      <th>PERSON_MGR_ID</th>\n",
       "      <th>PERSON_ROLLUP_1</th>\n",
       "      <th>PERSON_ROLLUP_2</th>\n",
       "      <th>PERSON_ROLLUP_3</th>\n",
       "    </tr>\n",
       "  </thead>\n",
       "  <tbody>\n",
       "    <tr>\n",
       "      <th>0</th>\n",
       "      <td>0</td>\n",
       "      <td>7</td>\n",
       "      <td>8</td>\n",
       "      <td>10</td>\n",
       "      <td>5</td>\n",
       "      <td>9</td>\n",
       "      <td>11</td>\n",
       "      <td>6</td>\n",
       "      <td>1</td>\n",
       "      <td>2</td>\n",
       "      <td>3</td>\n",
       "      <td>4</td>\n",
       "    </tr>\n",
       "    <tr>\n",
       "      <th>1</th>\n",
       "      <td>33263</td>\n",
       "      <td>33267</td>\n",
       "      <td>8</td>\n",
       "      <td>33269</td>\n",
       "      <td>33266</td>\n",
       "      <td>33268</td>\n",
       "      <td>33270</td>\n",
       "      <td>6</td>\n",
       "      <td>33264</td>\n",
       "      <td>2</td>\n",
       "      <td>33265</td>\n",
       "      <td>4</td>\n",
       "    </tr>\n",
       "    <tr>\n",
       "      <th>2</th>\n",
       "      <td>33271</td>\n",
       "      <td>33274</td>\n",
       "      <td>8</td>\n",
       "      <td>33276</td>\n",
       "      <td>33273</td>\n",
       "      <td>33275</td>\n",
       "      <td>11</td>\n",
       "      <td>6</td>\n",
       "      <td>33272</td>\n",
       "      <td>2</td>\n",
       "      <td>3</td>\n",
       "      <td>4</td>\n",
       "    </tr>\n",
       "    <tr>\n",
       "      <th>3</th>\n",
       "      <td>33277</td>\n",
       "      <td>33280</td>\n",
       "      <td>8</td>\n",
       "      <td>33269</td>\n",
       "      <td>33279</td>\n",
       "      <td>33268</td>\n",
       "      <td>33270</td>\n",
       "      <td>6</td>\n",
       "      <td>33278</td>\n",
       "      <td>2</td>\n",
       "      <td>33265</td>\n",
       "      <td>4</td>\n",
       "    </tr>\n",
       "    <tr>\n",
       "      <th>4</th>\n",
       "      <td>33281</td>\n",
       "      <td>33287</td>\n",
       "      <td>33288</td>\n",
       "      <td>33290</td>\n",
       "      <td>33286</td>\n",
       "      <td>33289</td>\n",
       "      <td>33291</td>\n",
       "      <td>6</td>\n",
       "      <td>33282</td>\n",
       "      <td>33283</td>\n",
       "      <td>33284</td>\n",
       "      <td>33285</td>\n",
       "    </tr>\n",
       "  </tbody>\n",
       "</table>\n",
       "</div>"
      ],
      "text/plain": [
       "   PERSON_ID  PERSON_BUSINESS_TITLE  PERSON_BUSINESS_TITLE_DETAIL  \\\n",
       "0          0                      7                             8   \n",
       "1      33263                  33267                             8   \n",
       "2      33271                  33274                             8   \n",
       "3      33277                  33280                             8   \n",
       "4      33281                  33287                         33288   \n",
       "\n",
       "   PERSON_COMPANY  PERSON_DEPTNAME  PERSON_JOB_CODE  PERSON_JOB_FAMILY  \\\n",
       "0              10                5                9                 11   \n",
       "1           33269            33266            33268              33270   \n",
       "2           33276            33273            33275                 11   \n",
       "3           33269            33279            33268              33270   \n",
       "4           33290            33286            33289              33291   \n",
       "\n",
       "   PERSON_LOCATION  PERSON_MGR_ID  PERSON_ROLLUP_1  PERSON_ROLLUP_2  \\\n",
       "0                6              1                2                3   \n",
       "1                6          33264                2            33265   \n",
       "2                6          33272                2                3   \n",
       "3                6          33278                2            33265   \n",
       "4                6          33282            33283            33284   \n",
       "\n",
       "   PERSON_ROLLUP_3  \n",
       "0                4  \n",
       "1                4  \n",
       "2                4  \n",
       "3                4  \n",
       "4            33285  "
      ]
     },
     "execution_count": 7,
     "metadata": {},
     "output_type": "execute_result"
    }
   ],
   "source": [
    "#---User table---\n",
    "df_users = pd.read_csv('data/az_uci_users.csv')\n",
    "df_users = df_users[['PERSON_ID', 'PERSON_BUSINESS_TITLE', 'PERSON_BUSINESS_TITLE_DETAIL',\n",
    "    'PERSON_COMPANY', 'PERSON_DEPTNAME', 'PERSON_JOB_CODE',\n",
    "    'PERSON_JOB_FAMILY', 'PERSON_LOCATION', 'PERSON_MGR_ID', 'PERSON_ROLLUP_1',\n",
    "    'PERSON_ROLLUP_2', 'PERSON_ROLLUP_3']]\n",
    "df_users.head(5)"
   ]
  },
  {
   "cell_type": "code",
   "execution_count": 8,
   "metadata": {},
   "outputs": [
    {
     "name": "stdout",
     "output_type": "stream",
     "text": [
      "---Description of users---\n",
      "Num users: 36063\n",
      "Num of attvalues:\n",
      "PERSON_BUSINESS_TITLE --> 4979\n",
      "PERSON_BUSINESS_TITLE_DETAIL --> 56\n",
      "PERSON_COMPANY --> 49\n",
      "PERSON_DEPTNAME --> 405\n",
      "PERSON_JOB_CODE --> 13\n",
      "PERSON_JOB_FAMILY --> 70\n",
      "PERSON_LOCATION --> 1\n",
      "PERSON_MGR_ID --> 3207\n",
      "PERSON_ROLLUP_1 --> 12\n",
      "PERSON_ROLLUP_2 --> 111\n",
      "PERSON_ROLLUP_3 --> 12\n",
      "\n"
     ]
    }
   ],
   "source": [
    "#Watch out! Estos datos son sobre todos los usuarios, no los del log\n",
    "total_users = df_users.shape[0]\n",
    "attnames = list(df_users.columns)[1:]\n",
    "\n",
    "print('---Description of users---')\n",
    "print('Num users:', total_users)\n",
    "print('Num of attvalues:')\n",
    "for attname in attnames:\n",
    "    print(attname, '-->', len(df_users[attname].unique()))\n",
    "print()"
   ]
  },
  {
   "cell_type": "markdown",
   "metadata": {},
   "source": [
    "### Attribute analysis"
   ]
  },
  {
   "cell_type": "code",
   "execution_count": 9,
   "metadata": {},
   "outputs": [],
   "source": [
    "attname = 'PERSON_BUSINESS_TITLE'\n",
    "col_list = df_users[attname].tolist()\n",
    "attval_to_freq1 = dict(Counter(col_list))\n",
    "\n",
    "attname = 'PERSON_COMPANY'\n",
    "col_list = df_users[attname].tolist()\n",
    "attval_to_freq2 = dict(Counter(col_list))\n",
    "\n",
    "attname = 'PERSON_DEPTNAME'\n",
    "col_list = df_users[attname].tolist()\n",
    "attval_to_freq3 = dict(Counter(col_list))\n",
    "\n",
    "attname = 'PERSON_JOB_CODE'\n",
    "col_list = df_users[attname].tolist()\n",
    "attval_to_freq4 = dict(Counter(col_list))\n",
    "\n",
    "attname = 'PERSON_JOB_FAMILY'\n",
    "col_list = df_users[attname].tolist()\n",
    "attval_to_freq5 = dict(Counter(col_list))\n",
    "\n",
    "attname = 'PERSON_ROLLUP_1'\n",
    "col_list = df_users[attname].tolist()\n",
    "attval_to_freq6 = dict(Counter(col_list))\n",
    "\n",
    "attname = 'PERSON_ROLLUP_2'\n",
    "col_list = df_users[attname].tolist()\n",
    "attval_to_freq7 = dict(Counter(col_list))\n"
   ]
  },
  {
   "cell_type": "code",
   "execution_count": 22,
   "metadata": {},
   "outputs": [
    {
     "data": {
      "image/png": "[encoded data removed]",
      "text/plain": [
       "<Figure size 720x360 with 8 Axes>"
      ]
     },
     "metadata": {
      "needs_background": "light"
     },
     "output_type": "display_data"
    }
   ],
   "source": [
    "fig, axes = plt.subplots(2, 4)\n",
    "\n",
    "fig.set_figheight(10)\n",
    "fig.set_figwidth(10)\n",
    "\n",
    "attname = 'PERSON_BUSINESS_TITLE'\n",
    "axes[0,0].pie(attval_to_freq1.values(),wedgeprops=dict(width=.5))\n",
    "axes[0,0].set_title(attname,fontsize=10)\n",
    "\n",
    "attname = 'PERSON_COMPANY'\n",
    "axes[0,1].pie(attval_to_freq2.values(),wedgeprops=dict(width=.5))\n",
    "axes[0,1].set_title(attname,fontsize=10)\n",
    "\n",
    "attname = 'PERSON_DEPTNAME'\n",
    "axes[0,2].pie(attval_to_freq3.values(),wedgeprops=dict(width=.5))\n",
    "axes[0,2].set_title(attname,fontsize=10)\n",
    "\n",
    "attname = 'PERSON_JOB_CODE'\n",
    "axes[0,3].pie(attval_to_freq4.values(),wedgeprops=dict(width=.5))\n",
    "axes[0,3].set_title(attname,fontsize=10)\n",
    "\n",
    "attname = 'PERSON_JOB_FAMILY'\n",
    "axes[1,0].pie(attval_to_freq5.values(),wedgeprops=dict(width=.5))\n",
    "axes[1,0].set_title(attname,fontsize=10)\n",
    "\n",
    "attname = 'PERSON_ROLLUP_1'\n",
    "axes[1,1].pie(attval_to_freq6.values(),wedgeprops=dict(width=.5))\n",
    "axes[1,1].set_title(attname,fontsize=10)\n",
    "\n",
    "attname = 'PERSON_ROLLUP_2'\n",
    "axes[1,2].pie(attval_to_freq7.values(),wedgeprops=dict(width=.5))\n",
    "axes[1,2].set_title(attname,fontsize=10)\n",
    "\n",
    "#How can I make a blank subplot in matplotlib?\n",
    "#https://stackoverflow.com/questions/10035446/how-can-i-make-a-blank-subplot-in-matplotlib\n",
    "axes[1,3].axis('off')\n",
    "\n",
    "#Use this commands to eliminate the spacing between rows\n",
    "fig.set_figheight(5)\n",
    "fig.set_figwidth(10)\n",
    "\n",
    "plt.show()\n"
   ]
  },
  {
   "cell_type": "code",
   "execution_count": 23,
   "metadata": {},
   "outputs": [],
   "source": [
    "fig.savefig(\"figures/ch4_azuci_atts.pdf\", format=\"pdf\", bbox_inches=\"tight\")"
   ]
  },
  {
   "cell_type": "markdown",
   "metadata": {},
   "source": [
    "### Check contradictions in entries"
   ]
  },
  {
   "cell_type": "code",
   "execution_count": 24,
   "metadata": {},
   "outputs": [],
   "source": [
    "#Piece of code copied from acgraph.py\n",
    "dfgb_pos = df_pos_history.groupby(['LOGIN','TARGET_NAME'])\n",
    "df_temp_pos = dfgb_pos.size().to_frame(name = 'COUNT').reset_index()\n",
    "usrid_to_resid_pos = df_temp_pos[['LOGIN','TARGET_NAME']].values.tolist()\n",
    "\n",
    "dfgb_neg = df_neg_history.groupby(['LOGIN','TARGET_NAME'])\n",
    "df_temp_neg = dfgb_neg.size().to_frame(name = 'COUNT').reset_index()\n",
    "usrid_to_resid_neg = df_temp_neg[['LOGIN','TARGET_NAME']].values.tolist()"
   ]
  },
  {
   "cell_type": "code",
   "execution_count": 25,
   "metadata": {},
   "outputs": [
    {
     "name": "stdout",
     "output_type": "stream",
     "text": [
      "AZUCI has 144435 pos u-r pairs\n",
      "AZUCI has 9818 neg u-r pairs\n"
     ]
    }
   ],
   "source": [
    "#Change format to set of tuples\n",
    "usrid_to_resid_pos_set = [(l[0],l[1]) for l in usrid_to_resid_pos]\n",
    "usrid_to_resid_pos_set = set(usrid_to_resid_pos_set)\n",
    "print('AZUCI has', len(usrid_to_resid_pos_set), 'pos u-r pairs')\n",
    "\n",
    "usrid_to_resid_neg_set = [(l[0],l[1]) for l in usrid_to_resid_neg]\n",
    "usrid_to_resid_neg_set = set(usrid_to_resid_neg_set)\n",
    "print('AZUCI has', len(usrid_to_resid_neg_set), 'neg u-r pairs')"
   ]
  },
  {
   "cell_type": "code",
   "execution_count": 26,
   "metadata": {},
   "outputs": [
    {
     "name": "stdout",
     "output_type": "stream",
     "text": [
      "AZUCI has 9666 contradictions\n"
     ]
    }
   ],
   "source": [
    "count = 0\n",
    "for tup in list(usrid_to_resid_pos_set):\n",
    "    if tup in usrid_to_resid_neg_set:\n",
    "        count += 1\n",
    "        \n",
    "print('AZUCI has', count, 'contradictions')"
   ]
  },
  {
   "cell_type": "code",
   "execution_count": 9,
   "metadata": {},
   "outputs": [],
   "source": [
    "#Conclusiones:\n",
    "#9666 de los 9818 neg u-r pairs contradicen a solicitudes positivas.\n",
    "#Por lo tanto, las entradas negativas tendran que ser analizadas en su contexto, en el\n",
    "#tiempo de la red en que fueron registradas."
   ]
  },
  {
   "cell_type": "code",
   "execution_count": null,
   "metadata": {},
   "outputs": [],
   "source": []
  }
 ],
 "metadata": {
  "kernelspec": {
   "display_name": "Python 3 (ipykernel)",
   "language": "python",
   "name": "python3"
  },
  "language_info": {
   "codemirror_mode": {
    "name": "ipython",
    "version": 3
   },
   "file_extension": ".py",
   "mimetype": "text/x-python",
   "name": "python",
   "nbconvert_exporter": "python",
   "pygments_lexer": "ipython3",
   "version": "3.9.16"
  }
 },
 "nbformat": 4,
 "nbformat_minor": 4
}

{
 "cells": [
  {
   "cell_type": "code",
   "execution_count": 1,
   "id": "13e9d4bc",
   "metadata": {},
   "outputs": [],
   "source": [
    "import numpy as np\n",
    "import pandas as pd\n",
    "import matplotlib.pyplot as plt\n",
    "import igraph as ig\n",
    "from collections import Counter\n",
    "from efficient_apriori import apriori\n",
    "import math\n",
    "\n",
    "from src import acgraph as acg\n",
    "from src import utils as ut\n",
    "from src import xsmining as xsm"
   ]
  },
  {
   "cell_type": "code",
   "execution_count": 2,
   "id": "8f17ca0f",
   "metadata": {},
   "outputs": [],
   "source": [
    "def get_degdistrib(g, isbottom = True):\n",
    "\n",
    "    vidx_to_deg = dict()\n",
    "    for v in g.vs:\n",
    "        if v['type'] == isbottom:\n",
    "            vidx_to_deg[v.index] = v.degree()\n",
    "    \n",
    "    degrees = list(vidx_to_deg.values())\n",
    "    degree_counter = Counter(degrees)\n",
    "    degree_keys = list(degree_counter.keys())\n",
    "    counts = list(degree_counter.values())\n",
    "\n",
    "    #sorting list based on another list\n",
    "    #https://stackoverflow.com/questions/6618515/sorting-list-based-on-values-from-another-list\n",
    "    temp = {degkey:count for degkey,count in sorted(zip(degree_keys, counts))}\n",
    "    deg_ks = list(temp.keys())\n",
    "    deg_distr = list(temp.values())\n",
    "    \n",
    "    return vidx_to_deg, dict(zip(deg_ks,deg_distr))"
   ]
  },
  {
   "cell_type": "code",
   "execution_count": 3,
   "id": "905ced86",
   "metadata": {},
   "outputs": [],
   "source": [
    "def get_avecc(g):\n",
    "\n",
    "    vidx_to_cc = dict()\n",
    "    \n",
    "    for v in g.vs:\n",
    "\n",
    "        #print(v.index)\n",
    "        neis = g.neighbors(v)\n",
    "        numneis = len(neis)\n",
    "\n",
    "        numcp4 = 0\n",
    "        nump4 = 0\n",
    "\n",
    "        for idx_a in range(numneis-1):\n",
    "            va = g.vs[neis[idx_a]]\n",
    "            neis_a = set(g.neighbors(va))\n",
    "            neis_a = neis_a - {v.index}\n",
    "\n",
    "            for idx_b in range(idx_a+1,numneis):\n",
    "                vb = g.vs[neis[idx_b]]\n",
    "                neis_b = set(g.neighbors(vb))\n",
    "                neis_b = neis_b - {v.index}\n",
    "\n",
    "                numcp4 += len(neis_a & neis_b)\n",
    "                nump4 += len(neis_a | neis_b)\n",
    "\n",
    "        if nump4 > 0:\n",
    "            vidx_to_cc[v.index]=numcp4/nump4\n",
    "        else:\n",
    "            vidx_to_cc[v.index]=0\n",
    "    \n",
    "    ccs = list(vidx_to_cc.values())\n",
    "    return sum(ccs)/len(ccs)"
   ]
  },
  {
   "cell_type": "code",
   "execution_count": 4,
   "id": "fba33070",
   "metadata": {},
   "outputs": [],
   "source": [
    "def homophily(gur, usrlabel_to_attvals, reslabel_to_attvals):\n",
    "\n",
    "    hs = 0\n",
    "    hd = 0\n",
    "\n",
    "    for i,v in enumerate(gur.vs):\n",
    "        vidx = v.index\n",
    "\n",
    "        neigidxs = gur.neighbors(v)\n",
    "        \n",
    "        if not v['type']: #Users \n",
    "            attvalset = set(usrlabel_to_attvals[v['name']])\n",
    "        else:\n",
    "            attvalset = set(reslabel_to_attvals[v['name']])\n",
    "            \n",
    "        \n",
    "        for vidx2 in neigidxs:\n",
    "            neigidxs2 = gur.neighbors(vidx2)\n",
    "\n",
    "            for vidx3 in neigidxs2:\n",
    "                if vidx3 != vidx:\n",
    "                    v3 = gur.vs[vidx3]\n",
    "                    if not v3['type']: #Users \n",
    "                        attvalset3 = set(usrlabel_to_attvals[v3['name']])\n",
    "                    else:\n",
    "                        attvalset3 = set(reslabel_to_attvals[v3['name']])\n",
    "                    \n",
    "                    \n",
    "                    if len(attvalset & attvalset3) > 0:\n",
    "                        hs += 1\n",
    "                    else:\n",
    "                        hd += 1\n",
    "                        \n",
    "    return hs/(hs+hd)\n",
    "                        \n",
    "                        "
   ]
  },
  {
   "cell_type": "code",
   "execution_count": 14,
   "id": "631a09e0",
   "metadata": {},
   "outputs": [],
   "source": [
    "import random\n",
    "\n",
    "\n",
    "def gensyn(gur, usrlabels, reslabels, stop=1):\n",
    "\n",
    "    random.seed(13)\n",
    "\n",
    "    usrdegs = []\n",
    "    resdegs = []\n",
    "    for v in gur.vs:\n",
    "        deg = len(gur.neighbors(v['name']))\n",
    "        if v['type'] == False:\n",
    "            usrdegs.append(deg)\n",
    "        else:\n",
    "            resdegs.append(deg)\n",
    "\n",
    "    usr_tmpidxs = []\n",
    "    res_tmpidxs = []\n",
    "    for i,deg in enumerate(usrdegs):\n",
    "        for _ in range(deg):\n",
    "            usr_tmpidxs.append(i)      \n",
    "    for i,deg in enumerate(resdegs):\n",
    "        for _ in range(deg):\n",
    "            res_tmpidxs.append(i+len(usrdegs))\n",
    "    usr_tmptmpidxs = set(range(len(usr_tmpidxs)))\n",
    "    res_tmptmpidxs = set(range(len(res_tmpidxs)))\n",
    "    \n",
    "    \n",
    "    edges = set()\n",
    "    while len(usr_tmptmpidxs)>stop and len(res_tmptmpidxs)>stop:\n",
    "        idx1 = random.sample(usr_tmptmpidxs, 1)[0]\n",
    "        idx2 = random.sample(res_tmptmpidxs, 1)[0]\n",
    "        vidx1 = usr_tmpidxs[idx1]\n",
    "        vidx2 = res_tmpidxs[idx2]\n",
    "        #print(len(usr_tmptmpidxs))\n",
    "    \n",
    "        if not (vidx1,vidx2) in edges:\n",
    "            edges.add((vidx1,vidx2))\n",
    "            usr_tmptmpidxs.remove(idx1)\n",
    "            res_tmptmpidxs.remove(idx2)\n",
    "\n",
    "    print(len(edges))\n",
    "            \n",
    "    types = []\n",
    "    for i in range(len(usrlabels)):\n",
    "        types.append(False)\n",
    "    for i in range(len(reslabels)):\n",
    "        types.append(True)\n",
    "    \n",
    "    gur_syn = ig.Graph.Bipartite(types=types, edges=list(edges))\n",
    "    \n",
    "    ccidx_to_vertexidxs = [cc for cc in gur_syn.clusters()]\n",
    "    ccidx_to_size = [len(cc) for cc in ccidx_to_vertexidxs]\n",
    "    max_index = ccidx_to_size.index(max(ccidx_to_size))\n",
    "    gur_syn2 = gur_syn.induced_subgraph(ccidx_to_vertexidxs[max_index])\n",
    "    \n",
    "        \n",
    "    return gur_syn2"
   ]
  },
  {
   "cell_type": "markdown",
   "id": "f65c0085",
   "metadata": {},
   "source": [
    "### Load access control graph"
   ]
  },
  {
   "cell_type": "code",
   "execution_count": 5,
   "id": "64bf6d74",
   "metadata": {},
   "outputs": [
    {
     "name": "stdout",
     "output_type": "stream",
     "text": [
      "Num entries: 960\n"
     ]
    }
   ],
   "source": [
    "usrlabels, usrlabel_to_attvals, usrname_to_usrlabel, \\\n",
    "reslabels, reslabel_to_attvals, resname_to_reslabel, usrlabel_to_reslabel = xsm.load_dataset(name='PM')\n",
    "print('Num entries:', len(usrlabel_to_reslabel))"
   ]
  },
  {
   "cell_type": "code",
   "execution_count": 6,
   "id": "2ab3cb69",
   "metadata": {},
   "outputs": [
    {
     "name": "stdout",
     "output_type": "stream",
     "text": [
      "Num usr atts: 8\n",
      "Num att-vals for adminRoles: 4\n",
      "{'{manager }': 10, '{accountant }': 10, '{auditor }': 10, '{planner }': 10}\n",
      "Num att-vals for isEmployee: 2\n",
      "Num att-vals for type: 7\n",
      "{'manager': 10, 'acc': 10, 'aud': 10, 'planner': 10, 'ldr': 20, 'nonemployee': 20, 'employee': 20}\n",
      "Num att-vals for projects: 30\n",
      "Num att-vals for projectsLed: 20\n",
      "Num att-vals for department: 10\n",
      "Num att-vals for expertise: 2\n",
      "Num att-vals for tasks: 40\n",
      "\n",
      "Num res atts: 5\n",
      "Num att-vals for project: 20\n",
      "Num att-vals for type: 3\n",
      "{'budget': 20, 'schedule': 20, 'task': 160}\n",
      "Num att-vals for department: 10\n",
      "Num att-vals for expertise: 2\n",
      "Num att-vals for proprietary: 2\n"
     ]
    }
   ],
   "source": [
    "usratts = set()\n",
    "usrtups = list()\n",
    "for tups in usrlabel_to_attvals.values():\n",
    "    for tup in tups:\n",
    "        usratts.add(tup[0])\n",
    "        usrtups.append(tup)\n",
    "    \n",
    "print('Num usr atts:', len(usratts))\n",
    "\n",
    "for att in usratts:\n",
    "    usrtups_ = [tup[1] for tup in usrtups if tup[0]==att]\n",
    "    print('Num att-vals for ' + att + ':', len(set(usrtups_)))\n",
    "    if att == 'type' or att == 'adminRoles':\n",
    "        print(dict(Counter(usrtups_)))\n",
    " \n",
    "resatts = set()\n",
    "restups = list()\n",
    "for tups in reslabel_to_attvals.values():\n",
    "    for tup in tups:\n",
    "        resatts.add(tup[0])\n",
    "        restups.append(tup)\n",
    "\n",
    "print()\n",
    "print('Num res atts:', len(resatts))\n",
    "\n",
    "for att in resatts:\n",
    "    restups_ = [tup[1] for tup in restups if tup[0]==att]\n",
    "    print('Num att-vals for ' + att + ':', len(set(restups_)))\n",
    "    if att == 'type':\n",
    "        print(dict(Counter(restups_)))\n",
    "    "
   ]
  },
  {
   "cell_type": "code",
   "execution_count": 7,
   "id": "677b052d",
   "metadata": {},
   "outputs": [
    {
     "name": "stdout",
     "output_type": "stream",
     "text": [
      "Num of users: 100\n",
      "Num of resources: 200\n",
      "Num of edges: 960\n"
     ]
    }
   ],
   "source": [
    "#---Create access control graph---\n",
    "gur = xsm.load_gur(usrlabels, reslabels, usrlabel_to_reslabel, save=False)\n",
    "print('Num of users:', len(usrlabels))\n",
    "print('Num of resources:', len(reslabels))\n",
    "print('Num of edges:', len(gur.es))"
   ]
  },
  {
   "cell_type": "code",
   "execution_count": 8,
   "id": "51844c83",
   "metadata": {},
   "outputs": [
    {
     "name": "stdout",
     "output_type": "stream",
     "text": [
      "Density: 0.048\n"
     ]
    }
   ],
   "source": [
    "density = len(gur.es)/(len(usrlabels)*len(reslabels))\n",
    "print('Density:', density)"
   ]
  },
  {
   "cell_type": "code",
   "execution_count": 9,
   "id": "b76f2dec",
   "metadata": {},
   "outputs": [
    {
     "name": "stdout",
     "output_type": "stream",
     "text": [
      "CC num vertices: 30\n"
     ]
    }
   ],
   "source": [
    "ccidx_to_vertexidxs = [cc for cc in gur.connected_components()]\n",
    "ccidx_to_size = [len(cc) for cc in ccidx_to_vertexidxs]\n",
    "max_index = ccidx_to_size.index(max(ccidx_to_size))\n",
    "maxcc_gur = gur.induced_subgraph(ccidx_to_vertexidxs[max_index])\n",
    "print('CC num vertices:', len(maxcc_gur.vs))"
   ]
  },
  {
   "cell_type": "code",
   "execution_count": 10,
   "id": "6c0a2189",
   "metadata": {},
   "outputs": [],
   "source": [
    "#Get attribute-values of users\n",
    "userlog_objs = list(usrlabel_to_attvals.values())\n",
    "\n",
    "resvidx_to_neighattvals = dict()\n",
    "for vidx,v in enumerate(gur.vs):\n",
    "    if v['type'] == True:\n",
    "        neighattvals = set()\n",
    "        for usrvidx in gur.neighbors(v):\n",
    "            neighattvals |= set(userlog_objs[usrvidx])\n",
    "            \n",
    "        resvidx_to_neighattvals[vidx] = list(neighattvals)"
   ]
  },
  {
   "cell_type": "markdown",
   "id": "52f8154d",
   "metadata": {},
   "source": [
    "### Small-worldness and homophily"
   ]
  },
  {
   "cell_type": "code",
   "execution_count": 12,
   "id": "a28e36e1",
   "metadata": {},
   "outputs": [
    {
     "name": "stdout",
     "output_type": "stream",
     "text": [
      "average pl: 2.1155555555555554\n",
      "average cc: 0.43430011437186106\n"
     ]
    },
    {
     "name": "stderr",
     "output_type": "stream",
     "text": [
      "/var/folders/4z/6ntcmwbx3_s3ybystwpytzsw0000gn/T/ipykernel_1401/1382620468.py:1: DeprecationWarning: Graph.shortest_paths() is deprecated; use Graph.distances() instead\n",
      "  D = maxcc_gur.shortest_paths()\n"
     ]
    }
   ],
   "source": [
    "D = maxcc_gur.shortest_paths()\n",
    "apl = np.mean(D)\n",
    "print('average pl:', apl)\n",
    "print('average cc:', get_avecc(gur))"
   ]
  },
  {
   "cell_type": "code",
   "execution_count": 18,
   "id": "2b936cec",
   "metadata": {},
   "outputs": [
    {
     "name": "stdout",
     "output_type": "stream",
     "text": [
      "959\n",
      "Num of vertices: 300\n",
      "Num of edges: 959\n",
      "average cc: 0.02873830516394805\n"
     ]
    },
    {
     "name": "stderr",
     "output_type": "stream",
     "text": [
      "/var/folders/4z/6ntcmwbx3_s3ybystwpytzsw0000gn/T/ipykernel_1401/1236624748.py:31: DeprecationWarning: Sampling from a set deprecated\n",
      "since Python 3.9 and will be removed in a subsequent version.\n",
      "  idx1 = random.sample(usr_tmptmpidxs, 1)[0]\n",
      "/var/folders/4z/6ntcmwbx3_s3ybystwpytzsw0000gn/T/ipykernel_1401/1236624748.py:32: DeprecationWarning: Sampling from a set deprecated\n",
      "since Python 3.9 and will be removed in a subsequent version.\n",
      "  idx2 = random.sample(res_tmptmpidxs, 1)[0]\n",
      "/var/folders/4z/6ntcmwbx3_s3ybystwpytzsw0000gn/T/ipykernel_1401/1236624748.py:52: DeprecationWarning: Graph.clusters() is deprecated; use Graph.connected_components() instead\n",
      "  ccidx_to_vertexidxs = [cc for cc in gur_syn.clusters()]\n"
     ]
    }
   ],
   "source": [
    "gur_syn = gensyn(gur, usrlabels, reslabels)\n",
    "print('Num of vertices:', len(gur_syn.vs))\n",
    "print('Num of edges:', len(gur_syn.es))\n",
    "print('average cc:', get_avecc(gur_syn))"
   ]
  },
  {
   "cell_type": "code",
   "execution_count": 16,
   "id": "fcc59015",
   "metadata": {},
   "outputs": [
    {
     "name": "stdout",
     "output_type": "stream",
     "text": [
      "Homophily degree: 0.8622516556291391\n"
     ]
    }
   ],
   "source": [
    "h = homophily(gur, usrlabel_to_attvals, reslabel_to_attvals)\n",
    "print('Homophily degree:', h)"
   ]
  },
  {
   "cell_type": "markdown",
   "id": "56d4719f",
   "metadata": {},
   "source": [
    "### Resoure degree distribution"
   ]
  },
  {
   "cell_type": "code",
   "execution_count": 9,
   "id": "e717f29b",
   "metadata": {},
   "outputs": [
    {
     "data": {
      "image/png": "[encoded data removed]",
      "text/plain": [
       "<Figure size 432x288 with 1 Axes>"
      ]
     },
     "metadata": {
      "needs_background": "light"
     },
     "output_type": "display_data"
    }
   ],
   "source": [
    "#Degree distribution\n",
    "vidx_to_deg_res, degs_to_freq = get_degdistrib(gur, isbottom = True)\n",
    "degs_res = list(degs_to_freq.keys())\n",
    "count_res = list(degs_to_freq.values())\n",
    "\n",
    "plt.plot(degs_res,count_res,'r-')\n",
    "plt.title('Degree distribution')\n",
    "plt.ylabel('freq')\n",
    "plt.xlabel('k')\n",
    "plt.show()"
   ]
  },
  {
   "cell_type": "code",
   "execution_count": 10,
   "id": "5b0c8fc5",
   "metadata": {},
   "outputs": [
    {
     "name": "stdout",
     "output_type": "stream",
     "text": [
      "Avg degree resources: 4.8\n"
     ]
    }
   ],
   "source": [
    "x = sum(vidx_to_deg_res.values())/len(vidx_to_deg_res)\n",
    "print('Avg degree resources:', x)"
   ]
  },
  {
   "cell_type": "markdown",
   "id": "bc5ef19a",
   "metadata": {},
   "source": [
    "### User degree distribution"
   ]
  },
  {
   "cell_type": "code",
   "execution_count": 11,
   "id": "aa82da7d",
   "metadata": {},
   "outputs": [
    {
     "data": {
      "image/png": "[encoded data removed]",
      "text/plain": [
       "<Figure size 432x288 with 1 Axes>"
      ]
     },
     "metadata": {
      "needs_background": "light"
     },
     "output_type": "display_data"
    }
   ],
   "source": [
    "vidx_to_deg_usr, degs_to_count = get_degdistrib(gur, isbottom = False)\n",
    "degs_usr = list(degs_to_count.keys())\n",
    "count_usr = list(degs_to_count.values())\n",
    "\n",
    "plt.plot(degs_usr,count_usr,'r-')\n",
    "plt.title('Degree distribution')\n",
    "plt.ylabel('freq')\n",
    "plt.xlabel('k')\n",
    "plt.show()"
   ]
  },
  {
   "cell_type": "code",
   "execution_count": 12,
   "id": "c22f43a0",
   "metadata": {},
   "outputs": [
    {
     "name": "stdout",
     "output_type": "stream",
     "text": [
      "Avg degree users: 9.6\n"
     ]
    }
   ],
   "source": [
    "x = sum(vidx_to_deg_usr.values())/len(vidx_to_deg_usr)\n",
    "print('Avg degree users:', x)"
   ]
  },
  {
   "cell_type": "code",
   "execution_count": null,
   "id": "e7b19b0b",
   "metadata": {},
   "outputs": [],
   "source": []
  }
 ],
 "metadata": {
  "kernelspec": {
   "display_name": "Python 3 (ipykernel)",
   "language": "python",
   "name": "python3"
  },
  "language_info": {
   "codemirror_mode": {
    "name": "ipython",
    "version": 3
   },
   "file_extension": ".py",
   "mimetype": "text/x-python",
   "name": "python",
   "nbconvert_exporter": "python",
   "pygments_lexer": "ipython3",
   "version": "3.9.16"
  }
 },
 "nbformat": 4,
 "nbformat_minor": 5
}

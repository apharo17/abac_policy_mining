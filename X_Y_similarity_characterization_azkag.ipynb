{
 "cells": [
  {
   "cell_type": "code",
   "execution_count": 1,
   "id": "15c683e8",
   "metadata": {},
   "outputs": [],
   "source": [
    "import numpy as np\n",
    "import pandas as pd\n",
    "import matplotlib.pyplot as plt\n",
    "import igraph as ig\n",
    "from collections import Counter\n",
    "import pickle\n",
    "import math\n",
    "import random\n",
    "import copy\n",
    "\n",
    "from src import acgraph as acg\n",
    "from src import bcloader as bcl\n",
    "from src import utils as ut\n",
    "from src import bcgraph as bcg\n",
    "from efficient_apriori import apriori\n",
    "\n",
    "from importlib import reload\n",
    "acg = reload(acg)\n",
    "bcl = reload(bcl)\n",
    "bcg = reload(bcg)\n"
   ]
  },
  {
   "cell_type": "code",
   "execution_count": 2,
   "id": "b263f94d",
   "metadata": {},
   "outputs": [
    {
     "name": "stdout",
     "output_type": "stream",
     "text": [
      "---Control Access Graph---\n",
      "Total edges: 30872\n",
      "Total vertices: 16524\n",
      "Num users: 9298\n",
      "Num resources: 7226\n",
      "\n",
      "---Largest Connected Component---\n",
      "Total edges: 30425\n",
      "Total vertices: 15773\n",
      "Num users: 8933\n",
      "Num resources: 6840\n"
     ]
    }
   ],
   "source": [
    "rel_attnames = [\n",
    "#'MGR_ID',\n",
    "#'ROLE_ROLLUP_1',\n",
    "'ROLE_ROLLUP_2',\n",
    "'ROLE_DEPTNAME',\n",
    "'ROLE_TITLE',\n",
    "'ROLE_FAMILY_DESC',\n",
    "'ROLE_FAMILY']\n",
    "gur = acg.load_azkag_graph(rel_attnames=rel_attnames, isWeighted=True)\n",
    "print('---Control Access Graph---')\n",
    "print('Total edges:', len(gur.es))\n",
    "print('Total vertices:', len(gur.vs))\n",
    "\n",
    "gur_usrlabels,gur_reslabels = acg.get_labels(gur, byweights=False)\n",
    "print('Num users:',len(gur_usrlabels))\n",
    "print('Num resources:', len(gur_reslabels))\n",
    "print()\n",
    "\n",
    "gur = acg.get_largestcc(gur)\n",
    "print('---Largest Connected Component---')\n",
    "print('Total edges:', len(gur.es))\n",
    "print('Total vertices:', len(gur.vs))\n",
    "usrlabels,reslabels = acg.get_labels(gur, byweights=False)\n",
    "print('Num users:',len(usrlabels))\n",
    "print('Num resources:', len(reslabels))"
   ]
  },
  {
   "cell_type": "code",
   "execution_count": 3,
   "id": "bbb29342",
   "metadata": {},
   "outputs": [],
   "source": [
    "def get_negative_entries(gur):\n",
    "    df_emp_access = pd.read_csv('data/train.csv')\n",
    "    \n",
    "    attnames_list = list(df_emp_access.columns)[2:]\n",
    "\n",
    "    #---Group by the column header: attvalues, residx, resolution---\n",
    "    dfgb_temp = df_emp_access.groupby(attnames_list + ['RESOURCE','ACTION'])\n",
    "    df_temp = dfgb_temp.size().to_frame(name = 'count').reset_index()\n",
    "    df_temp = df_temp.drop('count', axis=1)\n",
    "\n",
    "    #---Add user indexes---\n",
    "    dfgb_temp = df_temp.groupby(attnames_list)\n",
    "\n",
    "    dfs_list = []\n",
    "    usridx = 0\n",
    "    for _,df in dfgb_temp:\n",
    "        k = df.shape[0]\n",
    "        df.insert(loc=0, column='USR_ID', value=[usridx for _ in range(k)])\n",
    "        dfs_list.append(df)\n",
    "        usridx += 1\n",
    "    df_temp = pd.concat(dfs_list)\n",
    "\n",
    "    df_entries = df_temp[['USR_ID', 'RESOURCE', 'ACTION']]\n",
    "\n",
    "    df_neg_entries = df_entries[df_entries['ACTION']==0]\n",
    "\n",
    "    dfgb_neg = df_neg_entries.groupby(['USR_ID','RESOURCE'])\n",
    "    df_temp_neg = dfgb_neg.size().to_frame(name = 'COUNT').reset_index()\n",
    "    usrid_to_resid_neg = df_temp_neg[['USR_ID','RESOURCE']].values.tolist()\n",
    "    \n",
    "    #Map ids to indexes in the graph\n",
    "    usrid_to_vidx = dict()\n",
    "    resid_to_vidx = dict()\n",
    "    for v in gur.vs:\n",
    "        if v['type'] == False:\n",
    "            usrid = int(v['name'][6:])\n",
    "            usrid_to_vidx[usrid] = v.index\n",
    "        else:\n",
    "            resid = int(v['name'][6:])\n",
    "            resid_to_vidx[resid] = v.index\n",
    "    \n",
    "    usrvidx_to_resvidx_neg = list()\n",
    "    for tup in usrid_to_resid_neg:\n",
    "        usrid = tup[0]\n",
    "        resid = tup[1]\n",
    "        if usrid in usrid_to_vidx and resid in resid_to_vidx:\n",
    "            usrvidx_to_resvidx_neg.append((usrid_to_vidx[usrid], resid_to_vidx[resid]))\n",
    "            \n",
    "    return usrvidx_to_resvidx_neg\n",
    "\n",
    "\n",
    "\n",
    "def get_positive_entries(gur, numentries, sd):\n",
    "    random.seed(sd)\n",
    "    usrvidx_to_resvidx_pos = []\n",
    "\n",
    "    es_sampled = random.sample(sorted(gur.es),numentries)\n",
    "    for e in es_sampled:\n",
    "        usrvidx = e.source\n",
    "        resvidx = e.target\n",
    "        usrvidx_to_resvidx_pos.append((usrvidx, resvidx))\n",
    "        \n",
    "    gur2 = copy.deepcopy(gur)\n",
    "    gur2.delete_edges(es_sampled)\n",
    "    \n",
    "    return usrvidx_to_resvidx_pos, gur2\n",
    "    \n",
    "  "
   ]
  },
  {
   "cell_type": "code",
   "execution_count": 12,
   "id": "892a205e",
   "metadata": {},
   "outputs": [],
   "source": [
    "def res_requesters_distrib(usrvidx_to_resvidx):\n",
    "    resvidxset = set()\n",
    "    for tup in usrvidx_to_resvidx:\n",
    "        resvidxset.add(tup[1])\n",
    "    num_requesters = []\n",
    "    for resvidx in list(resvidxset):\n",
    "        num_requesters.append(len(gur.neighbors(resvidx)))\n",
    "\n",
    "    num_requesters_to_freq = dict(Counter(num_requesters))\n",
    "    num_requesters_to_freq = dict(sorted(num_requesters_to_freq.items(), key=lambda item: item[1]))\n",
    "\n",
    "    plt.plot(num_requesters_to_freq.keys(), num_requesters_to_freq.values(), '.')\n",
    "    plt.xlabel('num requesters')\n",
    "    plt.ylabel('freq')\n",
    "    plt.show()"
   ]
  },
  {
   "cell_type": "code",
   "execution_count": 13,
   "id": "d35b5199",
   "metadata": {},
   "outputs": [],
   "source": [
    "usrvidx_to_resvidx_neg = get_negative_entries(gur)"
   ]
  },
  {
   "cell_type": "code",
   "execution_count": 14,
   "id": "9f0b4d64",
   "metadata": {},
   "outputs": [
    {
     "data": {
      "text/plain": [
       "1152"
      ]
     },
     "execution_count": 14,
     "metadata": {},
     "output_type": "execute_result"
    }
   ],
   "source": [
    "len(usrvidx_to_resvidx_neg)"
   ]
  },
  {
   "cell_type": "code",
   "execution_count": 15,
   "id": "30fdfcf0",
   "metadata": {},
   "outputs": [
    {
     "data": {
      "image/png": "[encoded data removed]",
      "text/plain": [
       "<Figure size 432x288 with 1 Axes>"
      ]
     },
     "metadata": {
      "needs_background": "light"
     },
     "output_type": "display_data"
    }
   ],
   "source": [
    "res_requesters_distrib(usrvidx_to_resvidx_neg)"
   ]
  },
  {
   "cell_type": "code",
   "execution_count": 16,
   "id": "ee214ec4",
   "metadata": {},
   "outputs": [],
   "source": [
    "usrvidx_to_resvidx_pos, gur2 = get_positive_entries(gur, len(usrvidx_to_resvidx_neg), 13)"
   ]
  },
  {
   "cell_type": "code",
   "execution_count": 17,
   "id": "e5a84b4d",
   "metadata": {},
   "outputs": [
    {
     "data": {
      "text/plain": [
       "1152"
      ]
     },
     "execution_count": 17,
     "metadata": {},
     "output_type": "execute_result"
    }
   ],
   "source": [
    "len(usrvidx_to_resvidx_pos)"
   ]
  },
  {
   "cell_type": "code",
   "execution_count": 20,
   "id": "5d4d7ba0",
   "metadata": {},
   "outputs": [
    {
     "data": {
      "image/png": "[encoded data removed]",
      "text/plain": [
       "<Figure size 432x288 with 1 Axes>"
      ]
     },
     "metadata": {
      "needs_background": "light"
     },
     "output_type": "display_data"
    }
   ],
   "source": [
    "res_requesters_distrib(usrvidx_to_resvidx_pos)"
   ]
  },
  {
   "cell_type": "code",
   "execution_count": 13,
   "id": "c5cd5879",
   "metadata": {},
   "outputs": [],
   "source": [
    "def cosine_sim(gur, usrvidx, resvidx):\n",
    "    uv = gur.vs[usrvidx]\n",
    "    rv = gur.vs[resvidx]\n",
    "    uneighs = gur.neighbors(uv)\n",
    "    uneighs2 = set()\n",
    "    for usrvidx2 in uneighs:\n",
    "        uneighs2 |= set(gur.neighbors(gur.vs[usrvidx2]))    \n",
    "    rneighs = gur.neighbors(rv)\n",
    "    cs = len(set(uneighs2)&set(rneighs))/math.sqrt(len(uneighs)*len(rneighs))\n",
    "    return cs"
   ]
  },
  {
   "cell_type": "code",
   "execution_count": 16,
   "id": "bd8029a6",
   "metadata": {},
   "outputs": [],
   "source": [
    "cosine_sim_neg = []\n",
    "for tup in usrvidx_to_resvidx_neg:\n",
    "    usrvidx = tup[0]\n",
    "    resvidx = tup[1]\n",
    "    cs = cosine_sim(gur, usrvidx, resvidx)\n",
    "    cosine_sim_neg.append(cs)\n",
    "    \n",
    "cosine_sim_pos = []\n",
    "for tup in usrvidx_to_resvidx_pos:\n",
    "    usrvidx = tup[0]\n",
    "    resvidx = tup[1]\n",
    "    cs = cosine_sim(gur, usrvidx, resvidx)\n",
    "    cosine_sim_pos.append(cs)"
   ]
  },
  {
   "cell_type": "code",
   "execution_count": 21,
   "id": "b3d3c8c1",
   "metadata": {},
   "outputs": [
    {
     "data": {
      "image/png": "[encoded data removed]",
      "text/plain": [
       "<Figure size 432x288 with 1 Axes>"
      ]
     },
     "metadata": {
      "needs_background": "light"
     },
     "output_type": "display_data"
    }
   ],
   "source": [
    "bins = np.linspace(0, 10, 201)\n",
    "plt.hist(cosine_sim_neg,bins=bins,color='tab:red')\n",
    "plt.hist(cosine_sim_pos,bins=bins,alpha=0.8,color='tab:green')\n",
    "plt.xscale('log')\n",
    "plt.xlabel('cosine sim')\n",
    "plt.legend(['neg', 'pos'])\n",
    "plt.show()"
   ]
  },
  {
   "cell_type": "code",
   "execution_count": 52,
   "id": "57730a70",
   "metadata": {},
   "outputs": [
    {
     "name": "stdout",
     "output_type": "stream",
     "text": [
      "average pl: 5.541318624536039\n",
      "diameter: 17.0\n"
     ]
    }
   ],
   "source": [
    "D = gur2.distances()\n",
    "X = np.array(D)\n",
    "X[~np.isfinite(X)] = 1\n",
    "apl = np.mean(X)\n",
    "diam = np.max(X)\n",
    "print('average pl:', apl)\n",
    "print('diameter:', diam)"
   ]
  },
  {
   "cell_type": "code",
   "execution_count": 68,
   "id": "dd1cba78",
   "metadata": {},
   "outputs": [],
   "source": [
    "geo_dist_neg = []\n",
    "for tup in usrvidx_to_resvidx_neg:\n",
    "    usrvidx = tup[0]\n",
    "    resvidx = tup[1]\n",
    "    d = X[usrvidx][resvidx]\n",
    "    geo_dist_neg.append(d)\n",
    "    \n",
    "geo_dist_pos = []\n",
    "for tup in usrvidx_to_resvidx_pos:\n",
    "    usrvidx = tup[0]\n",
    "    resvidx = tup[1]\n",
    "    d = X[usrvidx][resvidx]\n",
    "    geo_dist_pos.append(d)    "
   ]
  },
  {
   "cell_type": "code",
   "execution_count": 72,
   "id": "672c7770",
   "metadata": {},
   "outputs": [
    {
     "data": {
      "image/png": "[encoded data removed]",
      "text/plain": [
       "<Figure size 432x288 with 1 Axes>"
      ]
     },
     "metadata": {
      "needs_background": "light"
     },
     "output_type": "display_data"
    }
   ],
   "source": [
    "bins = np.linspace(0, 10, 11)\n",
    "plt.hist(geo_dist_neg,bins=bins,color='tab:red')\n",
    "plt.hist(geo_dist_pos,bins=bins,alpha=0.8,color='tab:green')\n",
    "plt.xlabel('geodesic distance')\n",
    "plt.legend(['neg', 'pos'])\n",
    "plt.show()"
   ]
  },
  {
   "cell_type": "code",
   "execution_count": 85,
   "id": "658f54e6",
   "metadata": {},
   "outputs": [],
   "source": [
    "userlog_objs = []\n",
    "for v in gur.vs:\n",
    "    if v['type'] == False:\n",
    "        userlog_obj = []\n",
    "        for attname in v.attribute_names():\n",
    "            if not attname in ['type','name']:\n",
    "                userlog_obj.append(v[attname])\n",
    "        userlog_objs.append(userlog_obj)\n",
    "\n",
    "userlog_objs = ut.to_tuple_format(userlog_objs)"
   ]
  },
  {
   "cell_type": "code",
   "execution_count": 86,
   "id": "e1e631bb",
   "metadata": {},
   "outputs": [],
   "source": [
    "def get_neighattvals(gur, resvidx, usrvidx_excluded):\n",
    "    neighattvals = set()\n",
    "    for usrvidx in gur.neighbors(gur.vs[resvidx]):\n",
    "        if usrvidx != usrvidx_excluded:\n",
    "            neighattvals |= set(userlog_objs[usrvidx])   \n",
    "    return neighattvals\n",
    "\n",
    "numatts_neg = []\n",
    "for tup in usrvidx_to_resvidx_neg:\n",
    "    usrvidx = tup[0]\n",
    "    resvidx = tup[1]\n",
    "    neighattvals = get_neighattvals(gur, resvidx, usrvidx)\n",
    "    usrattvals = set(userlog_objs[usrvidx])\n",
    "    numatts_neg.append(len(usrattvals&neighattvals))\n",
    "    \n",
    "numatts_pos = []\n",
    "for tup in usrvidx_to_resvidx_pos:\n",
    "    usrvidx = tup[0]\n",
    "    resvidx = tup[1]\n",
    "    neighattvals = get_neighattvals(gur, resvidx, usrvidx)\n",
    "    usrattvals = set(userlog_objs[usrvidx])\n",
    "    numatts_pos.append(len(usrattvals&neighattvals))    "
   ]
  },
  {
   "cell_type": "code",
   "execution_count": 87,
   "id": "aeb8e53e",
   "metadata": {},
   "outputs": [
    {
     "data": {
      "image/png": "[encoded data removed]",
      "text/plain": [
       "<Figure size 432x288 with 1 Axes>"
      ]
     },
     "metadata": {
      "needs_background": "light"
     },
     "output_type": "display_data"
    }
   ],
   "source": [
    "bins = np.linspace(0, 10, 11)\n",
    "plt.hist(numatts_neg,bins=bins,color='tab:red')\n",
    "plt.hist(numatts_pos,bins=bins,alpha=0.8,color='tab:green')\n",
    "plt.xlabel('geodesic distance')\n",
    "plt.legend(['neg', 'pos'])\n",
    "plt.show()"
   ]
  },
  {
   "cell_type": "code",
   "execution_count": 79,
   "id": "a4147180",
   "metadata": {},
   "outputs": [
    {
     "data": {
      "text/plain": [
       "Counter({5: 1152})"
      ]
     },
     "execution_count": 79,
     "metadata": {},
     "output_type": "execute_result"
    }
   ],
   "source": [
    "Counter(numatts_pos)"
   ]
  },
  {
   "cell_type": "code",
   "execution_count": null,
   "id": "3fb10df6",
   "metadata": {},
   "outputs": [],
   "source": []
  }
 ],
 "metadata": {
  "kernelspec": {
   "display_name": "Python 3 (ipykernel)",
   "language": "python",
   "name": "python3"
  },
  "language_info": {
   "codemirror_mode": {
    "name": "ipython",
    "version": 3
   },
   "file_extension": ".py",
   "mimetype": "text/x-python",
   "name": "python",
   "nbconvert_exporter": "python",
   "pygments_lexer": "ipython3",
   "version": "3.9.16"
  }
 },
 "nbformat": 4,
 "nbformat_minor": 5
}

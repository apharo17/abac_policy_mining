{
 "cells": [
  {
   "cell_type": "code",
   "execution_count": 1,
   "id": "15c683e8",
   "metadata": {},
   "outputs": [],
   "source": [
    "import numpy as np\n",
    "import pandas as pd\n",
    "import matplotlib.pyplot as plt\n",
    "import igraph as ig\n",
    "from collections import Counter\n",
    "import pickle\n",
    "import math\n",
    "import random\n",
    "import copy\n",
    "from sklearn.metrics import accuracy_score, confusion_matrix, roc_auc_score, roc_curve\n",
    "\n",
    "from src import acgraph as acg\n",
    "from src import bcloader as bcl\n",
    "from src import utils as ut\n",
    "from src import bcgraph as bcg\n",
    "from efficient_apriori import apriori\n",
    "\n",
    "from importlib import reload\n",
    "acg = reload(acg)\n",
    "bcl = reload(bcl)\n",
    "bcg = reload(bcg)\n"
   ]
  },
  {
   "cell_type": "code",
   "execution_count": 2,
   "id": "b263f94d",
   "metadata": {},
   "outputs": [
    {
     "name": "stdout",
     "output_type": "stream",
     "text": [
      "---Control Access Graph---\n",
      "Total edges: 30872\n",
      "Total vertices: 16524\n",
      "Num users: 9298\n",
      "Num resources: 7226\n",
      "\n",
      "---Largest Connected Component---\n",
      "Total edges: 30425\n",
      "Total vertices: 15773\n",
      "Num users: 8933\n",
      "Num resources: 6840\n"
     ]
    }
   ],
   "source": [
    "rel_attnames = [\n",
    "#'MGR_ID',\n",
    "#'ROLE_ROLLUP_1',\n",
    "'ROLE_ROLLUP_2',\n",
    "'ROLE_DEPTNAME',\n",
    "'ROLE_TITLE',\n",
    "'ROLE_FAMILY_DESC',\n",
    "'ROLE_FAMILY']\n",
    "gur = acg.load_azkag_graph(rel_attnames=rel_attnames, isWeighted=True)\n",
    "print('---Control Access Graph---')\n",
    "print('Total edges:', len(gur.es))\n",
    "print('Total vertices:', len(gur.vs))\n",
    "\n",
    "gur_usrlabels,gur_reslabels = acg.get_labels(gur, byweights=False)\n",
    "print('Num users:',len(gur_usrlabels))\n",
    "print('Num resources:', len(gur_reslabels))\n",
    "print()\n",
    "\n",
    "gur = acg.get_largestcc(gur)\n",
    "print('---Largest Connected Component---')\n",
    "print('Total edges:', len(gur.es))\n",
    "print('Total vertices:', len(gur.vs))\n",
    "usrlabels,reslabels = acg.get_labels(gur, byweights=False)\n",
    "print('Num users:',len(usrlabels))\n",
    "print('Num resources:', len(reslabels))"
   ]
  },
  {
   "cell_type": "code",
   "execution_count": 3,
   "id": "bbb29342",
   "metadata": {},
   "outputs": [],
   "source": [
    "def get_negative_entries(gur):\n",
    "    df_emp_access = pd.read_csv('data/train.csv')\n",
    "    \n",
    "    attnames_list = list(df_emp_access.columns)[2:]\n",
    "\n",
    "    #---Group by the column header: attvalues, residx, resolution---\n",
    "    dfgb_temp = df_emp_access.groupby(attnames_list + ['RESOURCE','ACTION'])\n",
    "    df_temp = dfgb_temp.size().to_frame(name = 'count').reset_index()\n",
    "    df_temp = df_temp.drop('count', axis=1)\n",
    "\n",
    "    #---Add user indexes---\n",
    "    dfgb_temp = df_temp.groupby(attnames_list)\n",
    "\n",
    "    dfs_list = []\n",
    "    usridx = 0\n",
    "    for _,df in dfgb_temp:\n",
    "        k = df.shape[0]\n",
    "        df.insert(loc=0, column='USR_ID', value=[usridx for _ in range(k)])\n",
    "        dfs_list.append(df)\n",
    "        usridx += 1\n",
    "    df_temp = pd.concat(dfs_list)\n",
    "\n",
    "    df_entries = df_temp[['USR_ID', 'RESOURCE', 'ACTION']]\n",
    "\n",
    "    df_neg_entries = df_entries[df_entries['ACTION']==0]\n",
    "\n",
    "    dfgb_neg = df_neg_entries.groupby(['USR_ID','RESOURCE'])\n",
    "    df_temp_neg = dfgb_neg.size().to_frame(name = 'COUNT').reset_index()\n",
    "    usrid_to_resid_neg = df_temp_neg[['USR_ID','RESOURCE']].values.tolist()\n",
    "    \n",
    "    #Map ids to indexes in the graph\n",
    "    usrid_to_vidx = dict()\n",
    "    resid_to_vidx = dict()\n",
    "    for v in gur.vs:\n",
    "        if v['type'] == False:\n",
    "            usrid = int(v['name'][6:])\n",
    "            usrid_to_vidx[usrid] = v.index\n",
    "        else:\n",
    "            resid = int(v['name'][6:])\n",
    "            resid_to_vidx[resid] = v.index\n",
    "    \n",
    "    usrvidx_to_resvidx_neg = list()\n",
    "    for tup in usrid_to_resid_neg:\n",
    "        usrid = tup[0]\n",
    "        resid = tup[1]\n",
    "        if usrid in usrid_to_vidx and resid in resid_to_vidx:\n",
    "            usrvidx_to_resvidx_neg.append((usrid_to_vidx[usrid], resid_to_vidx[resid]))\n",
    "            \n",
    "    return usrvidx_to_resvidx_neg\n",
    "\n",
    "\n",
    "\n",
    "def get_positive_entries(gur, numentries, sd):\n",
    "    random.seed(sd)\n",
    "    usrvidx_to_resvidx_pos = []\n",
    "\n",
    "    es_sampled = random.sample(sorted(gur.es),numentries)\n",
    "    for e in es_sampled:\n",
    "        usrvidx = e.source\n",
    "        resvidx = e.target\n",
    "        usrvidx_to_resvidx_pos.append((usrvidx, resvidx))\n",
    "        \n",
    "    gur2 = copy.deepcopy(gur)\n",
    "    gur2.delete_edges(es_sampled)\n",
    "    \n",
    "    return usrvidx_to_resvidx_pos, gur2\n",
    "    \n",
    "  "
   ]
  },
  {
   "cell_type": "code",
   "execution_count": 21,
   "id": "efbdef51",
   "metadata": {},
   "outputs": [],
   "source": [
    "def get_non_entries(gur, numentries, sd):\n",
    "    edges_tuples = []\n",
    "    for e in gur.es:\n",
    "        edges_tuples.append((e.source,e.target))\n",
    "\n",
    "    usrvidxs = []\n",
    "    resvidxs = []\n",
    "    for v in gur.vs:\n",
    "        if v['type']:\n",
    "            resvidxs.append(v.index)\n",
    "        else:\n",
    "            usrvidxs.append(v.index)\n",
    "\n",
    "    random.seed = sd\n",
    "    usrvidxs_random = random.choices(usrvidxs,k=10*numentries)\n",
    "    resvidxs_random = random.choices(resvidxs,k=10*numentries)\n",
    "\n",
    "    i = 0\n",
    "    j = 0\n",
    "    usrvidx_to_resvidx_non = []\n",
    "    while i < numentries:\n",
    "        tup = (usrvidxs_random[j], resvidxs_random[j])\n",
    "        if not tup in edges_tuples: \n",
    "            usrvidx_to_resvidx_non.append(tup)\n",
    "            i += 1\n",
    "        j += 1\n",
    "        \n",
    "    return usrvidx_to_resvidx_non\n",
    "    "
   ]
  },
  {
   "cell_type": "code",
   "execution_count": 4,
   "id": "d6d5a676",
   "metadata": {},
   "outputs": [],
   "source": [
    "def res_requesters_distrib(usrvidx_to_resvidx):\n",
    "    resvidxset = set()\n",
    "    for tup in usrvidx_to_resvidx:\n",
    "        resvidxset.add(tup[1])\n",
    "    num_requesters = []\n",
    "    for resvidx in list(resvidxset):\n",
    "        num_requesters.append(len(gur.neighbors(resvidx)))\n",
    "\n",
    "    num_requesters_to_freq = dict(Counter(num_requesters))\n",
    "    num_requesters_to_freq = dict(sorted(num_requesters_to_freq.items(), key=lambda item: item[1]))\n",
    "\n",
    "    plt.plot(num_requesters_to_freq.keys(), num_requesters_to_freq.values(), '.')\n",
    "    plt.xlabel('num requesters')\n",
    "    plt.ylabel('freq')\n",
    "    plt.show()"
   ]
  },
  {
   "cell_type": "code",
   "execution_count": 5,
   "id": "d35b5199",
   "metadata": {},
   "outputs": [],
   "source": [
    "usrvidx_to_resvidx_neg = get_negative_entries(gur)"
   ]
  },
  {
   "cell_type": "code",
   "execution_count": 6,
   "id": "9f0b4d64",
   "metadata": {},
   "outputs": [
    {
     "data": {
      "text/plain": [
       "1152"
      ]
     },
     "execution_count": 6,
     "metadata": {},
     "output_type": "execute_result"
    }
   ],
   "source": [
    "len(usrvidx_to_resvidx_neg)"
   ]
  },
  {
   "cell_type": "code",
   "execution_count": 7,
   "id": "180665e8",
   "metadata": {},
   "outputs": [
    {
     "data": {
      "image/png": "[encoded data removed]",
      "text/plain": [
       "<Figure size 432x288 with 1 Axes>"
      ]
     },
     "metadata": {
      "needs_background": "light"
     },
     "output_type": "display_data"
    }
   ],
   "source": [
    "res_requesters_distrib(usrvidx_to_resvidx_neg)"
   ]
  },
  {
   "cell_type": "code",
   "execution_count": 8,
   "id": "ee214ec4",
   "metadata": {},
   "outputs": [],
   "source": [
    "usrvidx_to_resvidx_pos, gur2 = get_positive_entries(gur, len(usrvidx_to_resvidx_neg), 13)"
   ]
  },
  {
   "cell_type": "code",
   "execution_count": 9,
   "id": "e5a84b4d",
   "metadata": {},
   "outputs": [
    {
     "data": {
      "text/plain": [
       "1152"
      ]
     },
     "execution_count": 9,
     "metadata": {},
     "output_type": "execute_result"
    }
   ],
   "source": [
    "len(usrvidx_to_resvidx_pos)"
   ]
  },
  {
   "cell_type": "code",
   "execution_count": 10,
   "id": "6714ccd6",
   "metadata": {},
   "outputs": [
    {
     "data": {
      "image/png": "[encoded data removed]",
      "text/plain": [
       "<Figure size 432x288 with 1 Axes>"
      ]
     },
     "metadata": {
      "needs_background": "light"
     },
     "output_type": "display_data"
    }
   ],
   "source": [
    "res_requesters_distrib(usrvidx_to_resvidx_pos)"
   ]
  },
  {
   "cell_type": "code",
   "execution_count": 22,
   "id": "bfd3117e",
   "metadata": {},
   "outputs": [],
   "source": [
    "usrvidx_to_resvidx_non = get_non_entries(gur, len(usrvidx_to_resvidx_neg), 13)"
   ]
  },
  {
   "cell_type": "code",
   "execution_count": 23,
   "id": "bb853600",
   "metadata": {},
   "outputs": [
    {
     "data": {
      "image/png": "[encoded data removed]",
      "text/plain": [
       "<Figure size 432x288 with 1 Axes>"
      ]
     },
     "metadata": {
      "needs_background": "light"
     },
     "output_type": "display_data"
    }
   ],
   "source": [
    "res_requesters_distrib(usrvidx_to_resvidx_non)"
   ]
  },
  {
   "cell_type": "code",
   "execution_count": 24,
   "id": "574f7532",
   "metadata": {},
   "outputs": [
    {
     "data": {
      "text/plain": [
       "1152"
      ]
     },
     "execution_count": 24,
     "metadata": {},
     "output_type": "execute_result"
    }
   ],
   "source": [
    "len(usrvidx_to_resvidx_non)"
   ]
  },
  {
   "cell_type": "markdown",
   "id": "642c323c",
   "metadata": {},
   "source": [
    "### Similarity functions"
   ]
  },
  {
   "cell_type": "code",
   "execution_count": 31,
   "id": "a15fdd4f",
   "metadata": {},
   "outputs": [],
   "source": [
    "#Matrix required to compute distance based similarity\n",
    "D = gur2.distances()\n",
    "D2 = np.array(D)\n",
    "D2[~np.isfinite(D2)] = 1"
   ]
  },
  {
   "cell_type": "code",
   "execution_count": 25,
   "id": "25c20ef7",
   "metadata": {},
   "outputs": [],
   "source": [
    "def commonneigh_sim(gur, usrvidx, resvidx):\n",
    "    uv = gur.vs[usrvidx]\n",
    "    rv = gur.vs[resvidx]\n",
    "    uneighs = gur.neighbors(uv)\n",
    "    uneighs2 = set()\n",
    "    for resvidx in uneighs:\n",
    "        uneighs2 |= set(gur.neighbors(gur.vs[resvidx]))\n",
    "    rneighs = gur.neighbors(rv)\n",
    "    cn = len(set(uneighs2)&set(rneighs))\n",
    "    return cn"
   ]
  },
  {
   "cell_type": "code",
   "execution_count": 26,
   "id": "44190216",
   "metadata": {},
   "outputs": [],
   "source": [
    "def jaccard_sim(gur, usrvidx, resvidx):\n",
    "    uv = gur.vs[usrvidx]\n",
    "    rv = gur.vs[resvidx]\n",
    "    uneighs = gur.neighbors(uv)\n",
    "    uneighs2 = set()\n",
    "    for resvidx in uneighs:\n",
    "        uneighs2 |= set(gur.neighbors(gur.vs[resvidx]))   \n",
    "    rneighs = gur.neighbors(rv)\n",
    "    js = len(set(uneighs2)&set(rneighs))/len(set(uneighs2)|set(rneighs))\n",
    "    return js"
   ]
  },
  {
   "cell_type": "code",
   "execution_count": 27,
   "id": "c5cd5879",
   "metadata": {},
   "outputs": [],
   "source": [
    "def cosine_sim(gur, usrvidx, resvidx):\n",
    "    uv = gur.vs[usrvidx]\n",
    "    rv = gur.vs[resvidx]\n",
    "    uneighs = gur.neighbors(uv)\n",
    "    uneighs2 = set()\n",
    "    for resvidx in uneighs:\n",
    "        uneighs2 |= set(gur.neighbors(gur.vs[resvidx]))   \n",
    "    rneighs = gur.neighbors(rv)\n",
    "    cs = len(set(uneighs2)&set(rneighs))/math.sqrt(len(uneighs)*len(rneighs))\n",
    "    return cs"
   ]
  },
  {
   "cell_type": "code",
   "execution_count": 28,
   "id": "e56c5df8",
   "metadata": {},
   "outputs": [],
   "source": [
    "def aa_sim(gur, usrvidx, resvidx):\n",
    "    uv = gur.vs[usrvidx]\n",
    "    rv = gur.vs[resvidx]\n",
    "    uneighs = gur.neighbors(uv)\n",
    "    uneighs2 = set()\n",
    "    for resvidx in uneighs:\n",
    "        uneighs2 |= set(gur.neighbors(gur.vs[resvidx])) \n",
    "    rneighs = gur.neighbors(rv)\n",
    "    aasim = 0\n",
    "    for usrvidx3 in list(set(uneighs2)&set(rneighs)):\n",
    "        den = len(gur.neighbors(gur.vs[usrvidx3]))\n",
    "        if den == 1:\n",
    "            aasim += 1/100\n",
    "        else:\n",
    "            aasim += 1/math.log(den,10)\n",
    "        \n",
    "    return aasim"
   ]
  },
  {
   "cell_type": "code",
   "execution_count": 29,
   "id": "a423b1ea",
   "metadata": {},
   "outputs": [],
   "source": [
    "def pa_sim(gur, usrvidx, resvidx):\n",
    "    uv = gur.vs[usrvidx]\n",
    "    rv = gur.vs[resvidx]\n",
    "    uneighs = gur.neighbors(uv)\n",
    "    rneighs = gur.neighbors(rv)\n",
    "    pa = len(uneighs) * len(rneighs)\n",
    "    return pa"
   ]
  },
  {
   "cell_type": "code",
   "execution_count": 30,
   "id": "382e169d",
   "metadata": {},
   "outputs": [],
   "source": [
    "def geodist(gur, usrvidx, resvidx):\n",
    "    #gur is ignored\n",
    "    return D2[usrvidx][resvidx]"
   ]
  },
  {
   "cell_type": "code",
   "execution_count": 33,
   "id": "a422a871",
   "metadata": {},
   "outputs": [],
   "source": [
    "def compute_sims(simfunc):\n",
    "\n",
    "    sim_neg = []\n",
    "    for tup in usrvidx_to_resvidx_neg:\n",
    "        usrvidx = tup[0]\n",
    "        resvidx = tup[1]\n",
    "        sim = simfunc(gur, usrvidx, resvidx)\n",
    "        sim_neg.append(sim)\n",
    "\n",
    "    sim_pos = []\n",
    "    for tup in usrvidx_to_resvidx_pos:\n",
    "        usrvidx = tup[0]\n",
    "        resvidx = tup[1]\n",
    "        sim = simfunc(gur, usrvidx, resvidx)\n",
    "        sim_pos.append(sim)\n",
    "        \n",
    "    return sim_pos, sim_neg\n",
    "\n",
    "    \n",
    "\n",
    "def plot_simdistribs(sim_pos, sim_neg, bins, isLog=False):\n",
    "    plt.hist(sim_neg,bins=bins,color='tab:red')\n",
    "    plt.hist(sim_pos,bins=bins,alpha=0.8,color='tab:green')\n",
    "    if isLog:\n",
    "        plt.xscale('log')\n",
    "    plt.xlabel('sim')\n",
    "    plt.legend(['neg', 'pos'])\n",
    "    plt.show()\n",
    "\n",
    "    \n",
    "def plot_roc_curve(sim_pos, sim_neg):\n",
    "    y_true = np.array([0 for tup in usrvidx_to_resvidx_neg] + [1 for tup in usrvidx_to_resvidx_pos])\n",
    "    y_scores = np.array([sim for sim in sim_neg] + [sim for sim in sim_pos])\n",
    "    fpr, tpr, thresholds = roc_curve(y_true, y_scores)\n",
    "    plt.plot(fpr, tpr)\n",
    "    plt.xlabel('False Positive Rate')\n",
    "    plt.ylabel('True Positive Rate')\n",
    "    \n"
   ]
  },
  {
   "cell_type": "code",
   "execution_count": 34,
   "id": "a8996e56",
   "metadata": {},
   "outputs": [],
   "source": [
    "def compute_sim_none(simfunc):\n",
    "\n",
    "    sim_non = []\n",
    "    for tup in usrvidx_to_resvidx_non:\n",
    "        usrvidx = tup[0]\n",
    "        resvidx = tup[1]\n",
    "        sim = simfunc(gur, usrvidx, resvidx)\n",
    "        sim_non.append(sim)\n",
    "        \n",
    "    return sim_non\n"
   ]
  },
  {
   "cell_type": "code",
   "execution_count": 35,
   "id": "f05e4875",
   "metadata": {},
   "outputs": [
    {
     "data": {
      "image/png": "[encoded data removed]",
      "text/plain": [
       "<Figure size 432x288 with 1 Axes>"
      ]
     },
     "metadata": {
      "needs_background": "light"
     },
     "output_type": "display_data"
    }
   ],
   "source": [
    "#Common neighbors similarity\n",
    "sim_pos,sim_neg = compute_sims(commonneigh_sim)\n",
    "bins = np.linspace(0, 50, 11)\n",
    "plot_simdistribs(sim_pos, sim_neg, bins, isLog=False)"
   ]
  },
  {
   "cell_type": "code",
   "execution_count": 37,
   "id": "d342622c",
   "metadata": {},
   "outputs": [
    {
     "data": {
      "image/png": "[encoded data removed]",
      "text/plain": [
       "<Figure size 432x288 with 1 Axes>"
      ]
     },
     "metadata": {
      "needs_background": "light"
     },
     "output_type": "display_data"
    }
   ],
   "source": [
    "sim_non = compute_sim_none(commonneigh_sim)\n",
    "\n",
    "bins = np.linspace(0, 50, 11)\n",
    "plot_simdistribs(sim_non, sim_neg, bins, isLog=False)"
   ]
  },
  {
   "cell_type": "code",
   "execution_count": 38,
   "id": "9256eb60",
   "metadata": {},
   "outputs": [
    {
     "data": {
      "image/png": "[encoded data removed]",
      "text/plain": [
       "<Figure size 432x288 with 1 Axes>"
      ]
     },
     "metadata": {
      "needs_background": "light"
     },
     "output_type": "display_data"
    }
   ],
   "source": [
    "plot_roc_curve(sim_pos, sim_neg)"
   ]
  },
  {
   "cell_type": "code",
   "execution_count": 41,
   "id": "7cc29056",
   "metadata": {},
   "outputs": [
    {
     "data": {
      "image/png": "[encoded data removed]",
      "text/plain": [
       "<Figure size 432x288 with 1 Axes>"
      ]
     },
     "metadata": {
      "needs_background": "light"
     },
     "output_type": "display_data"
    }
   ],
   "source": [
    "#Jaccard similarity\n",
    "sim_pos,sim_neg = compute_sims(jaccard_sim)\n",
    "bins = np.linspace(0, 1, 21)\n",
    "plot_simdistribs(sim_pos, sim_neg, bins, isLog=False)"
   ]
  },
  {
   "cell_type": "code",
   "execution_count": 42,
   "id": "0fcde609",
   "metadata": {},
   "outputs": [
    {
     "data": {
      "image/png": "[encoded data removed]",
      "text/plain": [
       "<Figure size 432x288 with 1 Axes>"
      ]
     },
     "metadata": {
      "needs_background": "light"
     },
     "output_type": "display_data"
    }
   ],
   "source": [
    "sim_non = compute_sim_none(jaccard_sim)\n",
    "bins = np.linspace(0, 1, 21)\n",
    "plot_simdistribs(sim_non, sim_neg, bins, isLog=False)"
   ]
  },
  {
   "cell_type": "code",
   "execution_count": 43,
   "id": "7606a261",
   "metadata": {},
   "outputs": [
    {
     "data": {
      "image/png": "[encoded data removed]",
      "text/plain": [
       "<Figure size 432x288 with 1 Axes>"
      ]
     },
     "metadata": {
      "needs_background": "light"
     },
     "output_type": "display_data"
    }
   ],
   "source": [
    "plot_roc_curve(sim_pos, sim_neg)"
   ]
  },
  {
   "cell_type": "code",
   "execution_count": 44,
   "id": "bc56f642",
   "metadata": {},
   "outputs": [
    {
     "data": {
      "image/png": "[encoded data removed]",
      "text/plain": [
       "<Figure size 432x288 with 1 Axes>"
      ]
     },
     "metadata": {
      "needs_background": "light"
     },
     "output_type": "display_data"
    }
   ],
   "source": [
    "#Cosine similarity\n",
    "sim_pos,sim_neg = compute_sims(cosine_sim)\n",
    "bins = np.linspace(0, 10, 201)\n",
    "plot_simdistribs(sim_pos, sim_neg, bins, isLog=True)"
   ]
  },
  {
   "cell_type": "code",
   "execution_count": 45,
   "id": "70d88656",
   "metadata": {},
   "outputs": [
    {
     "data": {
      "image/png": "[encoded data removed]",
      "text/plain": [
       "<Figure size 432x288 with 1 Axes>"
      ]
     },
     "metadata": {
      "needs_background": "light"
     },
     "output_type": "display_data"
    }
   ],
   "source": [
    "sim_non = compute_sim_none(cosine_sim)\n",
    "bins = np.linspace(0, 10, 201)\n",
    "plot_simdistribs(sim_non, sim_neg, bins, isLog=True)"
   ]
  },
  {
   "cell_type": "code",
   "execution_count": 151,
   "id": "d4fc258b",
   "metadata": {},
   "outputs": [
    {
     "data": {
      "image/png": "[encoded data removed]",
      "text/plain": [
       "<Figure size 432x288 with 1 Axes>"
      ]
     },
     "metadata": {
      "needs_background": "light"
     },
     "output_type": "display_data"
    }
   ],
   "source": [
    "plot_roc_curve(sim_pos, sim_neg)"
   ]
  },
  {
   "cell_type": "code",
   "execution_count": 152,
   "id": "387f99c4",
   "metadata": {},
   "outputs": [
    {
     "data": {
      "image/png": "[encoded data removed]",
      "text/plain": [
       "<Figure size 432x288 with 1 Axes>"
      ]
     },
     "metadata": {
      "needs_background": "light"
     },
     "output_type": "display_data"
    }
   ],
   "source": [
    "#Adamic-adar similarity\n",
    "sim_pos,sim_neg = compute_sims(aa_sim)\n",
    "bins = np.linspace(0, 20, 41)\n",
    "plot_simdistribs(sim_pos, sim_neg, bins, isLog=False)"
   ]
  },
  {
   "cell_type": "code",
   "execution_count": 153,
   "id": "9e9a8f57",
   "metadata": {},
   "outputs": [
    {
     "data": {
      "image/png": "[encoded data removed]",
      "text/plain": [
       "<Figure size 432x288 with 1 Axes>"
      ]
     },
     "metadata": {
      "needs_background": "light"
     },
     "output_type": "display_data"
    }
   ],
   "source": [
    "plot_roc_curve(sim_pos, sim_neg)"
   ]
  },
  {
   "cell_type": "code",
   "execution_count": 154,
   "id": "383eb837",
   "metadata": {},
   "outputs": [
    {
     "data": {
      "image/png": "[encoded data removed]",
      "text/plain": [
       "<Figure size 432x288 with 1 Axes>"
      ]
     },
     "metadata": {
      "needs_background": "light"
     },
     "output_type": "display_data"
    }
   ],
   "source": [
    "#Preferential attachment similarity\n",
    "sim_pos,sim_neg = compute_sims(pa_sim)\n",
    "bins = np.linspace(0, 20, 21)\n",
    "plot_simdistribs(sim_pos, sim_neg, bins, isLog=False)"
   ]
  },
  {
   "cell_type": "code",
   "execution_count": 155,
   "id": "9f5bccc5",
   "metadata": {},
   "outputs": [
    {
     "data": {
      "image/png": "[encoded data removed]",
      "text/plain": [
       "<Figure size 432x288 with 1 Axes>"
      ]
     },
     "metadata": {
      "needs_background": "light"
     },
     "output_type": "display_data"
    }
   ],
   "source": [
    "plot_roc_curve(sim_pos, sim_neg)"
   ]
  },
  {
   "cell_type": "code",
   "execution_count": 156,
   "id": "dd1cba78",
   "metadata": {},
   "outputs": [
    {
     "data": {
      "image/png": "[encoded data removed]",
      "text/plain": [
       "<Figure size 432x288 with 1 Axes>"
      ]
     },
     "metadata": {
      "needs_background": "light"
     },
     "output_type": "display_data"
    }
   ],
   "source": [
    "#Similarity based in geodesic distance\n",
    "sim_pos,sim_neg = compute_sims(geodist)\n",
    "bins = np.linspace(0, 10, 11)\n",
    "plot_simdistribs(sim_pos, sim_neg, bins, isLog=False)"
   ]
  },
  {
   "cell_type": "code",
   "execution_count": 97,
   "id": "fef1e85e",
   "metadata": {},
   "outputs": [
    {
     "data": {
      "image/png": "[encoded data removed]",
      "text/plain": [
       "<Figure size 432x288 with 1 Axes>"
      ]
     },
     "metadata": {
      "needs_background": "light"
     },
     "output_type": "display_data"
    }
   ],
   "source": [
    "plot_roc_curve(sim_pos, sim_neg)"
   ]
  },
  {
   "cell_type": "code",
   "execution_count": null,
   "id": "1b513532",
   "metadata": {},
   "outputs": [],
   "source": []
  },
  {
   "cell_type": "code",
   "execution_count": null,
   "id": "b06153f3",
   "metadata": {},
   "outputs": [],
   "source": []
  },
  {
   "cell_type": "code",
   "execution_count": null,
   "id": "e7428dea",
   "metadata": {},
   "outputs": [],
   "source": []
  },
  {
   "cell_type": "code",
   "execution_count": null,
   "id": "6bb1969b",
   "metadata": {},
   "outputs": [],
   "source": []
  },
  {
   "cell_type": "code",
   "execution_count": 85,
   "id": "658f54e6",
   "metadata": {},
   "outputs": [],
   "source": [
    "userlog_objs = []\n",
    "for v in gur.vs:\n",
    "    if v['type'] == False:\n",
    "        userlog_obj = []\n",
    "        for attname in v.attribute_names():\n",
    "            if not attname in ['type','name']:\n",
    "                userlog_obj.append(v[attname])\n",
    "        userlog_objs.append(userlog_obj)\n",
    "\n",
    "userlog_objs = ut.to_tuple_format(userlog_objs)"
   ]
  },
  {
   "cell_type": "code",
   "execution_count": 86,
   "id": "e1e631bb",
   "metadata": {},
   "outputs": [],
   "source": [
    "def get_neighattvals(gur, resvidx, usrvidx_excluded):\n",
    "    neighattvals = set()\n",
    "    for usrvidx in gur.neighbors(gur.vs[resvidx]):\n",
    "        if usrvidx != usrvidx_excluded:\n",
    "            neighattvals |= set(userlog_objs[usrvidx])   \n",
    "    return neighattvals\n",
    "\n",
    "numatts_neg = []\n",
    "for tup in usrvidx_to_resvidx_neg:\n",
    "    usrvidx = tup[0]\n",
    "    resvidx = tup[1]\n",
    "    neighattvals = get_neighattvals(gur, resvidx, usrvidx)\n",
    "    usrattvals = set(userlog_objs[usrvidx])\n",
    "    numatts_neg.append(len(usrattvals&neighattvals))\n",
    "    \n",
    "numatts_pos = []\n",
    "for tup in usrvidx_to_resvidx_pos:\n",
    "    usrvidx = tup[0]\n",
    "    resvidx = tup[1]\n",
    "    neighattvals = get_neighattvals(gur, resvidx, usrvidx)\n",
    "    usrattvals = set(userlog_objs[usrvidx])\n",
    "    numatts_pos.append(len(usrattvals&neighattvals))    "
   ]
  },
  {
   "cell_type": "code",
   "execution_count": 87,
   "id": "aeb8e53e",
   "metadata": {},
   "outputs": [
    {
     "data": {
      "image/png": "[encoded data removed]",
      "text/plain": [
       "<Figure size 432x288 with 1 Axes>"
      ]
     },
     "metadata": {
      "needs_background": "light"
     },
     "output_type": "display_data"
    }
   ],
   "source": [
    "bins = np.linspace(0, 10, 11)\n",
    "plt.hist(numatts_neg,bins=bins,color='tab:red')\n",
    "plt.hist(numatts_pos,bins=bins,alpha=0.8,color='tab:green')\n",
    "plt.xlabel('geodesic distance')\n",
    "plt.legend(['neg', 'pos'])\n",
    "plt.show()"
   ]
  },
  {
   "cell_type": "code",
   "execution_count": 79,
   "id": "a4147180",
   "metadata": {},
   "outputs": [
    {
     "data": {
      "text/plain": [
       "Counter({5: 1152})"
      ]
     },
     "execution_count": 79,
     "metadata": {},
     "output_type": "execute_result"
    }
   ],
   "source": [
    "Counter(numatts_pos)"
   ]
  },
  {
   "cell_type": "code",
   "execution_count": null,
   "id": "3fb10df6",
   "metadata": {},
   "outputs": [],
   "source": []
  }
 ],
 "metadata": {
  "kernelspec": {
   "display_name": "Python 3 (ipykernel)",
   "language": "python",
   "name": "python3"
  },
  "language_info": {
   "codemirror_mode": {
    "name": "ipython",
    "version": 3
   },
   "file_extension": ".py",
   "mimetype": "text/x-python",
   "name": "python",
   "nbconvert_exporter": "python",
   "pygments_lexer": "ipython3",
   "version": "3.9.16"
  }
 },
 "nbformat": 4,
 "nbformat_minor": 5
}

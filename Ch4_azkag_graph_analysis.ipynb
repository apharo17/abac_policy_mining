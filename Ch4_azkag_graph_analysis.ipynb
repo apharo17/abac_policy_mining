{
 "cells": [
  {
   "cell_type": "code",
   "execution_count": 3,
   "id": "e4d5f21c",
   "metadata": {},
   "outputs": [],
   "source": [
    "import numpy as np\n",
    "import pandas as pd\n",
    "import matplotlib.pyplot as plt\n",
    "import igraph as ig\n",
    "from collections import Counter\n",
    "from efficient_apriori import apriori\n",
    "import math\n",
    "\n",
    "from src import acgraph as acg\n",
    "from src import utils as ut"
   ]
  },
  {
   "cell_type": "code",
   "execution_count": 4,
   "id": "3956e708",
   "metadata": {},
   "outputs": [],
   "source": [
    "def get_norm_degdistrib(g, isbottom = True):\n",
    "\n",
    "    vidx_to_deg = dict()\n",
    "    for v in g.vs:\n",
    "        if v['type'] == isbottom:\n",
    "            vidx_to_deg[v.index] = v.degree()\n",
    "    \n",
    "    degrees = list(vidx_to_deg.values())\n",
    "    degree_counter = Counter(degrees)\n",
    "    degree_keys = list(degree_counter.keys())\n",
    "    counts = list(degree_counter.values())\n",
    "\n",
    "    #sorting list based on another list\n",
    "    #https://stackoverflow.com/questions/6618515/sorting-list-based-on-values-from-another-list\n",
    "    temp = {degkey:count for degkey,count in sorted(zip(degree_keys, counts))}\n",
    "    deg_ks = list(temp.keys())\n",
    "    deg_distr = list(temp.values())\n",
    "\n",
    "    total = sum(deg_distr)\n",
    "    p_k = [frec/total for frec in deg_distr] #norm distribution\n",
    "\n",
    "    \n",
    "    return vidx_to_deg, dict(zip(deg_ks,p_k))"
   ]
  },
  {
   "cell_type": "code",
   "execution_count": 18,
   "id": "2f3bf3c8",
   "metadata": {},
   "outputs": [],
   "source": [
    "from scipy.optimize import curve_fit\n",
    "def power_law(x, a, b):\n",
    "    return a * np.power(x, -b)\n",
    "\n",
    "def st_exp(x,c,tau,miu):\n",
    "    return c*(np.exp(-(x/tau)**miu))\n"
   ]
  },
  {
   "cell_type": "code",
   "execution_count": 6,
   "id": "8e9efbdd",
   "metadata": {},
   "outputs": [],
   "source": [
    "def save_xytable(fname,x,y,xlabel,ylabel):\n",
    "    f = open(fname,'w')\n",
    "    strout = xlabel + ' ' + ylabel + '\\n'\n",
    "    f.write(strout)\n",
    "    for i in range(len(x)):\n",
    "        strout = str(x[i]) + ' ' + str(y[i]) + '\\n'\n",
    "        f.write(strout)\n",
    "    f.close()"
   ]
  },
  {
   "cell_type": "code",
   "execution_count": 25,
   "id": "de682658",
   "metadata": {},
   "outputs": [],
   "source": [
    "def degree_corr(g, vidx_to_deg):\n",
    "    deg_to_vidxs = dict()\n",
    "    for vidx,deg in vidx_to_deg.items():\n",
    "        if not deg in deg_to_vidxs:\n",
    "            deg_to_vidxs[deg] = []\n",
    "        deg_to_vidxs[deg].append(vidx)\n",
    "    \n",
    "    deg_to_avgdeg = dict()\n",
    "    for deg,vidxs in deg_to_vidxs.items():\n",
    "        vidxs2 = []\n",
    "        for vidx in vidxs:\n",
    "            for vidx2 in g.neighbors(g.vs[vidx]):\n",
    "                vidxs2.append(vidx2)\n",
    "        \n",
    "        avgdeg = sum([g.vs[vidx2].degree() for vidx2 in vidxs2])/len(vidxs2)\n",
    "        deg_to_avgdeg[deg] = avgdeg\n",
    "    \n",
    "    deg_to_avgdeg = dict(sorted(deg_to_avgdeg.items(), key=lambda item: item[0]))\n",
    "    return deg_to_avgdeg "
   ]
  },
  {
   "cell_type": "markdown",
   "id": "d278e0ee",
   "metadata": {},
   "source": [
    "### Load access control graph"
   ]
  },
  {
   "cell_type": "code",
   "execution_count": 7,
   "id": "676e401f",
   "metadata": {},
   "outputs": [
    {
     "name": "stdout",
     "output_type": "stream",
     "text": [
      "---Control Access Graph---\n",
      "Total edges: 30872\n",
      "Total vertices: 16524\n",
      "Num users: 9298\n",
      "Num resources: 7226\n",
      "\n",
      "---Largest Connected Component---\n",
      "Total edges: 30425\n",
      "Total vertices: 15773\n",
      "Num users: 8933\n",
      "Num resources: 6840\n"
     ]
    }
   ],
   "source": [
    "rel_attnames = [\n",
    "#'MGR_ID',\n",
    "#'ROLE_ROLLUP_1',\n",
    "'ROLE_ROLLUP_2',\n",
    "'ROLE_DEPTNAME',\n",
    "'ROLE_TITLE',\n",
    "'ROLE_FAMILY_DESC',\n",
    "'ROLE_FAMILY']\n",
    "gur = acg.load_azkag_graph(rel_attnames=rel_attnames, isWeighted=True)\n",
    "print('---Control Access Graph---')\n",
    "print('Total edges:', len(gur.es))\n",
    "print('Total vertices:', len(gur.vs))\n",
    "\n",
    "gur_usrlabels,gur_reslabels = acg.get_labels(gur, byweights=False)\n",
    "print('Num users:',len(gur_usrlabels))\n",
    "print('Num resources:', len(gur_reslabels))\n",
    "print()\n",
    "\n",
    "gur = acg.get_largestcc(gur) #Discard small components\n",
    "print('---Largest Connected Component---')\n",
    "print('Total edges:', len(gur.es))\n",
    "print('Total vertices:', len(gur.vs))\n",
    "usrlabels,reslabels = acg.get_labels(gur, byweights=False)\n",
    "print('Num users:',len(usrlabels))\n",
    "print('Num resources:', len(reslabels))"
   ]
  },
  {
   "cell_type": "markdown",
   "id": "c4eaf385",
   "metadata": {},
   "source": [
    "### Resoure degree distribution"
   ]
  },
  {
   "cell_type": "code",
   "execution_count": 14,
   "id": "097a61b9",
   "metadata": {},
   "outputs": [
    {
     "data": {
      "image/png": "[encoded data removed]",
      "text/plain": [
       "<Figure size 432x288 with 1 Axes>"
      ]
     },
     "metadata": {
      "needs_background": "light"
     },
     "output_type": "display_data"
    }
   ],
   "source": [
    "#Degree distribution\n",
    "vidx_to_deg_res, degs_to_pks = get_norm_degdistrib(gur, isbottom = True)\n",
    "degs_res = list(degs_to_pks.keys())\n",
    "pks_res = list(degs_to_pks.values())\n",
    "\n",
    "plt.loglog(degs_res,pks_res,'r.')\n",
    "plt.title('Log-log scale degree distribution (norm)')\n",
    "plt.ylabel('p(k)')\n",
    "plt.xlabel('k')\n",
    "plt.show()"
   ]
  },
  {
   "cell_type": "code",
   "execution_count": 16,
   "id": "d4ce778d",
   "metadata": {},
   "outputs": [
    {
     "name": "stdout",
     "output_type": "stream",
     "text": [
      "Alpha: 2.258383903101027\n"
     ]
    },
    {
     "data": {
      "image/png": "[encoded data removed]",
      "text/plain": [
       "<Figure size 432x288 with 1 Axes>"
      ]
     },
     "metadata": {
      "needs_background": "light"
     },
     "output_type": "display_data"
    }
   ],
   "source": [
    "#Complement of the cumulative distribution function (CCDF)\n",
    "Pks_res = []\n",
    "s = 0\n",
    "for pk in pks_res:\n",
    "    Pks_res.append(1-s)\n",
    "    s += pk\n",
    "\n",
    "minidx = 10\n",
    "maxidx = 100\n",
    "popt, pcov = curve_fit(power_law, degs_res[minidx:maxidx], Pks_res[minidx:maxidx], p0=[1, 1], bounds=[[1e-3, 1e-3], [1e20, 50]])\n",
    "print('Alpha:',popt[1]+1)\n",
    "\n",
    "Pksfit_res = power_law(degs_res, *popt)\n",
    "\n",
    "plt.loglog(degs_res,Pks_res,'r.')\n",
    "plt.loglog(degs_res[:len(Pksfit_res)], Pksfit_res)\n",
    "plt.title('CCDF')\n",
    "plt.ylabel('p(k>=x)')\n",
    "plt.xlabel('x')\n",
    "plt.show()"
   ]
  },
  {
   "cell_type": "code",
   "execution_count": 15,
   "id": "b674832b",
   "metadata": {},
   "outputs": [],
   "source": [
    "#Save plots\n",
    "fname = 'dats/ch4_azkag_res_degdistrib.dat'\n",
    "#save_xytable(fname,x=degs_res,y=pks_res,xlabel='k',ylabel='p')\n",
    "\n",
    "fname = 'dats/ch4_azkag_res_ccdf.dat'\n",
    "save_xytable(fname,x=degs_res,y=Pks_res,xlabel='x',ylabel='P')\n",
    "\n",
    "fname = 'dats/ch4_azkag_res_ccdf_fit.dat'\n",
    "save_xytable(fname,x=degs_res[:len(Pksfit_res)],y=Pksfit_res,xlabel='x',ylabel='P')"
   ]
  },
  {
   "cell_type": "markdown",
   "id": "0406e18f",
   "metadata": {},
   "source": [
    "### User degree distribution"
   ]
  },
  {
   "cell_type": "code",
   "execution_count": 17,
   "id": "015c6fd2",
   "metadata": {},
   "outputs": [
    {
     "data": {
      "image/png": "[encoded data removed]",
      "text/plain": [
       "<Figure size 432x288 with 1 Axes>"
      ]
     },
     "metadata": {
      "needs_background": "light"
     },
     "output_type": "display_data"
    }
   ],
   "source": [
    "vidx_to_deg_usr, degs_to_pks = get_norm_degdistrib(gur, isbottom = False)\n",
    "degs_usr = list(degs_to_pks.keys())\n",
    "pks_usr = list(degs_to_pks.values())\n",
    "\n",
    "plt.loglog(degs_usr,pks_usr,'r.')\n",
    "plt.title('Log-log scale degree distribution (norm)')\n",
    "plt.ylabel('p(k)')\n",
    "plt.xlabel('k')\n",
    "plt.show()"
   ]
  },
  {
   "cell_type": "code",
   "execution_count": 23,
   "id": "86201576",
   "metadata": {},
   "outputs": [
    {
     "name": "stderr",
     "output_type": "stream",
     "text": [
      "/var/folders/4z/6ntcmwbx3_s3ybystwpytzsw0000gn/T/ipykernel_2277/2811307370.py:6: RuntimeWarning: invalid value encountered in power\n",
      "  return c*(np.exp(-(x/tau)**miu))\n"
     ]
    },
    {
     "name": "stdout",
     "output_type": "stream",
     "text": [
      "Mu: 0.7755718083913512\n"
     ]
    },
    {
     "data": {
      "image/png": "[encoded data removed]",
      "text/plain": [
       "<Figure size 432x288 with 1 Axes>"
      ]
     },
     "metadata": {
      "needs_background": "light"
     },
     "output_type": "display_data"
    }
   ],
   "source": [
    "#Complement of the cumulative distribution function (CCDF)\n",
    "Pks_usr = []\n",
    "s = 0\n",
    "for pk in pks_usr:\n",
    "    Pks_usr.append(1-s)\n",
    "    s += pk\n",
    "\n",
    "minidx = 0\n",
    "maxidx = 60\n",
    "best_vals, covar = curve_fit(st_exp, degs_usr[minidx:maxidx], Pks_usr[minidx:maxidx], p0=[1.0, 1.0, 1.0])\n",
    "Pksfit_usr = st_exp(degs_usr, *best_vals)\n",
    "\n",
    "print('Mu:',best_vals[2])\n",
    "\n",
    "plt.loglog(degs_usr,Pks_usr,'r.')\n",
    "plt.loglog(degs_usr[:len(Pksfit_usr)], Pksfit_usr)\n",
    "plt.title('CCDF')\n",
    "plt.ylabel('p(k>=x)')\n",
    "plt.xlabel('x')\n",
    "plt.show()"
   ]
  },
  {
   "cell_type": "code",
   "execution_count": 24,
   "id": "ae202147",
   "metadata": {},
   "outputs": [],
   "source": [
    "#Save plots\n",
    "fname = 'dats/ch4_azkag_usr_degdistrib.dat'\n",
    "#save_xytable(fname,x=degs_usr,y=pks_usr,xlabel='k',ylabel='p')\n",
    "\n",
    "fname = 'dats/ch4_azkag_usr_ccdf.dat'\n",
    "save_xytable(fname,x=degs_usr,y=Pks_usr,xlabel='x',ylabel='P')\n",
    "\n",
    "fname = 'dats/ch4_azkag_usr_ccdf_fit.dat'\n",
    "save_xytable(fname,x=degs_usr[:len(Pksfit_usr)],y=Pksfit_usr,xlabel='x',ylabel='P')"
   ]
  },
  {
   "cell_type": "code",
   "execution_count": null,
   "id": "7bdf123f",
   "metadata": {},
   "outputs": [],
   "source": []
  },
  {
   "cell_type": "markdown",
   "id": "5e635a5b",
   "metadata": {},
   "source": [
    "### Degree correlations (resources)"
   ]
  },
  {
   "cell_type": "code",
   "execution_count": 37,
   "id": "89fbd5ec",
   "metadata": {},
   "outputs": [
    {
     "data": {
      "image/png": "[encoded data removed]",
      "text/plain": [
       "<Figure size 432x288 with 1 Axes>"
      ]
     },
     "metadata": {
      "needs_background": "light"
     },
     "output_type": "display_data"
    }
   ],
   "source": [
    "deg_to_avgdeg = degree_corr(gur, vidx_to_deg_res)\n",
    "x = list(deg_to_avgdeg.keys())\n",
    "y = list(deg_to_avgdeg.values())\n",
    "plt.semilogx(x,y,'r.')\n",
    "plt.title('Degree-dependent nearest neighbors degree')\n",
    "plt.ylabel('dnn(k)')\n",
    "plt.xlabel('k')\n",
    "plt.show()\n",
    "\n",
    "#fname = 'dats/ch4_azkag_res_avgdeg.dat'\n",
    "#save_xytable(fname,x=x,y=y,xlabel='k',ylabel='d')"
   ]
  },
  {
   "cell_type": "markdown",
   "id": "01da3980",
   "metadata": {},
   "source": [
    "### Degree correlations (users)"
   ]
  },
  {
   "cell_type": "code",
   "execution_count": 39,
   "id": "0441344b",
   "metadata": {},
   "outputs": [
    {
     "data": {
      "image/png": "[encoded data removed]",
      "text/plain": [
       "<Figure size 432x288 with 1 Axes>"
      ]
     },
     "metadata": {
      "needs_background": "light"
     },
     "output_type": "display_data"
    }
   ],
   "source": [
    "deg_to_avgdeg = degree_corr(gur, vidx_to_deg_usr)\n",
    "x = list(deg_to_avgdeg.keys())\n",
    "y = list(deg_to_avgdeg.values())\n",
    "plt.plot(x,y,'r.')\n",
    "plt.title('Degree-dependent nearest neighbors degree')\n",
    "plt.ylabel('dnn(k)')\n",
    "plt.xlabel('k')\n",
    "plt.show()\n",
    "\n",
    "fname = 'dats/ch4_azkag_usr_avgdeg.dat'\n",
    "save_xytable(fname,x=x,y=y,xlabel='k',ylabel='d')"
   ]
  },
  {
   "cell_type": "code",
   "execution_count": null,
   "id": "43966f9a",
   "metadata": {},
   "outputs": [],
   "source": []
  }
 ],
 "metadata": {
  "kernelspec": {
   "display_name": "Python 3 (ipykernel)",
   "language": "python",
   "name": "python3"
  },
  "language_info": {
   "codemirror_mode": {
    "name": "ipython",
    "version": 3
   },
   "file_extension": ".py",
   "mimetype": "text/x-python",
   "name": "python",
   "nbconvert_exporter": "python",
   "pygments_lexer": "ipython3",
   "version": "3.9.16"
  }
 },
 "nbformat": 4,
 "nbformat_minor": 5
}

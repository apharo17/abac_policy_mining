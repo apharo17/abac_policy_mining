{
 "cells": [
  {
   "cell_type": "code",
   "execution_count": 1,
   "id": "e9406a09",
   "metadata": {},
   "outputs": [],
   "source": [
    "import numpy as np\n",
    "import pandas as pd\n",
    "import matplotlib.pyplot as plt\n",
    "import igraph as ig\n",
    "from collections import Counter\n",
    "from efficient_apriori import apriori\n",
    "import math\n",
    "\n",
    "from src import acgraph as acg\n",
    "from src import utils as ut\n",
    "from src import xsmining as xsm"
   ]
  },
  {
   "cell_type": "code",
   "execution_count": 2,
   "id": "824af216",
   "metadata": {},
   "outputs": [],
   "source": [
    "def get_degdistrib(g, isbottom = True):\n",
    "\n",
    "    vidx_to_deg = dict()\n",
    "    for v in g.vs:\n",
    "        if v['type'] == isbottom:\n",
    "            vidx_to_deg[v.index] = v.degree()\n",
    "    \n",
    "    degrees = list(vidx_to_deg.values())\n",
    "    degree_counter = Counter(degrees)\n",
    "    degree_keys = list(degree_counter.keys())\n",
    "    counts = list(degree_counter.values())\n",
    "\n",
    "    #sorting list based on another list\n",
    "    #https://stackoverflow.com/questions/6618515/sorting-list-based-on-values-from-another-list\n",
    "    temp = {degkey:count for degkey,count in sorted(zip(degree_keys, counts))}\n",
    "    deg_ks = list(temp.keys())\n",
    "    deg_distr = list(temp.values())\n",
    "    \n",
    "    return vidx_to_deg, dict(zip(deg_ks,deg_distr))"
   ]
  },
  {
   "cell_type": "markdown",
   "id": "864c30ca",
   "metadata": {},
   "source": [
    "### Load access control graph"
   ]
  },
  {
   "cell_type": "code",
   "execution_count": 5,
   "id": "256afd02",
   "metadata": {},
   "outputs": [
    {
     "name": "stdout",
     "output_type": "stream",
     "text": [
      "Num entries: 2606\n"
     ]
    }
   ],
   "source": [
    "usrlabels, usrlabel_to_attvals, usrname_to_usrlabel, \\\n",
    "reslabels, reslabel_to_attvals, resname_to_reslabel, usrlabel_to_reslabel = xsm.load_dataset(name='UN')\n",
    "print('Num entries:', len(usrlabel_to_reslabel))"
   ]
  },
  {
   "cell_type": "code",
   "execution_count": 10,
   "id": "03ffd0de",
   "metadata": {},
   "outputs": [
    {
     "name": "stdout",
     "output_type": "stream",
     "text": [
      "Num usr atts: 6\n",
      "Num att-vals for isChair: 1\n",
      "Num att-vals for type: 6\n",
      "{'app': 30, 'stu': 120, 'fac': 30, 'chair': 6, 'registrar': 6, 'admissions': 6}\n",
      "Num att-vals for crsTaught: 71\n",
      "Num att-vals for department: 8\n",
      "Num att-vals for position: 4\n",
      "{'applicant': 30, 'student': 120, 'faculty': 30, 'staff': 12}\n",
      "Num att-vals for crsTaken: 118\n",
      "\n",
      "Num res atts: 4\n",
      "Num att-vals for type: 4\n",
      "{'gradebook': 54, 'roster': 54, 'application': 150, 'transcript': 120}\n",
      "Num att-vals for crs: 54\n",
      "Num att-vals for department: 6\n",
      "Num att-vals for student: 150\n"
     ]
    }
   ],
   "source": [
    "usratts = set()\n",
    "usrtups = list()\n",
    "for tups in usrlabel_to_attvals.values():\n",
    "    for tup in tups:\n",
    "        usratts.add(tup[0])\n",
    "        usrtups.append(tup)\n",
    "    \n",
    "print('Num usr atts:', len(usratts))\n",
    "\n",
    "for att in usratts:\n",
    "    usrtups_ = [tup[1] for tup in usrtups if tup[0]==att]\n",
    "    print('Num att-vals for ' + att + ':', len(set(usrtups_)))\n",
    "    if att == 'type' or att == 'position':\n",
    "        print(dict(Counter(usrtups_)))\n",
    " \n",
    "resatts = set()\n",
    "restups = list()\n",
    "for tups in reslabel_to_attvals.values():\n",
    "    for tup in tups:\n",
    "        resatts.add(tup[0])\n",
    "        restups.append(tup)\n",
    "\n",
    "print()\n",
    "print('Num res atts:', len(resatts))\n",
    "\n",
    "for att in resatts:\n",
    "    restups_ = [tup[1] for tup in restups if tup[0]==att]\n",
    "    print('Num att-vals for ' + att + ':', len(set(restups_)))\n",
    "    if att == 'type':\n",
    "        print(dict(Counter(restups_)))\n",
    "    "
   ]
  },
  {
   "cell_type": "code",
   "execution_count": 12,
   "id": "554a37a1",
   "metadata": {},
   "outputs": [
    {
     "name": "stdout",
     "output_type": "stream",
     "text": [
      "Num of users: 196\n",
      "Num of resources: 377\n",
      "Num of edges: 2606\n"
     ]
    }
   ],
   "source": [
    "#---Create access control graph---\n",
    "gur = xsm.load_gur(usrlabels, reslabels, usrlabel_to_reslabel, save=False)\n",
    "print('Num of users:', len(usrlabels))\n",
    "print('Num of resources:', len(reslabels))\n",
    "print('Num of edges:', len(gur.es))"
   ]
  },
  {
   "cell_type": "code",
   "execution_count": 13,
   "id": "584fce5f",
   "metadata": {},
   "outputs": [],
   "source": [
    "#Get attribute-values of users\n",
    "userlog_objs = list(usrlabel_to_attvals.values())\n",
    "\n",
    "resvidx_to_neighattvals = dict()\n",
    "for vidx,v in enumerate(gur.vs):\n",
    "    if v['type'] == True:\n",
    "        neighattvals = set()\n",
    "        for usrvidx in gur.neighbors(v):\n",
    "            neighattvals |= set(userlog_objs[usrvidx])\n",
    "            \n",
    "        resvidx_to_neighattvals[vidx] = list(neighattvals)"
   ]
  },
  {
   "cell_type": "markdown",
   "id": "0b0f4d74",
   "metadata": {},
   "source": [
    "### Resoure degree distribution"
   ]
  },
  {
   "cell_type": "code",
   "execution_count": 14,
   "id": "09cf14f8",
   "metadata": {},
   "outputs": [
    {
     "data": {
      "image/png": "[encoded data removed]",
      "text/plain": [
       "<Figure size 432x288 with 1 Axes>"
      ]
     },
     "metadata": {
      "needs_background": "light"
     },
     "output_type": "display_data"
    }
   ],
   "source": [
    "#Degree distribution\n",
    "vidx_to_deg_res, degs_to_freq = get_degdistrib(gur, isbottom = True)\n",
    "degs_res = list(degs_to_freq.keys())\n",
    "count_res = list(degs_to_freq.values())\n",
    "\n",
    "plt.plot(degs_res,count_res,'r-')\n",
    "plt.title('Degree distribution')\n",
    "plt.ylabel('freq')\n",
    "plt.xlabel('k')\n",
    "plt.show()"
   ]
  },
  {
   "cell_type": "markdown",
   "id": "e784a742",
   "metadata": {},
   "source": [
    "### User degree distribution"
   ]
  },
  {
   "cell_type": "code",
   "execution_count": 15,
   "id": "7cdd7eb5",
   "metadata": {},
   "outputs": [
    {
     "data": {
      "image/png": "[encoded data removed]",
      "text/plain": [
       "<Figure size 432x288 with 1 Axes>"
      ]
     },
     "metadata": {
      "needs_background": "light"
     },
     "output_type": "display_data"
    }
   ],
   "source": [
    "vidx_to_deg_usr, degs_to_count = get_degdistrib(gur, isbottom = False)\n",
    "degs_usr = list(degs_to_count.keys())\n",
    "count_usr = list(degs_to_count.values())\n",
    "\n",
    "plt.plot(degs_usr,count_usr,'r-')\n",
    "plt.title('Degree distribution')\n",
    "plt.ylabel('freq')\n",
    "plt.xlabel('k')\n",
    "plt.show()"
   ]
  },
  {
   "cell_type": "code",
   "execution_count": null,
   "id": "f6f10228",
   "metadata": {},
   "outputs": [],
   "source": []
  }
 ],
 "metadata": {
  "kernelspec": {
   "display_name": "Python 3 (ipykernel)",
   "language": "python",
   "name": "python3"
  },
  "language_info": {
   "codemirror_mode": {
    "name": "ipython",
    "version": 3
   },
   "file_extension": ".py",
   "mimetype": "text/x-python",
   "name": "python",
   "nbconvert_exporter": "python",
   "pygments_lexer": "ipython3",
   "version": "3.9.16"
  }
 },
 "nbformat": 4,
 "nbformat_minor": 5
}

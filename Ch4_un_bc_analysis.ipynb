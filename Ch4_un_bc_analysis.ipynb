{
 "cells": [
  {
   "cell_type": "code",
   "execution_count": 1,
   "id": "b81a0247",
   "metadata": {},
   "outputs": [],
   "source": [
    "import numpy as np\n",
    "import pandas as pd\n",
    "import matplotlib.pyplot as plt\n",
    "import igraph as ig\n",
    "from collections import Counter\n",
    "import pickle\n",
    "import math\n",
    "\n",
    "from src import acgraph as acg\n",
    "from src import bcloader as bcl\n",
    "from src import utils as ut\n",
    "from src import bcgraph as bcg\n",
    "from efficient_apriori import apriori\n",
    "from src import xsmining as xsm"
   ]
  },
  {
   "cell_type": "code",
   "execution_count": 6,
   "id": "d04c925d",
   "metadata": {},
   "outputs": [
    {
     "name": "stdout",
     "output_type": "stream",
     "text": [
      "Num entries: 2606\n"
     ]
    }
   ],
   "source": [
    "usrlabels, usrlabel_to_attvals, usrname_to_usrlabel, \\\n",
    "reslabels, reslabel_to_attvals, resname_to_reslabel, usrlabel_to_reslabel = xsm.load_dataset(name='UN')\n",
    "print('Num entries:', len(usrlabel_to_reslabel))"
   ]
  },
  {
   "cell_type": "code",
   "execution_count": 7,
   "id": "bd8ccdad",
   "metadata": {},
   "outputs": [
    {
     "name": "stdout",
     "output_type": "stream",
     "text": [
      "Num atts: 10\n",
      "Num attvals: 576\n"
     ]
    }
   ],
   "source": [
    "usratts = set()\n",
    "for attvals in usrlabel_to_attvals.values():\n",
    "    for attval in attvals:\n",
    "        usratts.add(attval[0])\n",
    "\n",
    "resatts = set()\n",
    "for attvals in reslabel_to_attvals.values():\n",
    "    for attval in attvals:\n",
    "        resatts.add(attval[0])\n",
    "    \n",
    "print('Num atts:', len(usratts) + len(resatts))\n",
    "print('Num attvals:', len(usrlabel_to_attvals) + len(reslabel_to_attvals))"
   ]
  },
  {
   "cell_type": "code",
   "execution_count": 8,
   "id": "87215b02",
   "metadata": {},
   "outputs": [
    {
     "name": "stdout",
     "output_type": "stream",
     "text": [
      "Num of users: 196\n",
      "Num of resources: 377\n",
      "Num of edges: 2606\n"
     ]
    }
   ],
   "source": [
    "#---Create access control graph---\n",
    "gur = xsm.load_gur(usrlabels, reslabels, usrlabel_to_reslabel, save=False)\n",
    "print('Num of users:', len(usrlabels))\n",
    "print('Num of resources:', len(reslabels))\n",
    "print('Num of edges:', len(gur.es))"
   ]
  },
  {
   "cell_type": "code",
   "execution_count": 10,
   "id": "bc2e8bc3",
   "metadata": {},
   "outputs": [
    {
     "name": "stdout",
     "output_type": "stream",
     "text": [
      "Num of bcs: 705\n",
      "Number of covered edges: 1724\n",
      "Number of covered users: 196\n",
      "Number of covered resources: 368\n"
     ]
    },
    {
     "data": {
      "image/png": "[encoded data removed]",
      "text/plain": [
       "<Figure size 432x288 with 2 Axes>"
      ]
     },
     "metadata": {
      "needs_background": "light"
     },
     "output_type": "display_data"
    }
   ],
   "source": [
    "#---Load bicliques---\n",
    "k = (1,1)\n",
    "bcs = xsm.load_bicliques('UN', gur, k, usrlabel_to_attvals, reslabel_to_attvals)\n",
    "print('Num of bcs:', len(bcs))\n",
    "print('Number of covered edges:', xsm.get_num_covered_edges(bcs))\n",
    "print('Number of covered users:', xsm.get_num_covered_users(bcs))\n",
    "print('Number of covered resources:', xsm.get_num_covered_resources(bcs))\n",
    "xsm.plot_sizes_freq(bcs, None)"
   ]
  },
  {
   "cell_type": "code",
   "execution_count": 11,
   "id": "f6912397",
   "metadata": {},
   "outputs": [
    {
     "name": "stdout",
     "output_type": "stream",
     "text": [
      "Largest symm bc: 7\n"
     ]
    }
   ],
   "source": [
    "temp = []\n",
    "for bc in bcs:\n",
    "    if len(bc.get_usrids()) == len(bc.get_resids()):\n",
    "        temp.append(bc)\n",
    "x = max([len(bc.get_resids()) for bc in temp])\n",
    "print('Largest symm bc:', x)"
   ]
  },
  {
   "cell_type": "code",
   "execution_count": 12,
   "id": "2a8311e3",
   "metadata": {},
   "outputs": [
    {
     "name": "stdout",
     "output_type": "stream",
     "text": [
      "Num of bcs with regular patterns: 279\n",
      "Number of covered edges: 984\n",
      "Number of covered users: 166\n",
      "Number of covered resources: 306\n"
     ]
    }
   ],
   "source": [
    "subbcs = xsm.get_subbcs(bcs)\n",
    "print('Num of bcs with regular patterns:', len(subbcs))\n",
    "print('Number of covered edges:', xsm.get_num_covered_edges(subbcs))\n",
    "print('Number of covered users:', xsm.get_num_covered_users(subbcs))\n",
    "print('Number of covered resources:', xsm.get_num_covered_resources(subbcs))"
   ]
  },
  {
   "cell_type": "code",
   "execution_count": null,
   "id": "8bd0d79b",
   "metadata": {},
   "outputs": [],
   "source": []
  }
 ],
 "metadata": {
  "kernelspec": {
   "display_name": "Python 3 (ipykernel)",
   "language": "python",
   "name": "python3"
  },
  "language_info": {
   "codemirror_mode": {
    "name": "ipython",
    "version": 3
   },
   "file_extension": ".py",
   "mimetype": "text/x-python",
   "name": "python",
   "nbconvert_exporter": "python",
   "pygments_lexer": "ipython3",
   "version": "3.9.16"
  }
 },
 "nbformat": 4,
 "nbformat_minor": 5
}

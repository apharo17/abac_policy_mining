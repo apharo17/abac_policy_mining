{
 "cells": [
  {
   "cell_type": "code",
   "execution_count": 1,
   "metadata": {},
   "outputs": [],
   "source": [
    "import numpy as np\n",
    "import pandas as pd\n",
    "import matplotlib.pyplot as plt\n",
    "import igraph as ig\n",
    "from collections import Counter\n",
    "import pickle\n",
    "import math\n",
    "\n",
    "from src import acgraph as acg\n",
    "from src import bcloader as bcl\n",
    "from src import utils as ut"
   ]
  },
  {
   "cell_type": "markdown",
   "metadata": {},
   "source": [
    "### Load access control graph"
   ]
  },
  {
   "cell_type": "code",
   "execution_count": 2,
   "metadata": {},
   "outputs": [
    {
     "name": "stdout",
     "output_type": "stream",
     "text": [
      "---Control Access Graph---\n",
      "Total edges: 144435\n",
      "Total vertices: 24062\n",
      "Num users: 17612\n",
      "Num resources: 6450\n"
     ]
    }
   ],
   "source": [
    "rel_attnames = ['PERSON_BUSINESS_TITLE',\n",
    "#'PERSON_BUSINESS_TITLE_DETAIL',\n",
    "'PERSON_COMPANY',\n",
    "'PERSON_DEPTNAME',\n",
    "'PERSON_JOB_CODE',\n",
    "'PERSON_JOB_FAMILY',\n",
    "#'PERSON_MGR_ID',\n",
    "'PERSON_ROLLUP_1',\n",
    "'PERSON_ROLLUP_2']\n",
    "gur = acg.load_azuci_graph(rel_attnames=rel_attnames)\n",
    "print('---Control Access Graph---')\n",
    "print('Total edges:', len(gur.es))\n",
    "print('Total vertices:', len(gur.vs))\n",
    "\n",
    "gur_usrlabels,gur_reslabels = acg.get_labels(gur, byweights=True)\n",
    "print('Num users:',len(gur_usrlabels))\n",
    "print('Num resources:', len(gur_reslabels))"
   ]
  },
  {
   "cell_type": "code",
   "execution_count": 3,
   "metadata": {},
   "outputs": [
    {
     "name": "stdout",
     "output_type": "stream",
     "text": [
      "---Largest Connected Component---\n",
      "Total edges: 144422\n",
      "Total vertices: 24043\n",
      "Num users: 17602\n",
      "Num resources: 6441\n"
     ]
    }
   ],
   "source": [
    "#Extract the largest connected component\n",
    "maxcc_gur = acg.get_largestcc(gur)\n",
    "print('---Largest Connected Component---')\n",
    "print('Total edges:', len(maxcc_gur.es))\n",
    "print('Total vertices:', len(maxcc_gur.vs))\n",
    "\n",
    "#Sort by degrees\n",
    "maxcc_usrlabels,maxcc_reslabels = acg.get_labels(maxcc_gur, byweights=False)\n",
    "print('Num users:',len(maxcc_usrlabels))\n",
    "print('Num resources:', len(maxcc_reslabels))"
   ]
  },
  {
   "cell_type": "markdown",
   "metadata": {},
   "source": [
    "### Load bicliques"
   ]
  },
  {
   "cell_type": "code",
   "execution_count": 4,
   "metadata": {},
   "outputs": [],
   "source": [
    "#bcs = bcl.load_bicliques('bcfinder_bicliques/maxcc_azuci_1_1_1000_1000.bi', maxcc_gur, rel_attnames, k=(1,1), l=1)\n",
    "#print('Number of maximal bicliques:', len(bcs))\n",
    "\n",
    "#with open('data_structures/maxcc_azuci_bcs_v2.pkl', 'wb') as f:\n",
    "#    pickle.dump(bcs, f)"
   ]
  },
  {
   "cell_type": "code",
   "execution_count": 5,
   "metadata": {},
   "outputs": [],
   "source": [
    "with open('data_structures/maxcc_azuci_bcs_v2.pkl', 'rb') as f:\n",
    "    bcs = pickle.load(f)"
   ]
  },
  {
   "cell_type": "markdown",
   "metadata": {},
   "source": [
    "### Define functions for the biclique analysis"
   ]
  },
  {
   "cell_type": "code",
   "execution_count": 6,
   "metadata": {},
   "outputs": [],
   "source": [
    "import matplotlib.cm as cm\n",
    "import matplotlib.colors\n",
    "\n",
    "def plot_sizes_freq(bcs,fname):\n",
    "    #It shows a colorimetric plot of the frequency sizes of bcs,\n",
    "    #and saves the image in fname\n",
    "    sizes = []\n",
    "    \n",
    "    for bc in bcs:\n",
    "        sizes.append((len(bc.get_usrids()),len(bc.get_resids())))\n",
    "    sizes_counter = Counter(sizes)\n",
    "    dict_temp = dict(sizes_counter)\n",
    "    #Ascending order in freq to avoid overlapping of frequent sizes\n",
    "    dict_temp = {k: v for k, v in sorted(dict_temp.items(), key=lambda item: item[1])}\n",
    "    \n",
    "    list_temp = list(dict_temp.keys())\n",
    "    unzipped_object = zip(*list_temp)\n",
    "    unzipped_list = list(unzipped_object)\n",
    "\n",
    "    x = unzipped_list[0]\n",
    "    y = unzipped_list[1]\n",
    "    f = list(dict_temp.values())\n",
    "\n",
    "    plt.scatter(x,y,c=f,marker='.', norm=matplotlib.colors.LogNorm())\n",
    "    plt.colorbar()\n",
    "    plt.xlabel('Number of users')\n",
    "    plt.ylabel('Number of resources')\n",
    "    #plt.savefig(fname+'.png')\n",
    "    plt.show()"
   ]
  },
  {
   "cell_type": "code",
   "execution_count": 7,
   "metadata": {},
   "outputs": [],
   "source": [
    "def get_num_covered_edges(bcs):\n",
    "    #Return the number of edges of gur that is covered by bcs\n",
    "    edges_set = set()\n",
    "    for bc in bcs:\n",
    "        for usrid in bc.get_usrids():\n",
    "            for resid in bc.get_resids():\n",
    "                edges_set.add((usrid,resid))\n",
    "    return len(edges_set)\n",
    "\n",
    "\n",
    "def get_num_covered_users(bcs):\n",
    "    usrids_set = set()\n",
    "\n",
    "    for bc in bcs:\n",
    "        usrids_ = bc.get_usrids()\n",
    "\n",
    "        if len(usrids_set) == 0: usrids_set = set(usrids_)\n",
    "        else: usrids_set |= set(usrids_)\n",
    "\n",
    "    return len(usrids_set)\n",
    "\n",
    "\n",
    "def get_num_covered_resources(bcs):\n",
    "    resids_set = set()\n",
    "\n",
    "    for bc in bcs:\n",
    "        resids_ = bc.get_resids()\n",
    "\n",
    "        if len(resids_set) == 0: resids_set = set(resids_)\n",
    "        else: resids_set |= set(resids_)\n",
    "\n",
    "    return len(resids_set)\n"
   ]
  },
  {
   "cell_type": "code",
   "execution_count": null,
   "metadata": {},
   "outputs": [],
   "source": [
    "import math\n",
    "\n",
    "sizes = []    \n",
    "for bc in bcs:\n",
    "    sizes.append((len(bc.get_usrids()),len(bc.get_resids())))\n",
    "sizes_counter = Counter(sizes)\n",
    "dict_temp = dict(sizes_counter)\n",
    "#Ascending order in freq to avoid overlapping of frequent sizes\n",
    "dict_temp = {k: v for k, v in sorted(dict_temp.items(), key=lambda item: item[1])}\n",
    "\n",
    "list_temp = list(dict_temp.keys())\n",
    "unzipped_object = zip(*list_temp)\n",
    "unzipped_list = list(unzipped_object)\n",
    "\n",
    "freqs = list(dict_temp.values())\n",
    "sumf = sum(freqs)\n",
    "strout = 'k1 k2 P\\n'\n",
    "#f = open('azuci_biclique_distrib.dat','w')\n",
    "f.write(strout)\n",
    "for i in range(len(dict_temp)):\n",
    "    k1 = unzipped_list[0][i]*1.0\n",
    "    k2 = unzipped_list[1][i]*1.0\n",
    "    freq = freqs[i]*1.0\n",
    "    prob = freq/sumf\n",
    "    prob=math.log10(prob)\n",
    "    strout = str(k1)+' '+str(k2)+' '+str(prob)+'\\n'\n",
    "    #f.write(strout)\n",
    "    \n",
    "f.close()"
   ]
  },
  {
   "cell_type": "markdown",
   "metadata": {},
   "source": [
    "### Analyze bicliques"
   ]
  },
  {
   "cell_type": "markdown",
   "metadata": {},
   "source": [
    "**Maximal bicliques**"
   ]
  },
  {
   "cell_type": "code",
   "execution_count": 9,
   "metadata": {},
   "outputs": [
    {
     "name": "stdout",
     "output_type": "stream",
     "text": [
      "Number of maximal bicliques: 1082696\n",
      "Number of covered edges: 142168\n",
      "Number of covered users: 16772\n",
      "Number of covered resources: 6441\n"
     ]
    }
   ],
   "source": [
    "print('Number of maximal bicliques:', len(bcs))\n",
    "print('Number of covered edges:', get_num_covered_edges(bcs))\n",
    "print('Number of covered users:', get_num_covered_users(bcs))\n",
    "print('Number of covered resources:', get_num_covered_resources(bcs))"
   ]
  },
  {
   "cell_type": "code",
   "execution_count": 10,
   "metadata": {},
   "outputs": [
    {
     "data": {
      "image/png": "[encoded data removed]",
      "text/plain": [
       "<Figure size 432x288 with 2 Axes>"
      ]
     },
     "metadata": {
      "needs_background": "light"
     },
     "output_type": "display_data"
    }
   ],
   "source": [
    "plot_sizes_freq(bcs,'bcs')"
   ]
  },
  {
   "cell_type": "code",
   "execution_count": 11,
   "metadata": {},
   "outputs": [
    {
     "name": "stdout",
     "output_type": "stream",
     "text": [
      "Largest symm bc: 16\n"
     ]
    }
   ],
   "source": [
    "temp = []\n",
    "for bc in bcs:\n",
    "    if len(bc.get_usrids()) == len(bc.get_resids()):\n",
    "        temp.append(bc)\n",
    "x = max([len(bc.get_resids()) for bc in temp])\n",
    "print('Largest symm bc:', x)"
   ]
  },
  {
   "cell_type": "markdown",
   "metadata": {},
   "source": [
    "**Attribute homogeneous bicliques**"
   ]
  },
  {
   "cell_type": "code",
   "execution_count": 13,
   "metadata": {},
   "outputs": [],
   "source": [
    "hbcs = []\n",
    "for bc in bcs:\n",
    "    if bc.get_pattern() != None:\n",
    "        hbcs.append(bc)"
   ]
  },
  {
   "cell_type": "code",
   "execution_count": 14,
   "metadata": {},
   "outputs": [
    {
     "name": "stdout",
     "output_type": "stream",
     "text": [
      "Number of maximal bicliques: 765496\n",
      "Number of covered edges: 130676\n",
      "Number of covered users: 11537\n",
      "Number of covered resources: 6441\n"
     ]
    }
   ],
   "source": [
    "print('Number of maximal bicliques:', len(hbcs))\n",
    "print('Number of covered edges:', get_num_covered_edges(hbcs))\n",
    "print('Number of covered users:', get_num_covered_users(hbcs))\n",
    "print('Number of covered resources:', get_num_covered_resources(hbcs))"
   ]
  },
  {
   "cell_type": "code",
   "execution_count": 15,
   "metadata": {},
   "outputs": [
    {
     "data": {
      "image/png": "[encoded data removed]",
      "text/plain": [
       "<Figure size 432x288 with 2 Axes>"
      ]
     },
     "metadata": {
      "needs_background": "light"
     },
     "output_type": "display_data"
    }
   ],
   "source": [
    "plot_sizes_freq(hbcs,'hbcs')"
   ]
  },
  {
   "cell_type": "code",
   "execution_count": null,
   "metadata": {},
   "outputs": [],
   "source": []
  }
 ],
 "metadata": {
  "kernelspec": {
   "display_name": "Python 3 (ipykernel)",
   "language": "python",
   "name": "python3"
  },
  "language_info": {
   "codemirror_mode": {
    "name": "ipython",
    "version": 3
   },
   "file_extension": ".py",
   "mimetype": "text/x-python",
   "name": "python",
   "nbconvert_exporter": "python",
   "pygments_lexer": "ipython3",
   "version": "3.9.16"
  }
 },
 "nbformat": 4,
 "nbformat_minor": 4
}
